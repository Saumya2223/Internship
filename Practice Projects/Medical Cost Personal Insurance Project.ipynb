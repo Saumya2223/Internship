{
 "cells": [
  {
   "cell_type": "code",
   "execution_count": 92,
   "id": "a0d65b46",
   "metadata": {},
   "outputs": [],
   "source": [
    "#importing required libraries\n",
    "\n",
    "import pandas as pd\n",
    "import numpy as np\n",
    "import seaborn as sns\n",
    "import matplotlib.pyplot as plt\n",
    "import warnings\n",
    "warnings.filterwarnings('ignore')"
   ]
  },
  {
   "cell_type": "code",
   "execution_count": 93,
   "id": "ff7b93a3",
   "metadata": {},
   "outputs": [],
   "source": [
    "# creating Dataframe by importing medical_cost_insurance.csv file\n",
    "df = pd.read_csv('C:/Users/Rahul/Desktop/Internship/medical_Cost_insurance.csv')"
   ]
  },
  {
   "cell_type": "code",
   "execution_count": 94,
   "id": "bcc7b39a",
   "metadata": {},
   "outputs": [
    {
     "data": {
      "text/html": [
       "<div>\n",
       "<style scoped>\n",
       "    .dataframe tbody tr th:only-of-type {\n",
       "        vertical-align: middle;\n",
       "    }\n",
       "\n",
       "    .dataframe tbody tr th {\n",
       "        vertical-align: top;\n",
       "    }\n",
       "\n",
       "    .dataframe thead th {\n",
       "        text-align: right;\n",
       "    }\n",
       "</style>\n",
       "<table border=\"1\" class=\"dataframe\">\n",
       "  <thead>\n",
       "    <tr style=\"text-align: right;\">\n",
       "      <th></th>\n",
       "      <th>age</th>\n",
       "      <th>sex</th>\n",
       "      <th>bmi</th>\n",
       "      <th>children</th>\n",
       "      <th>smoker</th>\n",
       "      <th>region</th>\n",
       "      <th>charges</th>\n",
       "    </tr>\n",
       "  </thead>\n",
       "  <tbody>\n",
       "    <tr>\n",
       "      <th>0</th>\n",
       "      <td>19</td>\n",
       "      <td>female</td>\n",
       "      <td>27.900</td>\n",
       "      <td>0</td>\n",
       "      <td>yes</td>\n",
       "      <td>southwest</td>\n",
       "      <td>16884.92400</td>\n",
       "    </tr>\n",
       "    <tr>\n",
       "      <th>1</th>\n",
       "      <td>18</td>\n",
       "      <td>male</td>\n",
       "      <td>33.770</td>\n",
       "      <td>1</td>\n",
       "      <td>no</td>\n",
       "      <td>southeast</td>\n",
       "      <td>1725.55230</td>\n",
       "    </tr>\n",
       "    <tr>\n",
       "      <th>2</th>\n",
       "      <td>28</td>\n",
       "      <td>male</td>\n",
       "      <td>33.000</td>\n",
       "      <td>3</td>\n",
       "      <td>no</td>\n",
       "      <td>southeast</td>\n",
       "      <td>4449.46200</td>\n",
       "    </tr>\n",
       "    <tr>\n",
       "      <th>3</th>\n",
       "      <td>33</td>\n",
       "      <td>male</td>\n",
       "      <td>22.705</td>\n",
       "      <td>0</td>\n",
       "      <td>no</td>\n",
       "      <td>northwest</td>\n",
       "      <td>21984.47061</td>\n",
       "    </tr>\n",
       "    <tr>\n",
       "      <th>4</th>\n",
       "      <td>32</td>\n",
       "      <td>male</td>\n",
       "      <td>28.880</td>\n",
       "      <td>0</td>\n",
       "      <td>no</td>\n",
       "      <td>northwest</td>\n",
       "      <td>3866.85520</td>\n",
       "    </tr>\n",
       "    <tr>\n",
       "      <th>...</th>\n",
       "      <td>...</td>\n",
       "      <td>...</td>\n",
       "      <td>...</td>\n",
       "      <td>...</td>\n",
       "      <td>...</td>\n",
       "      <td>...</td>\n",
       "      <td>...</td>\n",
       "    </tr>\n",
       "    <tr>\n",
       "      <th>1333</th>\n",
       "      <td>50</td>\n",
       "      <td>male</td>\n",
       "      <td>30.970</td>\n",
       "      <td>3</td>\n",
       "      <td>no</td>\n",
       "      <td>northwest</td>\n",
       "      <td>10600.54830</td>\n",
       "    </tr>\n",
       "    <tr>\n",
       "      <th>1334</th>\n",
       "      <td>18</td>\n",
       "      <td>female</td>\n",
       "      <td>31.920</td>\n",
       "      <td>0</td>\n",
       "      <td>no</td>\n",
       "      <td>northeast</td>\n",
       "      <td>2205.98080</td>\n",
       "    </tr>\n",
       "    <tr>\n",
       "      <th>1335</th>\n",
       "      <td>18</td>\n",
       "      <td>female</td>\n",
       "      <td>36.850</td>\n",
       "      <td>0</td>\n",
       "      <td>no</td>\n",
       "      <td>southeast</td>\n",
       "      <td>1629.83350</td>\n",
       "    </tr>\n",
       "    <tr>\n",
       "      <th>1336</th>\n",
       "      <td>21</td>\n",
       "      <td>female</td>\n",
       "      <td>25.800</td>\n",
       "      <td>0</td>\n",
       "      <td>no</td>\n",
       "      <td>southwest</td>\n",
       "      <td>2007.94500</td>\n",
       "    </tr>\n",
       "    <tr>\n",
       "      <th>1337</th>\n",
       "      <td>61</td>\n",
       "      <td>female</td>\n",
       "      <td>29.070</td>\n",
       "      <td>0</td>\n",
       "      <td>yes</td>\n",
       "      <td>northwest</td>\n",
       "      <td>29141.36030</td>\n",
       "    </tr>\n",
       "  </tbody>\n",
       "</table>\n",
       "<p>1338 rows × 7 columns</p>\n",
       "</div>"
      ],
      "text/plain": [
       "      age     sex     bmi  children smoker     region      charges\n",
       "0      19  female  27.900         0    yes  southwest  16884.92400\n",
       "1      18    male  33.770         1     no  southeast   1725.55230\n",
       "2      28    male  33.000         3     no  southeast   4449.46200\n",
       "3      33    male  22.705         0     no  northwest  21984.47061\n",
       "4      32    male  28.880         0     no  northwest   3866.85520\n",
       "...   ...     ...     ...       ...    ...        ...          ...\n",
       "1333   50    male  30.970         3     no  northwest  10600.54830\n",
       "1334   18  female  31.920         0     no  northeast   2205.98080\n",
       "1335   18  female  36.850         0     no  southeast   1629.83350\n",
       "1336   21  female  25.800         0     no  southwest   2007.94500\n",
       "1337   61  female  29.070         0    yes  northwest  29141.36030\n",
       "\n",
       "[1338 rows x 7 columns]"
      ]
     },
     "execution_count": 94,
     "metadata": {},
     "output_type": "execute_result"
    }
   ],
   "source": [
    "df"
   ]
  },
  {
   "cell_type": "code",
   "execution_count": 95,
   "id": "b625ce01",
   "metadata": {},
   "outputs": [
    {
     "data": {
      "text/plain": [
       "(1338, 7)"
      ]
     },
     "execution_count": 95,
     "metadata": {},
     "output_type": "execute_result"
    }
   ],
   "source": [
    "df.shape"
   ]
  },
  {
   "cell_type": "code",
   "execution_count": 96,
   "id": "ae56f51b",
   "metadata": {},
   "outputs": [
    {
     "data": {
      "text/plain": [
       "age           int64\n",
       "sex          object\n",
       "bmi         float64\n",
       "children      int64\n",
       "smoker       object\n",
       "region       object\n",
       "charges     float64\n",
       "dtype: object"
      ]
     },
     "execution_count": 96,
     "metadata": {},
     "output_type": "execute_result"
    }
   ],
   "source": [
    "df.dtypes"
   ]
  },
  {
   "cell_type": "code",
   "execution_count": 97,
   "id": "732781f4",
   "metadata": {},
   "outputs": [
    {
     "data": {
      "text/plain": [
       "age         0\n",
       "sex         0\n",
       "bmi         0\n",
       "children    0\n",
       "smoker      0\n",
       "region      0\n",
       "charges     0\n",
       "dtype: int64"
      ]
     },
     "execution_count": 97,
     "metadata": {},
     "output_type": "execute_result"
    }
   ],
   "source": [
    "#Checking for Null values in the Data frame\n",
    "df.isna().sum()"
   ]
  },
  {
   "cell_type": "code",
   "execution_count": 98,
   "id": "48e8656d",
   "metadata": {},
   "outputs": [
    {
     "data": {
      "text/plain": [
       "<AxesSubplot:>"
      ]
     },
     "execution_count": 98,
     "metadata": {},
     "output_type": "execute_result"
    },
    {
     "data": {
      "image/png": "[encoded data removed]",
      "text/plain": [
       "<Figure size 432x288 with 2 Axes>"
      ]
     },
     "metadata": {
      "needs_background": "light"
     },
     "output_type": "display_data"
    }
   ],
   "source": [
    "sns.heatmap(df.isna())"
   ]
  },
  {
   "cell_type": "markdown",
   "id": "69ebd4fb",
   "metadata": {},
   "source": [
    "No null/Nan values found in df"
   ]
  },
  {
   "cell_type": "code",
   "execution_count": 99,
   "id": "d1406c2e",
   "metadata": {},
   "outputs": [
    {
     "name": "stdout",
     "output_type": "stream",
     "text": [
      "<class 'pandas.core.frame.DataFrame'>\n",
      "RangeIndex: 1338 entries, 0 to 1337\n",
      "Data columns (total 7 columns):\n",
      " #   Column    Non-Null Count  Dtype  \n",
      "---  ------    --------------  -----  \n",
      " 0   age       1338 non-null   int64  \n",
      " 1   sex       1338 non-null   object \n",
      " 2   bmi       1338 non-null   float64\n",
      " 3   children  1338 non-null   int64  \n",
      " 4   smoker    1338 non-null   object \n",
      " 5   region    1338 non-null   object \n",
      " 6   charges   1338 non-null   float64\n",
      "dtypes: float64(2), int64(2), object(3)\n",
      "memory usage: 73.3+ KB\n"
     ]
    }
   ],
   "source": [
    "df.info()"
   ]
  },
  {
   "cell_type": "markdown",
   "id": "6a0de46b",
   "metadata": {},
   "source": [
    "age,children are int64 data type columns.\n",
    "bmi & charges are float64 data type columns.\n",
    "sex,smoker,region are object data type columns."
   ]
  },
  {
   "cell_type": "code",
   "execution_count": 100,
   "id": "dd612514",
   "metadata": {},
   "outputs": [
    {
     "data": {
      "text/plain": [
       "1"
      ]
     },
     "execution_count": 100,
     "metadata": {},
     "output_type": "execute_result"
    }
   ],
   "source": [
    "#Finding duplicate rows inside the dataframe\n",
    "df.duplicated(keep='first').sum()"
   ]
  },
  {
   "cell_type": "markdown",
   "id": "cccb590c",
   "metadata": {},
   "source": [
    "1 duplicate row found in the data frame."
   ]
  },
  {
   "cell_type": "code",
   "execution_count": 101,
   "id": "cfecadea",
   "metadata": {},
   "outputs": [],
   "source": [
    "#Removing the duplicate values except for the first occurence\n",
    "df.drop_duplicates(inplace=True)"
   ]
  },
  {
   "cell_type": "code",
   "execution_count": 102,
   "id": "091857d1",
   "metadata": {},
   "outputs": [
    {
     "data": {
      "text/plain": [
       "(1337, 7)"
      ]
     },
     "execution_count": 102,
     "metadata": {},
     "output_type": "execute_result"
    }
   ],
   "source": [
    "#Checking the shape of Dataframe\n",
    "df.shape"
   ]
  },
  {
   "cell_type": "markdown",
   "id": "08e0f8ec",
   "metadata": {},
   "source": [
    "The new shape is 1337 rows & 7 columns."
   ]
  },
  {
   "cell_type": "code",
   "execution_count": 103,
   "id": "19fda430",
   "metadata": {},
   "outputs": [
    {
     "data": {
      "text/plain": [
       "Index(['age', 'sex', 'bmi', 'children', 'smoker', 'region', 'charges'], dtype='object')"
      ]
     },
     "execution_count": 103,
     "metadata": {},
     "output_type": "execute_result"
    }
   ],
   "source": [
    "df.columns"
   ]
  },
  {
   "cell_type": "code",
   "execution_count": 104,
   "id": "85a12842",
   "metadata": {},
   "outputs": [
    {
     "data": {
      "text/plain": [
       "['age', 'sex', 'bmi', 'children', 'smoker', 'region', 'charges']"
      ]
     },
     "execution_count": 104,
     "metadata": {},
     "output_type": "execute_result"
    }
   ],
   "source": [
    "#Creating list of columns\n",
    "df.columns.tolist()"
   ]
  },
  {
   "cell_type": "code",
   "execution_count": 105,
   "id": "f26ec1ea",
   "metadata": {},
   "outputs": [
    {
     "data": {
      "text/html": [
       "<div>\n",
       "<style scoped>\n",
       "    .dataframe tbody tr th:only-of-type {\n",
       "        vertical-align: middle;\n",
       "    }\n",
       "\n",
       "    .dataframe tbody tr th {\n",
       "        vertical-align: top;\n",
       "    }\n",
       "\n",
       "    .dataframe thead th {\n",
       "        text-align: right;\n",
       "    }\n",
       "</style>\n",
       "<table border=\"1\" class=\"dataframe\">\n",
       "  <thead>\n",
       "    <tr style=\"text-align: right;\">\n",
       "      <th></th>\n",
       "      <th>age</th>\n",
       "      <th>sex</th>\n",
       "      <th>bmi</th>\n",
       "      <th>children</th>\n",
       "      <th>smoker</th>\n",
       "      <th>region</th>\n",
       "      <th>charges</th>\n",
       "    </tr>\n",
       "  </thead>\n",
       "  <tbody>\n",
       "    <tr>\n",
       "      <th>0</th>\n",
       "      <td>19</td>\n",
       "      <td>female</td>\n",
       "      <td>27.900</td>\n",
       "      <td>0</td>\n",
       "      <td>yes</td>\n",
       "      <td>southwest</td>\n",
       "      <td>16884.92400</td>\n",
       "    </tr>\n",
       "    <tr>\n",
       "      <th>1</th>\n",
       "      <td>18</td>\n",
       "      <td>male</td>\n",
       "      <td>33.770</td>\n",
       "      <td>1</td>\n",
       "      <td>no</td>\n",
       "      <td>southeast</td>\n",
       "      <td>1725.55230</td>\n",
       "    </tr>\n",
       "    <tr>\n",
       "      <th>2</th>\n",
       "      <td>28</td>\n",
       "      <td>male</td>\n",
       "      <td>33.000</td>\n",
       "      <td>3</td>\n",
       "      <td>no</td>\n",
       "      <td>southeast</td>\n",
       "      <td>4449.46200</td>\n",
       "    </tr>\n",
       "    <tr>\n",
       "      <th>3</th>\n",
       "      <td>33</td>\n",
       "      <td>male</td>\n",
       "      <td>22.705</td>\n",
       "      <td>0</td>\n",
       "      <td>no</td>\n",
       "      <td>northwest</td>\n",
       "      <td>21984.47061</td>\n",
       "    </tr>\n",
       "    <tr>\n",
       "      <th>4</th>\n",
       "      <td>32</td>\n",
       "      <td>male</td>\n",
       "      <td>28.880</td>\n",
       "      <td>0</td>\n",
       "      <td>no</td>\n",
       "      <td>northwest</td>\n",
       "      <td>3866.85520</td>\n",
       "    </tr>\n",
       "  </tbody>\n",
       "</table>\n",
       "</div>"
      ],
      "text/plain": [
       "   age     sex     bmi  children smoker     region      charges\n",
       "0   19  female  27.900         0    yes  southwest  16884.92400\n",
       "1   18    male  33.770         1     no  southeast   1725.55230\n",
       "2   28    male  33.000         3     no  southeast   4449.46200\n",
       "3   33    male  22.705         0     no  northwest  21984.47061\n",
       "4   32    male  28.880         0     no  northwest   3866.85520"
      ]
     },
     "execution_count": 105,
     "metadata": {},
     "output_type": "execute_result"
    }
   ],
   "source": [
    "df.head()"
   ]
  },
  {
   "cell_type": "code",
   "execution_count": 106,
   "id": "081daecd",
   "metadata": {},
   "outputs": [
    {
     "data": {
      "text/html": [
       "<div>\n",
       "<style scoped>\n",
       "    .dataframe tbody tr th:only-of-type {\n",
       "        vertical-align: middle;\n",
       "    }\n",
       "\n",
       "    .dataframe tbody tr th {\n",
       "        vertical-align: top;\n",
       "    }\n",
       "\n",
       "    .dataframe thead th {\n",
       "        text-align: right;\n",
       "    }\n",
       "</style>\n",
       "<table border=\"1\" class=\"dataframe\">\n",
       "  <thead>\n",
       "    <tr style=\"text-align: right;\">\n",
       "      <th></th>\n",
       "      <th>age</th>\n",
       "      <th>sex</th>\n",
       "      <th>bmi</th>\n",
       "      <th>children</th>\n",
       "      <th>smoker</th>\n",
       "      <th>region</th>\n",
       "      <th>charges</th>\n",
       "    </tr>\n",
       "  </thead>\n",
       "  <tbody>\n",
       "    <tr>\n",
       "      <th>1333</th>\n",
       "      <td>50</td>\n",
       "      <td>male</td>\n",
       "      <td>30.97</td>\n",
       "      <td>3</td>\n",
       "      <td>no</td>\n",
       "      <td>northwest</td>\n",
       "      <td>10600.5483</td>\n",
       "    </tr>\n",
       "    <tr>\n",
       "      <th>1334</th>\n",
       "      <td>18</td>\n",
       "      <td>female</td>\n",
       "      <td>31.92</td>\n",
       "      <td>0</td>\n",
       "      <td>no</td>\n",
       "      <td>northeast</td>\n",
       "      <td>2205.9808</td>\n",
       "    </tr>\n",
       "    <tr>\n",
       "      <th>1335</th>\n",
       "      <td>18</td>\n",
       "      <td>female</td>\n",
       "      <td>36.85</td>\n",
       "      <td>0</td>\n",
       "      <td>no</td>\n",
       "      <td>southeast</td>\n",
       "      <td>1629.8335</td>\n",
       "    </tr>\n",
       "    <tr>\n",
       "      <th>1336</th>\n",
       "      <td>21</td>\n",
       "      <td>female</td>\n",
       "      <td>25.80</td>\n",
       "      <td>0</td>\n",
       "      <td>no</td>\n",
       "      <td>southwest</td>\n",
       "      <td>2007.9450</td>\n",
       "    </tr>\n",
       "    <tr>\n",
       "      <th>1337</th>\n",
       "      <td>61</td>\n",
       "      <td>female</td>\n",
       "      <td>29.07</td>\n",
       "      <td>0</td>\n",
       "      <td>yes</td>\n",
       "      <td>northwest</td>\n",
       "      <td>29141.3603</td>\n",
       "    </tr>\n",
       "  </tbody>\n",
       "</table>\n",
       "</div>"
      ],
      "text/plain": [
       "      age     sex    bmi  children smoker     region     charges\n",
       "1333   50    male  30.97         3     no  northwest  10600.5483\n",
       "1334   18  female  31.92         0     no  northeast   2205.9808\n",
       "1335   18  female  36.85         0     no  southeast   1629.8335\n",
       "1336   21  female  25.80         0     no  southwest   2007.9450\n",
       "1337   61  female  29.07         0    yes  northwest  29141.3603"
      ]
     },
     "execution_count": 106,
     "metadata": {},
     "output_type": "execute_result"
    }
   ],
   "source": [
    "df.tail()"
   ]
  },
  {
   "cell_type": "markdown",
   "id": "002028c5",
   "metadata": {},
   "source": [
    "Our target variable is charges and rest of the columns are features."
   ]
  },
  {
   "cell_type": "code",
   "execution_count": 107,
   "id": "5cfad7cf",
   "metadata": {},
   "outputs": [
    {
     "data": {
      "text/plain": [
       "array(['female', 'male'], dtype=object)"
      ]
     },
     "execution_count": 107,
     "metadata": {},
     "output_type": "execute_result"
    }
   ],
   "source": [
    "df['sex'].unique()"
   ]
  },
  {
   "cell_type": "markdown",
   "id": "de1f9b7e",
   "metadata": {},
   "source": [
    "Only two unique values in sex column"
   ]
  },
  {
   "cell_type": "code",
   "execution_count": 108,
   "id": "07f436cd",
   "metadata": {},
   "outputs": [
    {
     "data": {
      "text/plain": [
       "array(['yes', 'no'], dtype=object)"
      ]
     },
     "execution_count": 108,
     "metadata": {},
     "output_type": "execute_result"
    }
   ],
   "source": [
    "df['smoker'].unique()"
   ]
  },
  {
   "cell_type": "markdown",
   "id": "fe946179",
   "metadata": {},
   "source": [
    "Only two unique values in smoker column"
   ]
  },
  {
   "cell_type": "code",
   "execution_count": 109,
   "id": "6315b4c6",
   "metadata": {},
   "outputs": [
    {
     "data": {
      "text/plain": [
       "array(['southwest', 'southeast', 'northwest', 'northeast'], dtype=object)"
      ]
     },
     "execution_count": 109,
     "metadata": {},
     "output_type": "execute_result"
    }
   ],
   "source": [
    "df['region'].unique()"
   ]
  },
  {
   "cell_type": "markdown",
   "id": "a4506ad8",
   "metadata": {},
   "source": [
    "Four unique values in region column"
   ]
  },
  {
   "cell_type": "code",
   "execution_count": 110,
   "id": "46c39abd",
   "metadata": {},
   "outputs": [
    {
     "name": "stdout",
     "output_type": "stream",
     "text": [
      "18    69\n",
      "19    67\n",
      "50    29\n",
      "51    29\n",
      "47    29\n",
      "46    29\n",
      "45    29\n",
      "20    29\n",
      "48    29\n",
      "52    29\n",
      "22    28\n",
      "49    28\n",
      "54    28\n",
      "53    28\n",
      "21    28\n",
      "26    28\n",
      "24    28\n",
      "25    28\n",
      "28    28\n",
      "27    28\n",
      "23    28\n",
      "43    27\n",
      "29    27\n",
      "30    27\n",
      "41    27\n",
      "42    27\n",
      "44    27\n",
      "31    27\n",
      "40    27\n",
      "32    26\n",
      "33    26\n",
      "56    26\n",
      "34    26\n",
      "55    26\n",
      "57    26\n",
      "37    25\n",
      "59    25\n",
      "58    25\n",
      "36    25\n",
      "38    25\n",
      "35    25\n",
      "39    25\n",
      "61    23\n",
      "60    23\n",
      "63    23\n",
      "62    23\n",
      "64    22\n",
      "Name: age, dtype: int64\n",
      "\n",
      "\n",
      "male      675\n",
      "female    662\n",
      "Name: sex, dtype: int64\n",
      "\n",
      "\n",
      "32.30    13\n",
      "28.31     9\n",
      "30.80     8\n",
      "31.35     8\n",
      "28.88     8\n",
      "         ..\n",
      "46.20     1\n",
      "23.80     1\n",
      "44.77     1\n",
      "32.12     1\n",
      "30.97     1\n",
      "Name: bmi, Length: 548, dtype: int64\n",
      "\n",
      "\n",
      "0    573\n",
      "1    324\n",
      "2    240\n",
      "3    157\n",
      "4     25\n",
      "5     18\n",
      "Name: children, dtype: int64\n",
      "\n",
      "\n",
      "no     1063\n",
      "yes     274\n",
      "Name: smoker, dtype: int64\n",
      "\n",
      "\n",
      "southeast    364\n",
      "southwest    325\n",
      "northwest    324\n",
      "northeast    324\n",
      "Name: region, dtype: int64\n",
      "\n",
      "\n",
      "16884.92400    1\n",
      "2117.33885     1\n",
      "2221.56445     1\n",
      "19798.05455    1\n",
      "13063.88300    1\n",
      "              ..\n",
      "7345.08400     1\n",
      "26109.32905    1\n",
      "28287.89766    1\n",
      "1149.39590     1\n",
      "29141.36030    1\n",
      "Name: charges, Length: 1337, dtype: int64\n",
      "\n",
      "\n"
     ]
    }
   ],
   "source": [
    "#checking value counts in each column\n",
    "for i in df.columns:\n",
    "    print(df[i].value_counts())\n",
    "    print('\\n')"
   ]
  },
  {
   "cell_type": "markdown",
   "id": "fc6d1cc5",
   "metadata": {},
   "source": [
    "No blank values found in data frame"
   ]
  },
  {
   "cell_type": "code",
   "execution_count": 111,
   "id": "341a3039",
   "metadata": {},
   "outputs": [
    {
     "data": {
      "text/html": [
       "<div>\n",
       "<style scoped>\n",
       "    .dataframe tbody tr th:only-of-type {\n",
       "        vertical-align: middle;\n",
       "    }\n",
       "\n",
       "    .dataframe tbody tr th {\n",
       "        vertical-align: top;\n",
       "    }\n",
       "\n",
       "    .dataframe thead th {\n",
       "        text-align: right;\n",
       "    }\n",
       "</style>\n",
       "<table border=\"1\" class=\"dataframe\">\n",
       "  <thead>\n",
       "    <tr style=\"text-align: right;\">\n",
       "      <th></th>\n",
       "      <th>age</th>\n",
       "      <th>bmi</th>\n",
       "      <th>children</th>\n",
       "      <th>charges</th>\n",
       "    </tr>\n",
       "  </thead>\n",
       "  <tbody>\n",
       "    <tr>\n",
       "      <th>count</th>\n",
       "      <td>1337.000000</td>\n",
       "      <td>1337.000000</td>\n",
       "      <td>1337.000000</td>\n",
       "      <td>1337.000000</td>\n",
       "    </tr>\n",
       "    <tr>\n",
       "      <th>mean</th>\n",
       "      <td>39.222139</td>\n",
       "      <td>30.663452</td>\n",
       "      <td>1.095737</td>\n",
       "      <td>13279.121487</td>\n",
       "    </tr>\n",
       "    <tr>\n",
       "      <th>std</th>\n",
       "      <td>14.044333</td>\n",
       "      <td>6.100468</td>\n",
       "      <td>1.205571</td>\n",
       "      <td>12110.359656</td>\n",
       "    </tr>\n",
       "    <tr>\n",
       "      <th>min</th>\n",
       "      <td>18.000000</td>\n",
       "      <td>15.960000</td>\n",
       "      <td>0.000000</td>\n",
       "      <td>1121.873900</td>\n",
       "    </tr>\n",
       "    <tr>\n",
       "      <th>25%</th>\n",
       "      <td>27.000000</td>\n",
       "      <td>26.290000</td>\n",
       "      <td>0.000000</td>\n",
       "      <td>4746.344000</td>\n",
       "    </tr>\n",
       "    <tr>\n",
       "      <th>50%</th>\n",
       "      <td>39.000000</td>\n",
       "      <td>30.400000</td>\n",
       "      <td>1.000000</td>\n",
       "      <td>9386.161300</td>\n",
       "    </tr>\n",
       "    <tr>\n",
       "      <th>75%</th>\n",
       "      <td>51.000000</td>\n",
       "      <td>34.700000</td>\n",
       "      <td>2.000000</td>\n",
       "      <td>16657.717450</td>\n",
       "    </tr>\n",
       "    <tr>\n",
       "      <th>max</th>\n",
       "      <td>64.000000</td>\n",
       "      <td>53.130000</td>\n",
       "      <td>5.000000</td>\n",
       "      <td>63770.428010</td>\n",
       "    </tr>\n",
       "  </tbody>\n",
       "</table>\n",
       "</div>"
      ],
      "text/plain": [
       "               age          bmi     children       charges\n",
       "count  1337.000000  1337.000000  1337.000000   1337.000000\n",
       "mean     39.222139    30.663452     1.095737  13279.121487\n",
       "std      14.044333     6.100468     1.205571  12110.359656\n",
       "min      18.000000    15.960000     0.000000   1121.873900\n",
       "25%      27.000000    26.290000     0.000000   4746.344000\n",
       "50%      39.000000    30.400000     1.000000   9386.161300\n",
       "75%      51.000000    34.700000     2.000000  16657.717450\n",
       "max      64.000000    53.130000     5.000000  63770.428010"
      ]
     },
     "execution_count": 111,
     "metadata": {},
     "output_type": "execute_result"
    }
   ],
   "source": [
    "df.describe()"
   ]
  },
  {
   "cell_type": "markdown",
   "id": "4ff2f573",
   "metadata": {},
   "source": [
    "1. No null values are present in any columns\n",
    "2. No negative values present\n",
    "4. Mean and median of age and bmi is very close which means they are uniformly distributed"
   ]
  },
  {
   "cell_type": "code",
   "execution_count": 112,
   "id": "eb682203",
   "metadata": {},
   "outputs": [
    {
     "data": {
      "text/plain": [
       "<seaborn.axisgrid.FacetGrid at 0x1f146fbb4c0>"
      ]
     },
     "execution_count": 112,
     "metadata": {},
     "output_type": "execute_result"
    },
    {
     "data": {
      "image/png": "[encoded data removed]",
      "text/plain": [
       "<Figure size 360x360 with 1 Axes>"
      ]
     },
     "metadata": {
      "needs_background": "light"
     },
     "output_type": "display_data"
    }
   ],
   "source": [
    "sns.lmplot(x='age',y='charges',data=df,palette='red')"
   ]
  },
  {
   "cell_type": "code",
   "execution_count": 113,
   "id": "4f52a407",
   "metadata": {},
   "outputs": [
    {
     "data": {
      "text/plain": [
       "<seaborn.axisgrid.FacetGrid at 0x1f146ffec70>"
      ]
     },
     "execution_count": 113,
     "metadata": {},
     "output_type": "execute_result"
    },
    {
     "data": {
      "image/png": "[encoded data removed]",
      "text/plain": [
       "<Figure size 360x360 with 1 Axes>"
      ]
     },
     "metadata": {
      "needs_background": "light"
     },
     "output_type": "display_data"
    }
   ],
   "source": [
    "sns.lmplot(x='bmi',y='charges',data=df,palette='red')"
   ]
  },
  {
   "cell_type": "code",
   "execution_count": 114,
   "id": "58ad86b4",
   "metadata": {},
   "outputs": [
    {
     "data": {
      "text/plain": [
       "<seaborn.axisgrid.FacetGrid at 0x1f146f2bd90>"
      ]
     },
     "execution_count": 114,
     "metadata": {},
     "output_type": "execute_result"
    },
    {
     "data": {
      "image/png": "[encoded data removed]",
      "text/plain": [
       "<Figure size 360x360 with 1 Axes>"
      ]
     },
     "metadata": {
      "needs_background": "light"
     },
     "output_type": "display_data"
    }
   ],
   "source": [
    "sns.lmplot(x='children',y='charges',data=df,palette='r')"
   ]
  },
  {
   "cell_type": "code",
   "execution_count": 115,
   "id": "a499e6e4",
   "metadata": {},
   "outputs": [
    {
     "data": {
      "text/plain": [
       "<seaborn.axisgrid.PairGrid at 0x1f146fbe490>"
      ]
     },
     "execution_count": 115,
     "metadata": {},
     "output_type": "execute_result"
    },
    {
     "data": {
      "image/png": "[encoded data removed]",
      "text/plain": [
       "<Figure size 720x720 with 20 Axes>"
      ]
     },
     "metadata": {
      "needs_background": "light"
     },
     "output_type": "display_data"
    }
   ],
   "source": [
    "sns.pairplot(data=df,palette='Dark2')"
   ]
  },
  {
   "cell_type": "code",
   "execution_count": 116,
   "id": "0d8ae1f3",
   "metadata": {},
   "outputs": [
    {
     "name": "stdout",
     "output_type": "stream",
     "text": [
      "['sex', 'smoker', 'region']\n",
      "['age', 'bmi', 'children', 'charges']\n"
     ]
    }
   ],
   "source": [
    "#Separating the numerical cols and categorical cols\n",
    "\n",
    "#for cat cols\n",
    "\n",
    "catcols=[]\n",
    "for i in df.dtypes.index:\n",
    "    if df.dtypes[i] == 'object':\n",
    "        catcols.append(i)\n",
    "print(catcols)\n",
    "\n",
    "#for num cols\n",
    "\n",
    "numcols=[]\n",
    "for i in df.dtypes.index:\n",
    "    if df.dtypes[i] != 'object':\n",
    "        numcols.append(i)       \n",
    "print(numcols)"
   ]
  },
  {
   "cell_type": "code",
   "execution_count": 117,
   "id": "aa646d95",
   "metadata": {},
   "outputs": [
    {
     "data": {
      "text/plain": [
       "age         0.054781\n",
       "bmi         0.283914\n",
       "children    0.937421\n",
       "charges     1.515391\n",
       "dtype: float64"
      ]
     },
     "execution_count": 117,
     "metadata": {},
     "output_type": "execute_result"
    }
   ],
   "source": [
    "#cheking skewness\n",
    "df.skew()"
   ]
  },
  {
   "cell_type": "code",
   "execution_count": 122,
   "id": "962775e1",
   "metadata": {},
   "outputs": [
    {
     "data": {
      "text/plain": [
       "<AxesSubplot:xlabel='age', ylabel='Density'>"
      ]
     },
     "execution_count": 122,
     "metadata": {},
     "output_type": "execute_result"
    },
    {
     "data": {
      "image/png": "[encoded data removed]",
      "text/plain": [
       "<Figure size 432x288 with 1 Axes>"
      ]
     },
     "metadata": {
      "needs_background": "light"
     },
     "output_type": "display_data"
    }
   ],
   "source": [
    "sns.distplot(df['age'])"
   ]
  },
  {
   "cell_type": "code",
   "execution_count": 123,
   "id": "b3408b38",
   "metadata": {},
   "outputs": [
    {
     "data": {
      "text/plain": [
       "<AxesSubplot:xlabel='bmi', ylabel='Density'>"
      ]
     },
     "execution_count": 123,
     "metadata": {},
     "output_type": "execute_result"
    },
    {
     "data": {
      "image/png": "[encoded data removed]",
      "text/plain": [
       "<Figure size 432x288 with 1 Axes>"
      ]
     },
     "metadata": {
      "needs_background": "light"
     },
     "output_type": "display_data"
    }
   ],
   "source": [
    "sns.distplot(df['bmi'])"
   ]
  },
  {
   "cell_type": "markdown",
   "id": "7a88b23e",
   "metadata": {},
   "source": [
    "Skewness found in children column"
   ]
  },
  {
   "cell_type": "code",
   "execution_count": 118,
   "id": "a7cf16e5",
   "metadata": {},
   "outputs": [],
   "source": [
    "#removing skewness by using Cuberoot method\n",
    "df['children']=np.cbrt(df['children'])"
   ]
  },
  {
   "cell_type": "code",
   "execution_count": 119,
   "id": "bcf358f5",
   "metadata": {},
   "outputs": [
    {
     "data": {
      "text/plain": [
       "age         0.054781\n",
       "bmi         0.283914\n",
       "children   -0.098682\n",
       "charges     1.515391\n",
       "dtype: float64"
      ]
     },
     "execution_count": 119,
     "metadata": {},
     "output_type": "execute_result"
    }
   ],
   "source": [
    "df.skew()"
   ]
  },
  {
   "cell_type": "markdown",
   "id": "f5d7b101",
   "metadata": {},
   "source": [
    "Skewness reduced in children column"
   ]
  },
  {
   "cell_type": "code",
   "execution_count": 121,
   "id": "7511ac30",
   "metadata": {},
   "outputs": [
    {
     "data": {
      "text/plain": [
       "<AxesSubplot:xlabel='children', ylabel='Density'>"
      ]
     },
     "execution_count": 121,
     "metadata": {},
     "output_type": "execute_result"
    },
    {
     "data": {
      "image/png": "[encoded data removed]",
      "text/plain": [
       "<Figure size 432x288 with 1 Axes>"
      ]
     },
     "metadata": {
      "needs_background": "light"
     },
     "output_type": "display_data"
    }
   ],
   "source": [
    "sns.distplot(df['children'])"
   ]
  },
  {
   "cell_type": "code",
   "execution_count": 125,
   "id": "238f247e",
   "metadata": {},
   "outputs": [
    {
     "data": {
      "text/html": [
       "<div>\n",
       "<style scoped>\n",
       "    .dataframe tbody tr th:only-of-type {\n",
       "        vertical-align: middle;\n",
       "    }\n",
       "\n",
       "    .dataframe tbody tr th {\n",
       "        vertical-align: top;\n",
       "    }\n",
       "\n",
       "    .dataframe thead th {\n",
       "        text-align: right;\n",
       "    }\n",
       "</style>\n",
       "<table border=\"1\" class=\"dataframe\">\n",
       "  <thead>\n",
       "    <tr style=\"text-align: right;\">\n",
       "      <th></th>\n",
       "      <th>age</th>\n",
       "      <th>bmi</th>\n",
       "      <th>children</th>\n",
       "      <th>charges</th>\n",
       "    </tr>\n",
       "  </thead>\n",
       "  <tbody>\n",
       "    <tr>\n",
       "      <th>age</th>\n",
       "      <td>1.000000</td>\n",
       "      <td>0.109344</td>\n",
       "      <td>0.047775</td>\n",
       "      <td>0.298308</td>\n",
       "    </tr>\n",
       "    <tr>\n",
       "      <th>bmi</th>\n",
       "      <td>0.109344</td>\n",
       "      <td>1.000000</td>\n",
       "      <td>0.016512</td>\n",
       "      <td>0.198401</td>\n",
       "    </tr>\n",
       "    <tr>\n",
       "      <th>children</th>\n",
       "      <td>0.047775</td>\n",
       "      <td>0.016512</td>\n",
       "      <td>1.000000</td>\n",
       "      <td>0.072012</td>\n",
       "    </tr>\n",
       "    <tr>\n",
       "      <th>charges</th>\n",
       "      <td>0.298308</td>\n",
       "      <td>0.198401</td>\n",
       "      <td>0.072012</td>\n",
       "      <td>1.000000</td>\n",
       "    </tr>\n",
       "  </tbody>\n",
       "</table>\n",
       "</div>"
      ],
      "text/plain": [
       "               age       bmi  children   charges\n",
       "age       1.000000  0.109344  0.047775  0.298308\n",
       "bmi       0.109344  1.000000  0.016512  0.198401\n",
       "children  0.047775  0.016512  1.000000  0.072012\n",
       "charges   0.298308  0.198401  0.072012  1.000000"
      ]
     },
     "execution_count": 125,
     "metadata": {},
     "output_type": "execute_result"
    }
   ],
   "source": [
    "#checking corelation between varibles\n",
    "df.corr()"
   ]
  },
  {
   "cell_type": "code",
   "execution_count": 127,
   "id": "5b289ecc",
   "metadata": {},
   "outputs": [
    {
     "data": {
      "text/plain": [
       "<AxesSubplot:>"
      ]
     },
     "execution_count": 127,
     "metadata": {},
     "output_type": "execute_result"
    },
    {
     "data": {
      "image/png": "[encoded data removed]",
      "text/plain": [
       "<Figure size 432x288 with 2 Axes>"
      ]
     },
     "metadata": {
      "needs_background": "light"
     },
     "output_type": "display_data"
    }
   ],
   "source": [
    "sns.heatmap(df.corr(),annot=True)"
   ]
  },
  {
   "cell_type": "markdown",
   "id": "f5ffc287",
   "metadata": {},
   "source": [
    "No high correlation found in the dataframe"
   ]
  },
  {
   "cell_type": "code",
   "execution_count": 130,
   "id": "63792e83",
   "metadata": {},
   "outputs": [
    {
     "data": {
      "image/png": "[encoded data removed]",
      "text/plain": [
       "<Figure size 1584x504 with 1 Axes>"
      ]
     },
     "metadata": {
      "needs_background": "light"
     },
     "output_type": "display_data"
    }
   ],
   "source": [
    "plt.figure(figsize=(22,7))\n",
    "df.corr()['charges'].sort_values(ascending = False).drop(['charges']).plot(kind='bar',color='m')\n",
    "plt.show()"
   ]
  },
  {
   "cell_type": "markdown",
   "id": "6a43c9fb",
   "metadata": {},
   "source": [
    "Encoding the categorical columns"
   ]
  },
  {
   "cell_type": "code",
   "execution_count": 138,
   "id": "f846067c",
   "metadata": {},
   "outputs": [],
   "source": [
    "from sklearn.preprocessing import LabelEncoder\n",
    "le = LabelEncoder()\n",
    "\n",
    "for col in catcols:\n",
    "    df[col] = le.fit_transform(df[col])"
   ]
  },
  {
   "cell_type": "code",
   "execution_count": 140,
   "id": "b82e0fde",
   "metadata": {},
   "outputs": [
    {
     "data": {
      "text/html": [
       "<div>\n",
       "<style scoped>\n",
       "    .dataframe tbody tr th:only-of-type {\n",
       "        vertical-align: middle;\n",
       "    }\n",
       "\n",
       "    .dataframe tbody tr th {\n",
       "        vertical-align: top;\n",
       "    }\n",
       "\n",
       "    .dataframe thead th {\n",
       "        text-align: right;\n",
       "    }\n",
       "</style>\n",
       "<table border=\"1\" class=\"dataframe\">\n",
       "  <thead>\n",
       "    <tr style=\"text-align: right;\">\n",
       "      <th></th>\n",
       "      <th>sex</th>\n",
       "      <th>smoker</th>\n",
       "      <th>region</th>\n",
       "    </tr>\n",
       "  </thead>\n",
       "  <tbody>\n",
       "    <tr>\n",
       "      <th>0</th>\n",
       "      <td>0</td>\n",
       "      <td>1</td>\n",
       "      <td>3</td>\n",
       "    </tr>\n",
       "    <tr>\n",
       "      <th>1</th>\n",
       "      <td>1</td>\n",
       "      <td>0</td>\n",
       "      <td>2</td>\n",
       "    </tr>\n",
       "    <tr>\n",
       "      <th>2</th>\n",
       "      <td>1</td>\n",
       "      <td>0</td>\n",
       "      <td>2</td>\n",
       "    </tr>\n",
       "    <tr>\n",
       "      <th>3</th>\n",
       "      <td>1</td>\n",
       "      <td>0</td>\n",
       "      <td>1</td>\n",
       "    </tr>\n",
       "    <tr>\n",
       "      <th>4</th>\n",
       "      <td>1</td>\n",
       "      <td>0</td>\n",
       "      <td>1</td>\n",
       "    </tr>\n",
       "    <tr>\n",
       "      <th>...</th>\n",
       "      <td>...</td>\n",
       "      <td>...</td>\n",
       "      <td>...</td>\n",
       "    </tr>\n",
       "    <tr>\n",
       "      <th>1333</th>\n",
       "      <td>1</td>\n",
       "      <td>0</td>\n",
       "      <td>1</td>\n",
       "    </tr>\n",
       "    <tr>\n",
       "      <th>1334</th>\n",
       "      <td>0</td>\n",
       "      <td>0</td>\n",
       "      <td>0</td>\n",
       "    </tr>\n",
       "    <tr>\n",
       "      <th>1335</th>\n",
       "      <td>0</td>\n",
       "      <td>0</td>\n",
       "      <td>2</td>\n",
       "    </tr>\n",
       "    <tr>\n",
       "      <th>1336</th>\n",
       "      <td>0</td>\n",
       "      <td>0</td>\n",
       "      <td>3</td>\n",
       "    </tr>\n",
       "    <tr>\n",
       "      <th>1337</th>\n",
       "      <td>0</td>\n",
       "      <td>1</td>\n",
       "      <td>1</td>\n",
       "    </tr>\n",
       "  </tbody>\n",
       "</table>\n",
       "<p>1337 rows × 3 columns</p>\n",
       "</div>"
      ],
      "text/plain": [
       "      sex  smoker  region\n",
       "0       0       1       3\n",
       "1       1       0       2\n",
       "2       1       0       2\n",
       "3       1       0       1\n",
       "4       1       0       1\n",
       "...   ...     ...     ...\n",
       "1333    1       0       1\n",
       "1334    0       0       0\n",
       "1335    0       0       2\n",
       "1336    0       0       3\n",
       "1337    0       1       1\n",
       "\n",
       "[1337 rows x 3 columns]"
      ]
     },
     "execution_count": 140,
     "metadata": {},
     "output_type": "execute_result"
    }
   ],
   "source": [
    "df[catcols]"
   ]
  },
  {
   "cell_type": "code",
   "execution_count": 142,
   "id": "16f0100c",
   "metadata": {},
   "outputs": [
    {
     "data": {
      "text/html": [
       "<div>\n",
       "<style scoped>\n",
       "    .dataframe tbody tr th:only-of-type {\n",
       "        vertical-align: middle;\n",
       "    }\n",
       "\n",
       "    .dataframe tbody tr th {\n",
       "        vertical-align: top;\n",
       "    }\n",
       "\n",
       "    .dataframe thead th {\n",
       "        text-align: right;\n",
       "    }\n",
       "</style>\n",
       "<table border=\"1\" class=\"dataframe\">\n",
       "  <thead>\n",
       "    <tr style=\"text-align: right;\">\n",
       "      <th></th>\n",
       "      <th>age</th>\n",
       "      <th>sex</th>\n",
       "      <th>bmi</th>\n",
       "      <th>children</th>\n",
       "      <th>smoker</th>\n",
       "      <th>region</th>\n",
       "      <th>charges</th>\n",
       "    </tr>\n",
       "  </thead>\n",
       "  <tbody>\n",
       "    <tr>\n",
       "      <th>count</th>\n",
       "      <td>1337.000000</td>\n",
       "      <td>1337.000000</td>\n",
       "      <td>1337.000000</td>\n",
       "      <td>1337.000000</td>\n",
       "      <td>1337.000000</td>\n",
       "      <td>1337.000000</td>\n",
       "      <td>1337.000000</td>\n",
       "    </tr>\n",
       "    <tr>\n",
       "      <th>mean</th>\n",
       "      <td>39.222139</td>\n",
       "      <td>0.504862</td>\n",
       "      <td>30.663452</td>\n",
       "      <td>0.690560</td>\n",
       "      <td>0.204936</td>\n",
       "      <td>1.516081</td>\n",
       "      <td>13279.121487</td>\n",
       "    </tr>\n",
       "    <tr>\n",
       "      <th>std</th>\n",
       "      <td>14.044333</td>\n",
       "      <td>0.500163</td>\n",
       "      <td>6.100468</td>\n",
       "      <td>0.617605</td>\n",
       "      <td>0.403806</td>\n",
       "      <td>1.105208</td>\n",
       "      <td>12110.359656</td>\n",
       "    </tr>\n",
       "    <tr>\n",
       "      <th>min</th>\n",
       "      <td>18.000000</td>\n",
       "      <td>0.000000</td>\n",
       "      <td>15.960000</td>\n",
       "      <td>0.000000</td>\n",
       "      <td>0.000000</td>\n",
       "      <td>0.000000</td>\n",
       "      <td>1121.873900</td>\n",
       "    </tr>\n",
       "    <tr>\n",
       "      <th>25%</th>\n",
       "      <td>27.000000</td>\n",
       "      <td>0.000000</td>\n",
       "      <td>26.290000</td>\n",
       "      <td>0.000000</td>\n",
       "      <td>0.000000</td>\n",
       "      <td>1.000000</td>\n",
       "      <td>4746.344000</td>\n",
       "    </tr>\n",
       "    <tr>\n",
       "      <th>50%</th>\n",
       "      <td>39.000000</td>\n",
       "      <td>1.000000</td>\n",
       "      <td>30.400000</td>\n",
       "      <td>1.000000</td>\n",
       "      <td>0.000000</td>\n",
       "      <td>2.000000</td>\n",
       "      <td>9386.161300</td>\n",
       "    </tr>\n",
       "    <tr>\n",
       "      <th>75%</th>\n",
       "      <td>51.000000</td>\n",
       "      <td>1.000000</td>\n",
       "      <td>34.700000</td>\n",
       "      <td>1.259921</td>\n",
       "      <td>0.000000</td>\n",
       "      <td>2.000000</td>\n",
       "      <td>16657.717450</td>\n",
       "    </tr>\n",
       "    <tr>\n",
       "      <th>max</th>\n",
       "      <td>64.000000</td>\n",
       "      <td>1.000000</td>\n",
       "      <td>53.130000</td>\n",
       "      <td>1.709976</td>\n",
       "      <td>1.000000</td>\n",
       "      <td>3.000000</td>\n",
       "      <td>63770.428010</td>\n",
       "    </tr>\n",
       "  </tbody>\n",
       "</table>\n",
       "</div>"
      ],
      "text/plain": [
       "               age          sex          bmi     children       smoker  \\\n",
       "count  1337.000000  1337.000000  1337.000000  1337.000000  1337.000000   \n",
       "mean     39.222139     0.504862    30.663452     0.690560     0.204936   \n",
       "std      14.044333     0.500163     6.100468     0.617605     0.403806   \n",
       "min      18.000000     0.000000    15.960000     0.000000     0.000000   \n",
       "25%      27.000000     0.000000    26.290000     0.000000     0.000000   \n",
       "50%      39.000000     1.000000    30.400000     1.000000     0.000000   \n",
       "75%      51.000000     1.000000    34.700000     1.259921     0.000000   \n",
       "max      64.000000     1.000000    53.130000     1.709976     1.000000   \n",
       "\n",
       "            region       charges  \n",
       "count  1337.000000   1337.000000  \n",
       "mean      1.516081  13279.121487  \n",
       "std       1.105208  12110.359656  \n",
       "min       0.000000   1121.873900  \n",
       "25%       1.000000   4746.344000  \n",
       "50%       2.000000   9386.161300  \n",
       "75%       2.000000  16657.717450  \n",
       "max       3.000000  63770.428010  "
      ]
     },
     "execution_count": 142,
     "metadata": {},
     "output_type": "execute_result"
    }
   ],
   "source": [
    "df.describe()"
   ]
  },
  {
   "cell_type": "markdown",
   "id": "42dec11e",
   "metadata": {},
   "source": [
    "Standardization of data"
   ]
  },
  {
   "cell_type": "code",
   "execution_count": 144,
   "id": "6261c9c4",
   "metadata": {},
   "outputs": [],
   "source": [
    "from sklearn.preprocessing import StandardScaler\n",
    "x=df.drop('charges',axis=1)\n",
    "y=df['charges']"
   ]
  },
  {
   "cell_type": "code",
   "execution_count": 145,
   "id": "cdb3cc18",
   "metadata": {},
   "outputs": [
    {
     "data": {
      "text/html": [
       "<div>\n",
       "<style scoped>\n",
       "    .dataframe tbody tr th:only-of-type {\n",
       "        vertical-align: middle;\n",
       "    }\n",
       "\n",
       "    .dataframe tbody tr th {\n",
       "        vertical-align: top;\n",
       "    }\n",
       "\n",
       "    .dataframe thead th {\n",
       "        text-align: right;\n",
       "    }\n",
       "</style>\n",
       "<table border=\"1\" class=\"dataframe\">\n",
       "  <thead>\n",
       "    <tr style=\"text-align: right;\">\n",
       "      <th></th>\n",
       "      <th>age</th>\n",
       "      <th>sex</th>\n",
       "      <th>bmi</th>\n",
       "      <th>children</th>\n",
       "      <th>smoker</th>\n",
       "      <th>region</th>\n",
       "    </tr>\n",
       "  </thead>\n",
       "  <tbody>\n",
       "    <tr>\n",
       "      <th>0</th>\n",
       "      <td>-1.440418</td>\n",
       "      <td>-1.009771</td>\n",
       "      <td>-0.453160</td>\n",
       "      <td>-1.118544</td>\n",
       "      <td>1.969660</td>\n",
       "      <td>1.343163</td>\n",
       "    </tr>\n",
       "    <tr>\n",
       "      <th>1</th>\n",
       "      <td>-1.511647</td>\n",
       "      <td>0.990324</td>\n",
       "      <td>0.509422</td>\n",
       "      <td>0.501220</td>\n",
       "      <td>-0.507702</td>\n",
       "      <td>0.438017</td>\n",
       "    </tr>\n",
       "    <tr>\n",
       "      <th>2</th>\n",
       "      <td>-0.799350</td>\n",
       "      <td>0.990324</td>\n",
       "      <td>0.383155</td>\n",
       "      <td>1.217560</td>\n",
       "      <td>-0.507702</td>\n",
       "      <td>0.438017</td>\n",
       "    </tr>\n",
       "    <tr>\n",
       "      <th>3</th>\n",
       "      <td>-0.443201</td>\n",
       "      <td>0.990324</td>\n",
       "      <td>-1.305052</td>\n",
       "      <td>-1.118544</td>\n",
       "      <td>-0.507702</td>\n",
       "      <td>-0.467128</td>\n",
       "    </tr>\n",
       "    <tr>\n",
       "      <th>4</th>\n",
       "      <td>-0.514431</td>\n",
       "      <td>0.990324</td>\n",
       "      <td>-0.292456</td>\n",
       "      <td>-1.118544</td>\n",
       "      <td>-0.507702</td>\n",
       "      <td>-0.467128</td>\n",
       "    </tr>\n",
       "    <tr>\n",
       "      <th>...</th>\n",
       "      <td>...</td>\n",
       "      <td>...</td>\n",
       "      <td>...</td>\n",
       "      <td>...</td>\n",
       "      <td>...</td>\n",
       "      <td>...</td>\n",
       "    </tr>\n",
       "    <tr>\n",
       "      <th>1332</th>\n",
       "      <td>0.767704</td>\n",
       "      <td>0.990324</td>\n",
       "      <td>0.050269</td>\n",
       "      <td>1.217560</td>\n",
       "      <td>-0.507702</td>\n",
       "      <td>-0.467128</td>\n",
       "    </tr>\n",
       "    <tr>\n",
       "      <th>1333</th>\n",
       "      <td>-1.511647</td>\n",
       "      <td>-1.009771</td>\n",
       "      <td>0.206053</td>\n",
       "      <td>-1.118544</td>\n",
       "      <td>-0.507702</td>\n",
       "      <td>-1.372274</td>\n",
       "    </tr>\n",
       "    <tr>\n",
       "      <th>1334</th>\n",
       "      <td>-1.511647</td>\n",
       "      <td>-1.009771</td>\n",
       "      <td>1.014490</td>\n",
       "      <td>-1.118544</td>\n",
       "      <td>-0.507702</td>\n",
       "      <td>0.438017</td>\n",
       "    </tr>\n",
       "    <tr>\n",
       "      <th>1335</th>\n",
       "      <td>-1.297958</td>\n",
       "      <td>-1.009771</td>\n",
       "      <td>-0.797524</td>\n",
       "      <td>-1.118544</td>\n",
       "      <td>-0.507702</td>\n",
       "      <td>1.343163</td>\n",
       "    </tr>\n",
       "    <tr>\n",
       "      <th>1336</th>\n",
       "      <td>1.551231</td>\n",
       "      <td>-1.009771</td>\n",
       "      <td>-0.261299</td>\n",
       "      <td>-1.118544</td>\n",
       "      <td>1.969660</td>\n",
       "      <td>-0.467128</td>\n",
       "    </tr>\n",
       "  </tbody>\n",
       "</table>\n",
       "<p>1337 rows × 6 columns</p>\n",
       "</div>"
      ],
      "text/plain": [
       "           age       sex       bmi  children    smoker    region\n",
       "0    -1.440418 -1.009771 -0.453160 -1.118544  1.969660  1.343163\n",
       "1    -1.511647  0.990324  0.509422  0.501220 -0.507702  0.438017\n",
       "2    -0.799350  0.990324  0.383155  1.217560 -0.507702  0.438017\n",
       "3    -0.443201  0.990324 -1.305052 -1.118544 -0.507702 -0.467128\n",
       "4    -0.514431  0.990324 -0.292456 -1.118544 -0.507702 -0.467128\n",
       "...        ...       ...       ...       ...       ...       ...\n",
       "1332  0.767704  0.990324  0.050269  1.217560 -0.507702 -0.467128\n",
       "1333 -1.511647 -1.009771  0.206053 -1.118544 -0.507702 -1.372274\n",
       "1334 -1.511647 -1.009771  1.014490 -1.118544 -0.507702  0.438017\n",
       "1335 -1.297958 -1.009771 -0.797524 -1.118544 -0.507702  1.343163\n",
       "1336  1.551231 -1.009771 -0.261299 -1.118544  1.969660 -0.467128\n",
       "\n",
       "[1337 rows x 6 columns]"
      ]
     },
     "execution_count": 145,
     "metadata": {},
     "output_type": "execute_result"
    }
   ],
   "source": [
    "scaler=StandardScaler()\n",
    "x=pd.DataFrame(scaler.fit_transform(x),columns=x.columns)\n",
    "x"
   ]
  },
  {
   "cell_type": "markdown",
   "id": "3313ff9a",
   "metadata": {},
   "source": [
    "We have scaled the features data with standard scaler to overcome biasness"
   ]
  },
  {
   "cell_type": "markdown",
   "id": "09b94628",
   "metadata": {},
   "source": [
    "Checking Variance"
   ]
  },
  {
   "cell_type": "code",
   "execution_count": 146,
   "id": "d0e7912b",
   "metadata": {},
   "outputs": [],
   "source": [
    "from statsmodels.stats.outliers_influence import variance_inflation_factor"
   ]
  },
  {
   "cell_type": "code",
   "execution_count": 147,
   "id": "92bed4b5",
   "metadata": {},
   "outputs": [
    {
     "data": {
      "text/html": [
       "<div>\n",
       "<style scoped>\n",
       "    .dataframe tbody tr th:only-of-type {\n",
       "        vertical-align: middle;\n",
       "    }\n",
       "\n",
       "    .dataframe tbody tr th {\n",
       "        vertical-align: top;\n",
       "    }\n",
       "\n",
       "    .dataframe thead th {\n",
       "        text-align: right;\n",
       "    }\n",
       "</style>\n",
       "<table border=\"1\" class=\"dataframe\">\n",
       "  <thead>\n",
       "    <tr style=\"text-align: right;\">\n",
       "      <th></th>\n",
       "      <th>VIF Values</th>\n",
       "      <th>features</th>\n",
       "    </tr>\n",
       "  </thead>\n",
       "  <tbody>\n",
       "    <tr>\n",
       "      <th>0</th>\n",
       "      <td>1.015854</td>\n",
       "      <td>age</td>\n",
       "    </tr>\n",
       "    <tr>\n",
       "      <th>1</th>\n",
       "      <td>1.008882</td>\n",
       "      <td>sex</td>\n",
       "    </tr>\n",
       "    <tr>\n",
       "      <th>2</th>\n",
       "      <td>1.040683</td>\n",
       "      <td>bmi</td>\n",
       "    </tr>\n",
       "    <tr>\n",
       "      <th>3</th>\n",
       "      <td>1.002998</td>\n",
       "      <td>children</td>\n",
       "    </tr>\n",
       "    <tr>\n",
       "      <th>4</th>\n",
       "      <td>1.006636</td>\n",
       "      <td>smoker</td>\n",
       "    </tr>\n",
       "    <tr>\n",
       "      <th>5</th>\n",
       "      <td>1.025891</td>\n",
       "      <td>region</td>\n",
       "    </tr>\n",
       "  </tbody>\n",
       "</table>\n",
       "</div>"
      ],
      "text/plain": [
       "   VIF Values  features\n",
       "0    1.015854       age\n",
       "1    1.008882       sex\n",
       "2    1.040683       bmi\n",
       "3    1.002998  children\n",
       "4    1.006636    smoker\n",
       "5    1.025891    region"
      ]
     },
     "execution_count": 147,
     "metadata": {},
     "output_type": "execute_result"
    }
   ],
   "source": [
    "vif=pd.DataFrame()\n",
    "vif['VIF Values']=[variance_inflation_factor(x.values,i)\n",
    "                   for i in range(len(x.columns))]\n",
    "vif['features']=x.columns\n",
    "vif"
   ]
  },
  {
   "cell_type": "markdown",
   "id": "8dcf6d2c",
   "metadata": {},
   "source": [
    "VIF is within acceptable range."
   ]
  },
  {
   "cell_type": "markdown",
   "id": "74139af0",
   "metadata": {},
   "source": [
    "# MODELING"
   ]
  },
  {
   "cell_type": "code",
   "execution_count": null,
   "id": "975a3267",
   "metadata": {},
   "outputs": [],
   "source": [
    "#importing libraries\n",
    "\n",
    "from sklearn.model_selection import train_test_split\n",
    "from sklearn.metrics import mean_absolute_error\n",
    "from sklearn.metrics import mean_squared_error\n",
    "from sklearn.metrics import r2_score\n",
    "from sklearn.ensemble import GradientBoostingRegressor\n",
    "from sklearn.linear_model import LinearRegression"
   ]
  },
  {
   "cell_type": "markdown",
   "id": "df7c2508",
   "metadata": {},
   "source": [
    "Divding data in train & test parts"
   ]
  },
  {
   "cell_type": "code",
   "execution_count": 153,
   "id": "1bf7c178",
   "metadata": {},
   "outputs": [
    {
     "name": "stdout",
     "output_type": "stream",
     "text": [
      "0.7996558021172124 113\n"
     ]
    }
   ],
   "source": [
    "maxAccu=0\n",
    "maxRs=0\n",
    "for i in range(1,200):\n",
    "    x_train,x_test,y_train,y_test=train_test_split(x,y,test_size=0.30,random_state=i)\n",
    "    lr=LinearRegression()\n",
    "    lr.fit(x_train,y_train)\n",
    "    pred=lr.predict(x_test)\n",
    "    acc=r2_score(y_test,pred)\n",
    "    if acc>maxAccu:\n",
    "        maxAccu = acc\n",
    "        maxRs = i\n",
    "print(maxAccu, maxRs)"
   ]
  },
  {
   "cell_type": "code",
   "execution_count": 154,
   "id": "124f6a99",
   "metadata": {},
   "outputs": [],
   "source": [
    "x_train, x_test, y_train, y_test = train_test_split(x,y,test_size=0.20,random_state=maxRs)"
   ]
  },
  {
   "cell_type": "code",
   "execution_count": 158,
   "id": "5f6bdd91",
   "metadata": {},
   "outputs": [],
   "source": [
    "#importing models\n",
    "from sklearn.ensemble import RandomForestRegressor\n",
    "from sklearn.linear_model import LinearRegression\n",
    "from sklearn.tree import DecisionTreeRegressor\n",
    "from sklearn.neighbors import KNeighborsRegressor as KNN\n",
    "from sklearn.linear_model import Lasso,Ridge"
   ]
  },
  {
   "cell_type": "markdown",
   "id": "7c550a65",
   "metadata": {},
   "source": [
    "Linear Regression"
   ]
  },
  {
   "cell_type": "code",
   "execution_count": 160,
   "id": "0c2b8720",
   "metadata": {},
   "outputs": [
    {
     "name": "stdout",
     "output_type": "stream",
     "text": [
      "R2score:  0.7956707416228928\n",
      "R2score on training data:  73.77353368632356\n",
      "Mean absolute error:  3975.2442438500925\n",
      "Mean Squared error : 31826515.81232225\n",
      "Root mean squared error : 5641.499429435605\n"
     ]
    }
   ],
   "source": [
    "lr=LinearRegression()\n",
    "lr.fit(x_train,y_train)\n",
    "plr=lr.predict(x_test)\n",
    "plr_train=lr.predict(x_train)\n",
    "print('R2score: ',r2_score(y_test,plr))\n",
    "print('R2score on training data: ',r2_score(y_train,plr_train)*100)\n",
    "print('Mean absolute error: ',mean_absolute_error(y_test,plr))\n",
    "print('Mean Squared error :',mean_squared_error(y_test,plr))\n",
    "print('Root mean squared error :',np.sqrt(mean_squared_error(y_test,plr)))"
   ]
  },
  {
   "cell_type": "markdown",
   "id": "6c3a1940",
   "metadata": {},
   "source": [
    "Random Forest Regression"
   ]
  },
  {
   "cell_type": "code",
   "execution_count": 161,
   "id": "30ffdccc",
   "metadata": {},
   "outputs": [
    {
     "name": "stdout",
     "output_type": "stream",
     "text": [
      "R2score:  0.8705395251496318\n",
      "R2score on training data:  97.55291563978503\n",
      "Mean absolute error:  2601.248514296736\n",
      "Mean Squared error : 20164884.278548427\n",
      "Root mean squared error : 4490.53273883494\n"
     ]
    }
   ],
   "source": [
    "rfr=RandomForestRegressor()\n",
    "rfr.fit(x_train,y_train)\n",
    "prfr=rfr.predict(x_test)\n",
    "prfr_train=rfr.predict(x_train)\n",
    "print('R2score: ',r2_score(y_test,prfr))\n",
    "print('R2score on training data: ',r2_score(y_train,prfr_train)*100)\n",
    "print('Mean absolute error: ',mean_absolute_error(y_test,prfr))\n",
    "print('Mean Squared error :',mean_squared_error(y_test,prfr))\n",
    "print('Root mean squared error :',np.sqrt(mean_squared_error(y_test,prfr)))"
   ]
  },
  {
   "cell_type": "markdown",
   "id": "537a729a",
   "metadata": {},
   "source": [
    "Decision Tree Regression"
   ]
  },
  {
   "cell_type": "code",
   "execution_count": 163,
   "id": "8d3d04d3",
   "metadata": {},
   "outputs": [
    {
     "name": "stdout",
     "output_type": "stream",
     "text": [
      "R2score:  0.755282499706058\n",
      "R2score on training data:  99.88118265012015\n",
      "Mean absolute error:  2851.696649082089\n",
      "Mean Squared error : 38117426.03344042\n",
      "Root mean squared error : 6173.931165265808\n"
     ]
    }
   ],
   "source": [
    "dtr=DecisionTreeRegressor()\n",
    "dtr.fit(x_train,y_train)\n",
    "pdtr=dtr.predict(x_test)\n",
    "pdtr_train=dtr.predict(x_train)\n",
    "print('R2score: ',r2_score(y_test,pdtr))\n",
    "print('R2score on training data: ',r2_score(y_train,pdtr_train)*100)\n",
    "print('Mean absolute error: ',mean_absolute_error(y_test,pdtr))\n",
    "print('Mean Squared error :',mean_squared_error(y_test,pdtr))\n",
    "print('Root mean squared error :',np.sqrt(mean_squared_error(y_test,pdtr)))"
   ]
  },
  {
   "cell_type": "markdown",
   "id": "2d0d1307",
   "metadata": {},
   "source": [
    "K Nearest Neighbors"
   ]
  },
  {
   "cell_type": "code",
   "execution_count": 165,
   "id": "f38f9a5d",
   "metadata": {},
   "outputs": [
    {
     "name": "stdout",
     "output_type": "stream",
     "text": [
      "R2score:  0.8366850044494684\n",
      "R2score on training data:  86.52276623327089\n",
      "Mean absolute error:  3073.165790354478\n",
      "Mean Squared error : 25438095.99056755\n",
      "Root mean squared error : 5043.619334423202\n"
     ]
    }
   ],
   "source": [
    "knn=KNN()\n",
    "knn.fit(x_train,y_train)\n",
    "pknn=knn.predict(x_test)\n",
    "pknn_train=knn.predict(x_train)\n",
    "print('R2score: ',r2_score(y_test,pknn))\n",
    "print('R2score on training data: ',r2_score(y_train,pknn_train)*100)\n",
    "print('Mean absolute error: ',mean_absolute_error(y_test,pknn))\n",
    "print('Mean Squared error :',mean_squared_error(y_test,pknn))\n",
    "print('Root mean squared error :',np.sqrt(mean_squared_error(y_test,pknn)))"
   ]
  },
  {
   "cell_type": "markdown",
   "id": "937f24ba",
   "metadata": {},
   "source": [
    "Lasso Regression"
   ]
  },
  {
   "cell_type": "code",
   "execution_count": 166,
   "id": "2369822c",
   "metadata": {},
   "outputs": [
    {
     "name": "stdout",
     "output_type": "stream",
     "text": [
      "R2score:  0.7956617840837633\n",
      "R2score on training data:  73.77352922380697\n",
      "Mean absolute error:  3975.2162403308007\n",
      "Mean Squared error : 31827911.04696954\n",
      "Root mean squared error : 5641.623086219917\n"
     ]
    }
   ],
   "source": [
    "ls=Lasso()\n",
    "ls.fit(x_train,y_train)\n",
    "pls=ls.predict(x_test)\n",
    "pls_train=ls.predict(x_train)\n",
    "print('R2score: ',r2_score(y_test,pls))\n",
    "print('R2score on training data: ',r2_score(y_train,pls_train)*100)\n",
    "print('Mean absolute error: ',mean_absolute_error(y_test,pls))\n",
    "print('Mean Squared error :',mean_squared_error(y_test,pls))\n",
    "print('Root mean squared error :',np.sqrt(mean_squared_error(y_test,pls)))"
   ]
  },
  {
   "cell_type": "markdown",
   "id": "2eb9a248",
   "metadata": {},
   "source": [
    "Ridge Regression"
   ]
  },
  {
   "cell_type": "code",
   "execution_count": 167,
   "id": "82aa1fde",
   "metadata": {},
   "outputs": [
    {
     "name": "stdout",
     "output_type": "stream",
     "text": [
      "R2score:  0.7956299486017109\n",
      "R2score on training data:  73.77346560038993\n",
      "Mean absolute error:  3977.097062881102\n",
      "Mean Squared error : 31832869.771339133\n",
      "Root mean squared error : 5642.06254585494\n"
     ]
    }
   ],
   "source": [
    "rd=Ridge()\n",
    "rd.fit(x_train,y_train)\n",
    "prd=rd.predict(x_test)\n",
    "prd_train=rd.predict(x_train)\n",
    "print('R2score: ',r2_score(y_test,prd))\n",
    "print('R2score on training data: ',r2_score(y_train,prd_train)*100)\n",
    "print('Mean absolute error: ',mean_absolute_error(y_test,prd))\n",
    "print('Mean Squared error :',mean_squared_error(y_test,prd))\n",
    "print('Root mean squared error :',np.sqrt(mean_squared_error(y_test,prd)))"
   ]
  },
  {
   "cell_type": "markdown",
   "id": "096a1cf2",
   "metadata": {},
   "source": [
    "Selecting the Best model"
   ]
  },
  {
   "cell_type": "code",
   "execution_count": 168,
   "id": "888f0aed",
   "metadata": {},
   "outputs": [],
   "source": [
    "from sklearn.model_selection import cross_val_score"
   ]
  },
  {
   "cell_type": "markdown",
   "id": "ccbb6eb8",
   "metadata": {},
   "source": [
    "For LR"
   ]
  },
  {
   "cell_type": "code",
   "execution_count": 182,
   "id": "acaef110",
   "metadata": {},
   "outputs": [
    {
     "name": "stdout",
     "output_type": "stream",
     "text": [
      "[0.76099747 0.70735964 0.7776184  0.73451938 0.7534895 ]\n",
      "0.7467968786350554\n",
      "Diff b/w R2 score & CV score 4.887386298783736\n"
     ]
    }
   ],
   "source": [
    "scr=cross_val_score(lr,x,y)\n",
    "print(scr)\n",
    "print(scr.mean())\n",
    "print('Diff b/w R2 score & CV score', (r2_score(y_test,plr) - scr.mean())*100)"
   ]
  },
  {
   "cell_type": "markdown",
   "id": "83f29edb",
   "metadata": {},
   "source": [
    "FOR RFR"
   ]
  },
  {
   "cell_type": "code",
   "execution_count": 183,
   "id": "f4e816b9",
   "metadata": {},
   "outputs": [
    {
     "name": "stdout",
     "output_type": "stream",
     "text": [
      "[0.85252559 0.76996267 0.86896616 0.83377745 0.85479127]\n",
      "0.83600463002409\n",
      "Diff b/w R2 score & CV score -4.033388840119723\n"
     ]
    }
   ],
   "source": [
    "scr=cross_val_score(rfr,x,y)\n",
    "print(scr)\n",
    "print(scr.mean())\n",
    "print('Diff b/w R2 score & CV score', (r2_score(y_test,plr) - scr.mean())*100)"
   ]
  },
  {
   "cell_type": "markdown",
   "id": "a5c6535c",
   "metadata": {},
   "source": [
    "For DTR"
   ]
  },
  {
   "cell_type": "code",
   "execution_count": 184,
   "id": "7cc5e782",
   "metadata": {},
   "outputs": [
    {
     "name": "stdout",
     "output_type": "stream",
     "text": [
      "[0.75574616 0.66162018 0.75313152 0.72482461 0.69893494]\n",
      "0.7188514813281885\n",
      "Diff b/w R2 score & CV score 7.681926029470421\n"
     ]
    }
   ],
   "source": [
    "scr=cross_val_score(dtr,x,y)\n",
    "print(scr)\n",
    "print(scr.mean())\n",
    "print('Diff b/w R2 score & CV score', (r2_score(y_test,plr) - scr.mean())*100)"
   ]
  },
  {
   "cell_type": "markdown",
   "id": "4268edfb",
   "metadata": {},
   "source": [
    "FOR KNN"
   ]
  },
  {
   "cell_type": "code",
   "execution_count": 185,
   "id": "278f4b05",
   "metadata": {},
   "outputs": [
    {
     "name": "stdout",
     "output_type": "stream",
     "text": [
      "[0.82667617 0.75663744 0.841135   0.79858305 0.81767814]\n",
      "0.8081419597308412\n",
      "Diff b/w R2 score & CV score -1.247121810794849\n"
     ]
    }
   ],
   "source": [
    "scr=cross_val_score(knn,x,y)\n",
    "print(scr)\n",
    "print(scr.mean())\n",
    "print('Diff b/w R2 score & CV score', (r2_score(y_test,plr) - scr.mean())*100)"
   ]
  },
  {
   "cell_type": "markdown",
   "id": "2668da7e",
   "metadata": {},
   "source": [
    "FOR LS"
   ]
  },
  {
   "cell_type": "code",
   "execution_count": 186,
   "id": "64a79453",
   "metadata": {},
   "outputs": [
    {
     "name": "stdout",
     "output_type": "stream",
     "text": [
      "[0.76100418 0.7073969  0.77759715 0.73451403 0.75349819]\n",
      "0.7468020908069656\n",
      "Diff b/w R2 score & CV score 4.886865081592717\n"
     ]
    }
   ],
   "source": [
    "scr=cross_val_score(ls,x,y)\n",
    "print(scr)\n",
    "print(scr.mean())\n",
    "print('Diff b/w R2 score & CV score', (r2_score(y_test,plr) - scr.mean())*100)"
   ]
  },
  {
   "cell_type": "markdown",
   "id": "5f3d1fa1",
   "metadata": {},
   "source": [
    "For RD"
   ]
  },
  {
   "cell_type": "code",
   "execution_count": 176,
   "id": "e0fae0e4",
   "metadata": {},
   "outputs": [
    {
     "name": "stdout",
     "output_type": "stream",
     "text": [
      "[0.76100655 0.70747139 0.77749861 0.73457567 0.75346201]\n",
      "0.7468028451632852\n",
      "Diff b/w Accuracy score & CV score 4.886789645960754\n"
     ]
    }
   ],
   "source": [
    "scr=cross_val_score(rd,x,y)\n",
    "print(scr)\n",
    "print(scr.mean())\n",
    "print('Diff b/w R2 score & CV score', (r2_score(y_test,plr) - scr.mean())*100)"
   ]
  },
  {
   "cell_type": "markdown",
   "id": "54c538be",
   "metadata": {},
   "source": [
    "Ridge regression is our best model."
   ]
  },
  {
   "cell_type": "markdown",
   "id": "f5034fb6",
   "metadata": {},
   "source": [
    "# Hyperparameter Tuning"
   ]
  },
  {
   "cell_type": "code",
   "execution_count": 187,
   "id": "f795ac1f",
   "metadata": {},
   "outputs": [],
   "source": [
    "#importing GridseachCV for hyperparameter tuning\n",
    "from sklearn.model_selection import GridSearchCV"
   ]
  },
  {
   "cell_type": "code",
   "execution_count": 214,
   "id": "007d82eb",
   "metadata": {},
   "outputs": [],
   "source": [
    "param={'alpha':[1.0,0.05,0.4,2],\n",
    "       'fit_intercept':[True,False],\n",
    "       'solver':['auto','svd','cholesky','lsqr','sag','saga','lbfgs'],\n",
    "       'positive':[False,True],\n",
    "      }"
   ]
  },
  {
   "cell_type": "code",
   "execution_count": 215,
   "id": "6e419bb8",
   "metadata": {},
   "outputs": [
    {
     "data": {
      "text/plain": [
       "GridSearchCV(cv=5, estimator=Ridge(),\n",
       "             param_grid={'alpha': [1.0, 0.05, 0.4, 2],\n",
       "                         'fit_intercept': [True, False],\n",
       "                         'positive': [False, True],\n",
       "                         'solver': ['auto', 'svd', 'cholesky', 'lsqr', 'sag',\n",
       "                                    'saga', 'lbfgs']})"
      ]
     },
     "execution_count": 215,
     "metadata": {},
     "output_type": "execute_result"
    }
   ],
   "source": [
    "gscv = GridSearchCV(Ridge(),param,cv=5)\n",
    "gscv.fit(x_train,y_train)"
   ]
  },
  {
   "cell_type": "code",
   "execution_count": 217,
   "id": "3f7209fd",
   "metadata": {},
   "outputs": [
    {
     "data": {
      "text/plain": [
       "{'alpha': 0.4, 'fit_intercept': True, 'positive': False, 'solver': 'saga'}"
      ]
     },
     "execution_count": 217,
     "metadata": {},
     "output_type": "execute_result"
    }
   ],
   "source": [
    "gscv.best_params_"
   ]
  },
  {
   "cell_type": "markdown",
   "id": "b6373a7a",
   "metadata": {},
   "source": [
    "These are the best parameters for the Ridge regression model."
   ]
  },
  {
   "cell_type": "code",
   "execution_count": 222,
   "id": "1812ae3e",
   "metadata": {},
   "outputs": [],
   "source": [
    "#Creating the final model\n",
    "Final_model=Ridge(alpha=0.4, fit_intercept=True, positive=False, solver='saga')"
   ]
  },
  {
   "cell_type": "code",
   "execution_count": 223,
   "id": "b634b557",
   "metadata": {},
   "outputs": [
    {
     "data": {
      "text/plain": [
       "Ridge(alpha=0.4, solver='saga')"
      ]
     },
     "execution_count": 223,
     "metadata": {},
     "output_type": "execute_result"
    }
   ],
   "source": [
    "#Training the final model\n",
    "Final_model.fit(x_train,y_train)"
   ]
  },
  {
   "cell_type": "code",
   "execution_count": 224,
   "id": "176d3fc6",
   "metadata": {},
   "outputs": [
    {
     "name": "stdout",
     "output_type": "stream",
     "text": [
      "R2score:  0.7956979840814815\n",
      "Mean absolute error:  3975.599318972493\n",
      "Mean Squared error : 31822272.501570135\n",
      "Root mean squared error : 5641.123336851459\n"
     ]
    }
   ],
   "source": [
    "#Final prediction\n",
    "pred=Final_model.predict(x_test)\n",
    "print('R2score: ',r2_score(y_test,pred))\n",
    "print('Mean absolute error: ',mean_absolute_error(y_test,pred))\n",
    "print('Mean Squared error :',mean_squared_error(y_test,pred))\n",
    "print('Root mean squared error :',np.sqrt(mean_squared_error(y_test,pred)))"
   ]
  },
  {
   "cell_type": "markdown",
   "id": "c0990de5",
   "metadata": {},
   "source": [
    "The final prediciton model accuracy is 79.56%."
   ]
  },
  {
   "cell_type": "code",
   "execution_count": 225,
   "id": "cee67cd5",
   "metadata": {},
   "outputs": [
    {
     "data": {
      "text/plain": [
       "['insurance_costs.pkl']"
      ]
     },
     "execution_count": 225,
     "metadata": {},
     "output_type": "execute_result"
    }
   ],
   "source": [
    "#Saving our model\n",
    "import joblib\n",
    "joblib.dump(Final_model,'insurance_costs.pkl')"
   ]
  },
  {
   "cell_type": "code",
   "execution_count": 226,
   "id": "ceaca701",
   "metadata": {},
   "outputs": [
    {
     "data": {
      "text/plain": [
       "array([ 8907.48789892,  2307.78390598,  7966.90059902,  5362.75040454,\n",
       "        8821.83830182,  3293.93398344,  8130.09732919, 11914.55209569,\n",
       "       11152.48553043, 15379.21204889, 34411.21482801,  8594.85655712,\n",
       "        2457.43012645, 16036.9281061 ,  6339.06703388, 10661.23219698,\n",
       "       15101.48460161, 13820.28904891, 30298.29007905,  8453.05765427,\n",
       "       29570.52680351,  6584.22836547,  7157.79325435,  6291.08411759,\n",
       "        9701.55702842,  7925.08493048, 11528.94272595, 16371.51443281,\n",
       "       11307.82868999,  5775.98397874, 38907.35695071,  5216.33956128,\n",
       "        2123.10665034, 36320.19918769, 14342.67248172,  1156.29990235,\n",
       "       10025.98195023, 11063.646167  , 34139.08243216,  6248.56278024,\n",
       "       39053.3727254 ,  7030.04072223,  7348.58837548, 29268.04801152,\n",
       "       34747.26715227,  3384.46564098, 15399.77783242, 10400.681263  ,\n",
       "       40375.36504666, 34021.32772149,  9288.01878714, 26903.26149418,\n",
       "        8976.19210639,  5668.63994477, 11194.79818447, 36592.62325826,\n",
       "       11068.80286547,  3150.85902903, 10894.13757157, 32664.72876984,\n",
       "        1991.870986  , 28196.67910518, 12070.23296522, 11265.92255182,\n",
       "       12208.08967483, 14550.1677465 ,  8245.87525257, 32994.5393758 ,\n",
       "       11217.53421906,  4186.4735384 , 10097.21098989, 32363.09496702,\n",
       "       10715.02353027,  8683.71140495,  1785.81476995, 11274.44222772,\n",
       "        6990.12432239, 11745.27500464,  5729.94326352,  3662.17553951,\n",
       "       14352.29705346, 14285.26803802,  9498.25411379,  5922.49644476,\n",
       "        4131.44612094,  4323.32283143,  6360.58006365,  9133.60894953,\n",
       "       25245.54172605,  4546.29105944,  3226.52731005, 10344.89702068,\n",
       "        4607.20343647, 11320.29030469,  2434.9748489 , 11605.88801467,\n",
       "       10542.10823167,  4665.37899339, 38541.34967365,  5544.60835981,\n",
       "        5860.56226614, 34283.72451598, 13213.10777379, 40409.05767771,\n",
       "        7476.36559428,  2150.63400649, 10450.24781985, 34851.53407883,\n",
       "       33832.8640424 , 27269.66537587, 36670.16215201,  2072.37947993,\n",
       "       13907.5480938 , 14144.48067859,  2965.97934307, 11767.23143093,\n",
       "       14243.68049123,  8828.35679777,  4994.08493461, 11954.75169562,\n",
       "       14749.08328087,  4317.03383323, 28675.29788391, 17044.46302303,\n",
       "        4090.50789269,  8148.16784887, 39592.77544094, 10242.8106435 ,\n",
       "       13569.66703116, 13774.82642344, 11185.02396748,  9612.63764059,\n",
       "       38633.82626196, 28365.49385302, 33668.99709356, 15815.51397845,\n",
       "        9777.61059071, 12562.16801958,  8846.10818022, 36095.52207466,\n",
       "        8426.36761598, 26917.33643926,  -168.77758109,  3136.22987397,\n",
       "        7017.91722504,  4040.76482803, 28360.60765529, 11962.26747824,\n",
       "       28729.62225321, 29723.63638997, 17860.54874279,  1925.25179357,\n",
       "        2296.57252993,  9278.07106764,  9386.93046182, 10117.08404737,\n",
       "        6280.48376965, 33757.87532313,  2137.95154878, 30360.01177721,\n",
       "        3678.98462996,  3346.03032671, 11673.56075925, 10478.68918974,\n",
       "       38509.17095522, 38324.86662931, 13612.13115254, 14212.34339711,\n",
       "        7317.91287987,  1535.76283225,  2862.44366945,  4230.19484268,\n",
       "       26472.09413572,  3072.8520077 , 12268.63842982, 29636.79537162,\n",
       "       16995.86995026, 12009.94761712,  4841.72991192,  4079.09962077,\n",
       "        8864.86548742, 11493.26143872, 10580.17744866,  5320.27299939,\n",
       "       38727.56968719,  5876.20881441,  5317.39410614,  7994.448299  ,\n",
       "        4757.3808475 , 24672.88451629, 10079.55531284, 10709.59554514,\n",
       "       -1385.62916249, 12839.68692696, 11598.97826168, 10958.63152059,\n",
       "       13876.00496637,  7617.97066744,  2821.69931145, 13481.94056006,\n",
       "       12176.98212269, 10145.77642546, 35223.88804467, 10397.64569372,\n",
       "       11182.43916332, 10978.66897241, 24309.06372627, 10248.93902511,\n",
       "        3830.42866453, 39081.37564314, 36815.60477003,  9637.91664804,\n",
       "       12944.11623669,  6593.16784101, 13539.123964  , 15266.58378162,\n",
       "       11629.97146358,  1785.55750876,  5767.90983897, 31683.633178  ,\n",
       "       12856.00259175,  9228.61884755,   156.49708119, 13654.11445266,\n",
       "       16835.33227689, 34455.09141117, 14264.68494305, 23569.42643182,\n",
       "       12549.51533648,  4919.29029498,  7990.49667775, 37370.37799865,\n",
       "       29152.7543817 , 11280.95807199,  4221.11157109,  8173.50430959,\n",
       "        7335.64887272, 17691.52596217, 12549.63164016, 12506.55085706,\n",
       "        5222.46387375, 10699.7965317 ,   633.73141605,  6022.63140088,\n",
       "       11299.54010283,  7544.9532039 ,  8605.40417551, 29401.43300925,\n",
       "       30571.73620288, 14932.24347452, 15678.56838296, 32612.2836139 ,\n",
       "        4034.79197523, 14153.72507883, 11417.07022853,  6425.53718326,\n",
       "       31169.52949843, 11171.89595332, 29584.42614703,  1146.32272357,\n",
       "        7181.63542359,  6175.48237322,  8268.94395008,  6808.4461023 ,\n",
       "       36118.76637373,  9169.88197635,  5395.17989388, 15167.6338548 ])"
      ]
     },
     "execution_count": 226,
     "metadata": {},
     "output_type": "execute_result"
    }
   ],
   "source": [
    "#checking if our saved model is working\n",
    "model = joblib.load('insurance_costs.pkl')\n",
    "\n",
    "prediction=model.predict(x_test)\n",
    "prediction"
   ]
  }
 ],
 "metadata": {
  "kernelspec": {
   "display_name": "Python 3 (ipykernel)",
   "language": "python",
   "name": "python3"
  },
  "language_info": {
   "codemirror_mode": {
    "name": "ipython",
    "version": 3
   },
   "file_extension": ".py",
   "mimetype": "text/x-python",
   "name": "python",
   "nbconvert_exporter": "python",
   "pygments_lexer": "ipython3",
   "version": "3.9.12"
  }
 },
 "nbformat": 4,
 "nbformat_minor": 5
}
