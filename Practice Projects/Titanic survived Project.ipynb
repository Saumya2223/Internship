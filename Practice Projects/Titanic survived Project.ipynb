{
 "cells": [
  {
   "cell_type": "code",
   "execution_count": 292,
   "id": "f2bd74a8",
   "metadata": {},
   "outputs": [],
   "source": [
    "import pandas as pd\n",
    "import numpy as np\n",
    "import matplotlib.pyplot as plt\n",
    "import seaborn as sns\n",
    "import warnings\n",
    "warnings.filterwarnings('ignore')"
   ]
  },
  {
   "cell_type": "code",
   "execution_count": 293,
   "id": "2cbac127",
   "metadata": {},
   "outputs": [],
   "source": [
    "df=pd.read_csv('C:/Users/Rahul/Desktop/Internship/Projects/2nd phase/Titanic survived Project.csv')"
   ]
  },
  {
   "cell_type": "code",
   "execution_count": 294,
   "id": "99cb531e",
   "metadata": {},
   "outputs": [
    {
     "data": {
      "text/html": [
       "<div>\n",
       "<style scoped>\n",
       "    .dataframe tbody tr th:only-of-type {\n",
       "        vertical-align: middle;\n",
       "    }\n",
       "\n",
       "    .dataframe tbody tr th {\n",
       "        vertical-align: top;\n",
       "    }\n",
       "\n",
       "    .dataframe thead th {\n",
       "        text-align: right;\n",
       "    }\n",
       "</style>\n",
       "<table border=\"1\" class=\"dataframe\">\n",
       "  <thead>\n",
       "    <tr style=\"text-align: right;\">\n",
       "      <th></th>\n",
       "      <th>PassengerId</th>\n",
       "      <th>Survived</th>\n",
       "      <th>Pclass</th>\n",
       "      <th>Name</th>\n",
       "      <th>Sex</th>\n",
       "      <th>Age</th>\n",
       "      <th>SibSp</th>\n",
       "      <th>Parch</th>\n",
       "      <th>Ticket</th>\n",
       "      <th>Fare</th>\n",
       "      <th>Cabin</th>\n",
       "      <th>Embarked</th>\n",
       "    </tr>\n",
       "  </thead>\n",
       "  <tbody>\n",
       "    <tr>\n",
       "      <th>0</th>\n",
       "      <td>1</td>\n",
       "      <td>0</td>\n",
       "      <td>3</td>\n",
       "      <td>Braund, Mr. Owen Harris</td>\n",
       "      <td>male</td>\n",
       "      <td>22.0</td>\n",
       "      <td>1</td>\n",
       "      <td>0</td>\n",
       "      <td>A/5 21171</td>\n",
       "      <td>7.2500</td>\n",
       "      <td>NaN</td>\n",
       "      <td>S</td>\n",
       "    </tr>\n",
       "    <tr>\n",
       "      <th>1</th>\n",
       "      <td>2</td>\n",
       "      <td>1</td>\n",
       "      <td>1</td>\n",
       "      <td>Cumings, Mrs. John Bradley (Florence Briggs Th...</td>\n",
       "      <td>female</td>\n",
       "      <td>38.0</td>\n",
       "      <td>1</td>\n",
       "      <td>0</td>\n",
       "      <td>PC 17599</td>\n",
       "      <td>71.2833</td>\n",
       "      <td>C85</td>\n",
       "      <td>C</td>\n",
       "    </tr>\n",
       "    <tr>\n",
       "      <th>2</th>\n",
       "      <td>3</td>\n",
       "      <td>1</td>\n",
       "      <td>3</td>\n",
       "      <td>Heikkinen, Miss. Laina</td>\n",
       "      <td>female</td>\n",
       "      <td>26.0</td>\n",
       "      <td>0</td>\n",
       "      <td>0</td>\n",
       "      <td>STON/O2. 3101282</td>\n",
       "      <td>7.9250</td>\n",
       "      <td>NaN</td>\n",
       "      <td>S</td>\n",
       "    </tr>\n",
       "    <tr>\n",
       "      <th>3</th>\n",
       "      <td>4</td>\n",
       "      <td>1</td>\n",
       "      <td>1</td>\n",
       "      <td>Futrelle, Mrs. Jacques Heath (Lily May Peel)</td>\n",
       "      <td>female</td>\n",
       "      <td>35.0</td>\n",
       "      <td>1</td>\n",
       "      <td>0</td>\n",
       "      <td>113803</td>\n",
       "      <td>53.1000</td>\n",
       "      <td>C123</td>\n",
       "      <td>S</td>\n",
       "    </tr>\n",
       "    <tr>\n",
       "      <th>4</th>\n",
       "      <td>5</td>\n",
       "      <td>0</td>\n",
       "      <td>3</td>\n",
       "      <td>Allen, Mr. William Henry</td>\n",
       "      <td>male</td>\n",
       "      <td>35.0</td>\n",
       "      <td>0</td>\n",
       "      <td>0</td>\n",
       "      <td>373450</td>\n",
       "      <td>8.0500</td>\n",
       "      <td>NaN</td>\n",
       "      <td>S</td>\n",
       "    </tr>\n",
       "    <tr>\n",
       "      <th>...</th>\n",
       "      <td>...</td>\n",
       "      <td>...</td>\n",
       "      <td>...</td>\n",
       "      <td>...</td>\n",
       "      <td>...</td>\n",
       "      <td>...</td>\n",
       "      <td>...</td>\n",
       "      <td>...</td>\n",
       "      <td>...</td>\n",
       "      <td>...</td>\n",
       "      <td>...</td>\n",
       "      <td>...</td>\n",
       "    </tr>\n",
       "    <tr>\n",
       "      <th>886</th>\n",
       "      <td>887</td>\n",
       "      <td>0</td>\n",
       "      <td>2</td>\n",
       "      <td>Montvila, Rev. Juozas</td>\n",
       "      <td>male</td>\n",
       "      <td>27.0</td>\n",
       "      <td>0</td>\n",
       "      <td>0</td>\n",
       "      <td>211536</td>\n",
       "      <td>13.0000</td>\n",
       "      <td>NaN</td>\n",
       "      <td>S</td>\n",
       "    </tr>\n",
       "    <tr>\n",
       "      <th>887</th>\n",
       "      <td>888</td>\n",
       "      <td>1</td>\n",
       "      <td>1</td>\n",
       "      <td>Graham, Miss. Margaret Edith</td>\n",
       "      <td>female</td>\n",
       "      <td>19.0</td>\n",
       "      <td>0</td>\n",
       "      <td>0</td>\n",
       "      <td>112053</td>\n",
       "      <td>30.0000</td>\n",
       "      <td>B42</td>\n",
       "      <td>S</td>\n",
       "    </tr>\n",
       "    <tr>\n",
       "      <th>888</th>\n",
       "      <td>889</td>\n",
       "      <td>0</td>\n",
       "      <td>3</td>\n",
       "      <td>Johnston, Miss. Catherine Helen \"Carrie\"</td>\n",
       "      <td>female</td>\n",
       "      <td>NaN</td>\n",
       "      <td>1</td>\n",
       "      <td>2</td>\n",
       "      <td>W./C. 6607</td>\n",
       "      <td>23.4500</td>\n",
       "      <td>NaN</td>\n",
       "      <td>S</td>\n",
       "    </tr>\n",
       "    <tr>\n",
       "      <th>889</th>\n",
       "      <td>890</td>\n",
       "      <td>1</td>\n",
       "      <td>1</td>\n",
       "      <td>Behr, Mr. Karl Howell</td>\n",
       "      <td>male</td>\n",
       "      <td>26.0</td>\n",
       "      <td>0</td>\n",
       "      <td>0</td>\n",
       "      <td>111369</td>\n",
       "      <td>30.0000</td>\n",
       "      <td>C148</td>\n",
       "      <td>C</td>\n",
       "    </tr>\n",
       "    <tr>\n",
       "      <th>890</th>\n",
       "      <td>891</td>\n",
       "      <td>0</td>\n",
       "      <td>3</td>\n",
       "      <td>Dooley, Mr. Patrick</td>\n",
       "      <td>male</td>\n",
       "      <td>32.0</td>\n",
       "      <td>0</td>\n",
       "      <td>0</td>\n",
       "      <td>370376</td>\n",
       "      <td>7.7500</td>\n",
       "      <td>NaN</td>\n",
       "      <td>Q</td>\n",
       "    </tr>\n",
       "  </tbody>\n",
       "</table>\n",
       "<p>891 rows × 12 columns</p>\n",
       "</div>"
      ],
      "text/plain": [
       "     PassengerId  Survived  Pclass  \\\n",
       "0              1         0       3   \n",
       "1              2         1       1   \n",
       "2              3         1       3   \n",
       "3              4         1       1   \n",
       "4              5         0       3   \n",
       "..           ...       ...     ...   \n",
       "886          887         0       2   \n",
       "887          888         1       1   \n",
       "888          889         0       3   \n",
       "889          890         1       1   \n",
       "890          891         0       3   \n",
       "\n",
       "                                                  Name     Sex   Age  SibSp  \\\n",
       "0                              Braund, Mr. Owen Harris    male  22.0      1   \n",
       "1    Cumings, Mrs. John Bradley (Florence Briggs Th...  female  38.0      1   \n",
       "2                               Heikkinen, Miss. Laina  female  26.0      0   \n",
       "3         Futrelle, Mrs. Jacques Heath (Lily May Peel)  female  35.0      1   \n",
       "4                             Allen, Mr. William Henry    male  35.0      0   \n",
       "..                                                 ...     ...   ...    ...   \n",
       "886                              Montvila, Rev. Juozas    male  27.0      0   \n",
       "887                       Graham, Miss. Margaret Edith  female  19.0      0   \n",
       "888           Johnston, Miss. Catherine Helen \"Carrie\"  female   NaN      1   \n",
       "889                              Behr, Mr. Karl Howell    male  26.0      0   \n",
       "890                                Dooley, Mr. Patrick    male  32.0      0   \n",
       "\n",
       "     Parch            Ticket     Fare Cabin Embarked  \n",
       "0        0         A/5 21171   7.2500   NaN        S  \n",
       "1        0          PC 17599  71.2833   C85        C  \n",
       "2        0  STON/O2. 3101282   7.9250   NaN        S  \n",
       "3        0            113803  53.1000  C123        S  \n",
       "4        0            373450   8.0500   NaN        S  \n",
       "..     ...               ...      ...   ...      ...  \n",
       "886      0            211536  13.0000   NaN        S  \n",
       "887      0            112053  30.0000   B42        S  \n",
       "888      2        W./C. 6607  23.4500   NaN        S  \n",
       "889      0            111369  30.0000  C148        C  \n",
       "890      0            370376   7.7500   NaN        Q  \n",
       "\n",
       "[891 rows x 12 columns]"
      ]
     },
     "execution_count": 294,
     "metadata": {},
     "output_type": "execute_result"
    }
   ],
   "source": [
    "df"
   ]
  },
  {
   "cell_type": "code",
   "execution_count": 295,
   "id": "73325000",
   "metadata": {},
   "outputs": [
    {
     "data": {
      "text/plain": [
       "(891, 12)"
      ]
     },
     "execution_count": 295,
     "metadata": {},
     "output_type": "execute_result"
    }
   ],
   "source": [
    "df.shape"
   ]
  },
  {
   "cell_type": "code",
   "execution_count": 296,
   "id": "c72c50bd",
   "metadata": {},
   "outputs": [
    {
     "data": {
      "text/plain": [
       "Index(['PassengerId', 'Survived', 'Pclass', 'Name', 'Sex', 'Age', 'SibSp',\n",
       "       'Parch', 'Ticket', 'Fare', 'Cabin', 'Embarked'],\n",
       "      dtype='object')"
      ]
     },
     "execution_count": 296,
     "metadata": {},
     "output_type": "execute_result"
    }
   ],
   "source": [
    "df.columns"
   ]
  },
  {
   "cell_type": "markdown",
   "id": "d040b279",
   "metadata": {},
   "source": [
    "PassengerID, Name, Ticket & Cabin are unique identifiers and are unlikely to have any impact on predicting the survival. Hence droping the columns from the data set."
   ]
  },
  {
   "cell_type": "code",
   "execution_count": 297,
   "id": "8b5ed178",
   "metadata": {},
   "outputs": [],
   "source": [
    "df=df.drop(['PassengerId','Name','Ticket','Cabin'],axis=1)"
   ]
  },
  {
   "cell_type": "code",
   "execution_count": 298,
   "id": "9a4eb7b3",
   "metadata": {},
   "outputs": [
    {
     "data": {
      "text/html": [
       "<div>\n",
       "<style scoped>\n",
       "    .dataframe tbody tr th:only-of-type {\n",
       "        vertical-align: middle;\n",
       "    }\n",
       "\n",
       "    .dataframe tbody tr th {\n",
       "        vertical-align: top;\n",
       "    }\n",
       "\n",
       "    .dataframe thead th {\n",
       "        text-align: right;\n",
       "    }\n",
       "</style>\n",
       "<table border=\"1\" class=\"dataframe\">\n",
       "  <thead>\n",
       "    <tr style=\"text-align: right;\">\n",
       "      <th></th>\n",
       "      <th>Survived</th>\n",
       "      <th>Pclass</th>\n",
       "      <th>Sex</th>\n",
       "      <th>Age</th>\n",
       "      <th>SibSp</th>\n",
       "      <th>Parch</th>\n",
       "      <th>Fare</th>\n",
       "      <th>Embarked</th>\n",
       "    </tr>\n",
       "  </thead>\n",
       "  <tbody>\n",
       "    <tr>\n",
       "      <th>0</th>\n",
       "      <td>0</td>\n",
       "      <td>3</td>\n",
       "      <td>male</td>\n",
       "      <td>22.0</td>\n",
       "      <td>1</td>\n",
       "      <td>0</td>\n",
       "      <td>7.2500</td>\n",
       "      <td>S</td>\n",
       "    </tr>\n",
       "    <tr>\n",
       "      <th>1</th>\n",
       "      <td>1</td>\n",
       "      <td>1</td>\n",
       "      <td>female</td>\n",
       "      <td>38.0</td>\n",
       "      <td>1</td>\n",
       "      <td>0</td>\n",
       "      <td>71.2833</td>\n",
       "      <td>C</td>\n",
       "    </tr>\n",
       "    <tr>\n",
       "      <th>2</th>\n",
       "      <td>1</td>\n",
       "      <td>3</td>\n",
       "      <td>female</td>\n",
       "      <td>26.0</td>\n",
       "      <td>0</td>\n",
       "      <td>0</td>\n",
       "      <td>7.9250</td>\n",
       "      <td>S</td>\n",
       "    </tr>\n",
       "    <tr>\n",
       "      <th>3</th>\n",
       "      <td>1</td>\n",
       "      <td>1</td>\n",
       "      <td>female</td>\n",
       "      <td>35.0</td>\n",
       "      <td>1</td>\n",
       "      <td>0</td>\n",
       "      <td>53.1000</td>\n",
       "      <td>S</td>\n",
       "    </tr>\n",
       "    <tr>\n",
       "      <th>4</th>\n",
       "      <td>0</td>\n",
       "      <td>3</td>\n",
       "      <td>male</td>\n",
       "      <td>35.0</td>\n",
       "      <td>0</td>\n",
       "      <td>0</td>\n",
       "      <td>8.0500</td>\n",
       "      <td>S</td>\n",
       "    </tr>\n",
       "    <tr>\n",
       "      <th>...</th>\n",
       "      <td>...</td>\n",
       "      <td>...</td>\n",
       "      <td>...</td>\n",
       "      <td>...</td>\n",
       "      <td>...</td>\n",
       "      <td>...</td>\n",
       "      <td>...</td>\n",
       "      <td>...</td>\n",
       "    </tr>\n",
       "    <tr>\n",
       "      <th>886</th>\n",
       "      <td>0</td>\n",
       "      <td>2</td>\n",
       "      <td>male</td>\n",
       "      <td>27.0</td>\n",
       "      <td>0</td>\n",
       "      <td>0</td>\n",
       "      <td>13.0000</td>\n",
       "      <td>S</td>\n",
       "    </tr>\n",
       "    <tr>\n",
       "      <th>887</th>\n",
       "      <td>1</td>\n",
       "      <td>1</td>\n",
       "      <td>female</td>\n",
       "      <td>19.0</td>\n",
       "      <td>0</td>\n",
       "      <td>0</td>\n",
       "      <td>30.0000</td>\n",
       "      <td>S</td>\n",
       "    </tr>\n",
       "    <tr>\n",
       "      <th>888</th>\n",
       "      <td>0</td>\n",
       "      <td>3</td>\n",
       "      <td>female</td>\n",
       "      <td>NaN</td>\n",
       "      <td>1</td>\n",
       "      <td>2</td>\n",
       "      <td>23.4500</td>\n",
       "      <td>S</td>\n",
       "    </tr>\n",
       "    <tr>\n",
       "      <th>889</th>\n",
       "      <td>1</td>\n",
       "      <td>1</td>\n",
       "      <td>male</td>\n",
       "      <td>26.0</td>\n",
       "      <td>0</td>\n",
       "      <td>0</td>\n",
       "      <td>30.0000</td>\n",
       "      <td>C</td>\n",
       "    </tr>\n",
       "    <tr>\n",
       "      <th>890</th>\n",
       "      <td>0</td>\n",
       "      <td>3</td>\n",
       "      <td>male</td>\n",
       "      <td>32.0</td>\n",
       "      <td>0</td>\n",
       "      <td>0</td>\n",
       "      <td>7.7500</td>\n",
       "      <td>Q</td>\n",
       "    </tr>\n",
       "  </tbody>\n",
       "</table>\n",
       "<p>891 rows × 8 columns</p>\n",
       "</div>"
      ],
      "text/plain": [
       "     Survived  Pclass     Sex   Age  SibSp  Parch     Fare Embarked\n",
       "0           0       3    male  22.0      1      0   7.2500        S\n",
       "1           1       1  female  38.0      1      0  71.2833        C\n",
       "2           1       3  female  26.0      0      0   7.9250        S\n",
       "3           1       1  female  35.0      1      0  53.1000        S\n",
       "4           0       3    male  35.0      0      0   8.0500        S\n",
       "..        ...     ...     ...   ...    ...    ...      ...      ...\n",
       "886         0       2    male  27.0      0      0  13.0000        S\n",
       "887         1       1  female  19.0      0      0  30.0000        S\n",
       "888         0       3  female   NaN      1      2  23.4500        S\n",
       "889         1       1    male  26.0      0      0  30.0000        C\n",
       "890         0       3    male  32.0      0      0   7.7500        Q\n",
       "\n",
       "[891 rows x 8 columns]"
      ]
     },
     "execution_count": 298,
     "metadata": {},
     "output_type": "execute_result"
    }
   ],
   "source": [
    "df"
   ]
  },
  {
   "cell_type": "markdown",
   "id": "8cf7f723",
   "metadata": {},
   "source": [
    "The new shape of DataFrame is 891x8."
   ]
  },
  {
   "cell_type": "code",
   "execution_count": 299,
   "id": "318e44d9",
   "metadata": {},
   "outputs": [
    {
     "data": {
      "text/plain": [
       "Index(['Survived', 'Pclass', 'Sex', 'Age', 'SibSp', 'Parch', 'Fare',\n",
       "       'Embarked'],\n",
       "      dtype='object')"
      ]
     },
     "execution_count": 299,
     "metadata": {},
     "output_type": "execute_result"
    }
   ],
   "source": [
    "df.columns"
   ]
  },
  {
   "cell_type": "code",
   "execution_count": 300,
   "id": "6b2e055f",
   "metadata": {},
   "outputs": [
    {
     "data": {
      "text/plain": [
       "['Survived', 'Pclass', 'Sex', 'Age', 'SibSp', 'Parch', 'Fare', 'Embarked']"
      ]
     },
     "execution_count": 300,
     "metadata": {},
     "output_type": "execute_result"
    }
   ],
   "source": [
    "df.columns.tolist()"
   ]
  },
  {
   "cell_type": "markdown",
   "id": "f129fdf4",
   "metadata": {},
   "source": [
    "Examining whether Null values are present"
   ]
  },
  {
   "cell_type": "code",
   "execution_count": 301,
   "id": "9e510f4f",
   "metadata": {},
   "outputs": [
    {
     "data": {
      "text/plain": [
       "Survived      0\n",
       "Pclass        0\n",
       "Sex           0\n",
       "Age         177\n",
       "SibSp         0\n",
       "Parch         0\n",
       "Fare          0\n",
       "Embarked      2\n",
       "dtype: int64"
      ]
     },
     "execution_count": 301,
     "metadata": {},
     "output_type": "execute_result"
    }
   ],
   "source": [
    "df.isnull().sum()"
   ]
  },
  {
   "cell_type": "code",
   "execution_count": 302,
   "id": "be601bf3",
   "metadata": {},
   "outputs": [
    {
     "data": {
      "text/plain": [
       "<AxesSubplot:>"
      ]
     },
     "execution_count": 302,
     "metadata": {},
     "output_type": "execute_result"
    },
    {
     "data": {
      "image/png": "[encoded data removed]",
      "text/plain": [
       "<Figure size 432x288 with 2 Axes>"
      ]
     },
     "metadata": {
      "needs_background": "light"
     },
     "output_type": "display_data"
    }
   ],
   "source": [
    "sns.heatmap(df.isna())"
   ]
  },
  {
   "cell_type": "markdown",
   "id": "9614570f",
   "metadata": {},
   "source": [
    "There are 177 Null values present in Age column and 2 Null values in Embarked."
   ]
  },
  {
   "cell_type": "markdown",
   "id": "bafc0a5f",
   "metadata": {},
   "source": [
    "We need to handle the Nan values before analysis of data."
   ]
  },
  {
   "cell_type": "code",
   "execution_count": 303,
   "id": "0c1844f3",
   "metadata": {},
   "outputs": [],
   "source": [
    "#Replacing the missing values in the Age column with the mean method\n",
    "\n",
    "age_mean=df['Age'].mean()\n",
    "\n",
    "df['Age'].fillna(age_mean, inplace=True)"
   ]
  },
  {
   "cell_type": "code",
   "execution_count": 304,
   "id": "20bbf481",
   "metadata": {},
   "outputs": [
    {
     "data": {
      "text/plain": [
       "0      22.000000\n",
       "1      38.000000\n",
       "2      26.000000\n",
       "3      35.000000\n",
       "4      35.000000\n",
       "         ...    \n",
       "886    27.000000\n",
       "887    19.000000\n",
       "888    29.699118\n",
       "889    26.000000\n",
       "890    32.000000\n",
       "Name: Age, Length: 891, dtype: float64"
      ]
     },
     "execution_count": 304,
     "metadata": {},
     "output_type": "execute_result"
    }
   ],
   "source": [
    "df['Age']"
   ]
  },
  {
   "cell_type": "code",
   "execution_count": 305,
   "id": "0970a553",
   "metadata": {},
   "outputs": [],
   "source": [
    "#Replacing the missing values in the Embarked column with the mode method\n",
    "\n",
    "mode_embarked = df['Embarked'].mode()[0]\n",
    "\n",
    "df['Embarked'].fillna(mode_embarked, inplace=True)"
   ]
  },
  {
   "cell_type": "code",
   "execution_count": 306,
   "id": "ab180531",
   "metadata": {},
   "outputs": [
    {
     "data": {
      "text/plain": [
       "0      S\n",
       "1      C\n",
       "2      S\n",
       "3      S\n",
       "4      S\n",
       "      ..\n",
       "886    S\n",
       "887    S\n",
       "888    S\n",
       "889    C\n",
       "890    Q\n",
       "Name: Embarked, Length: 891, dtype: object"
      ]
     },
     "execution_count": 306,
     "metadata": {},
     "output_type": "execute_result"
    }
   ],
   "source": [
    "df['Embarked']"
   ]
  },
  {
   "cell_type": "markdown",
   "id": "12f1836f",
   "metadata": {},
   "source": [
    "Examining whether Null values are still present"
   ]
  },
  {
   "cell_type": "code",
   "execution_count": 307,
   "id": "dfb6b86d",
   "metadata": {},
   "outputs": [
    {
     "data": {
      "text/plain": [
       "Survived    0\n",
       "Pclass      0\n",
       "Sex         0\n",
       "Age         0\n",
       "SibSp       0\n",
       "Parch       0\n",
       "Fare        0\n",
       "Embarked    0\n",
       "dtype: int64"
      ]
     },
     "execution_count": 307,
     "metadata": {},
     "output_type": "execute_result"
    }
   ],
   "source": [
    "df.isna().sum()"
   ]
  },
  {
   "cell_type": "code",
   "execution_count": 308,
   "id": "17dff8ff",
   "metadata": {},
   "outputs": [
    {
     "data": {
      "text/plain": [
       "<AxesSubplot:>"
      ]
     },
     "execution_count": 308,
     "metadata": {},
     "output_type": "execute_result"
    },
    {
     "data": {
      "image/png": "[encoded data removed]",
      "text/plain": [
       "<Figure size 432x288 with 2 Axes>"
      ]
     },
     "metadata": {
      "needs_background": "light"
     },
     "output_type": "display_data"
    }
   ],
   "source": [
    "sns.heatmap(df.isna())"
   ]
  },
  {
   "cell_type": "markdown",
   "id": "b12bd836",
   "metadata": {},
   "source": [
    "No Null present in the data."
   ]
  },
  {
   "cell_type": "markdown",
   "id": "f532452d",
   "metadata": {},
   "source": [
    "Checking for any duplicate data"
   ]
  },
  {
   "cell_type": "code",
   "execution_count": 309,
   "id": "0533f620",
   "metadata": {},
   "outputs": [
    {
     "data": {
      "text/plain": [
       "111"
      ]
     },
     "execution_count": 309,
     "metadata": {},
     "output_type": "execute_result"
    }
   ],
   "source": [
    "df.duplicated(keep='first').sum()"
   ]
  },
  {
   "cell_type": "code",
   "execution_count": 310,
   "id": "dfceec45",
   "metadata": {},
   "outputs": [],
   "source": [
    "#dropping duplicate rows from the data\n",
    "df.drop_duplicates(inplace=True)"
   ]
  },
  {
   "cell_type": "code",
   "execution_count": 311,
   "id": "4b7f30ac",
   "metadata": {},
   "outputs": [
    {
     "data": {
      "text/plain": [
       "(780, 8)"
      ]
     },
     "execution_count": 311,
     "metadata": {},
     "output_type": "execute_result"
    }
   ],
   "source": [
    "#Rechekcing the shape of the DataFrame\n",
    "df.shape"
   ]
  },
  {
   "cell_type": "code",
   "execution_count": 312,
   "id": "7b7b1b68",
   "metadata": {},
   "outputs": [
    {
     "name": "stdout",
     "output_type": "stream",
     "text": [
      "<class 'pandas.core.frame.DataFrame'>\n",
      "Int64Index: 780 entries, 0 to 890\n",
      "Data columns (total 8 columns):\n",
      " #   Column    Non-Null Count  Dtype  \n",
      "---  ------    --------------  -----  \n",
      " 0   Survived  780 non-null    int64  \n",
      " 1   Pclass    780 non-null    int64  \n",
      " 2   Sex       780 non-null    object \n",
      " 3   Age       780 non-null    float64\n",
      " 4   SibSp     780 non-null    int64  \n",
      " 5   Parch     780 non-null    int64  \n",
      " 6   Fare      780 non-null    float64\n",
      " 7   Embarked  780 non-null    object \n",
      "dtypes: float64(2), int64(4), object(2)\n",
      "memory usage: 54.8+ KB\n"
     ]
    }
   ],
   "source": [
    "df.info()"
   ]
  },
  {
   "cell_type": "markdown",
   "id": "ac79fb2d",
   "metadata": {},
   "source": [
    "Our target variable is Survived and rest are the features."
   ]
  },
  {
   "cell_type": "code",
   "execution_count": 313,
   "id": "8c7f1f37",
   "metadata": {},
   "outputs": [
    {
     "data": {
      "text/plain": [
       "array([0, 1], dtype=int64)"
      ]
     },
     "execution_count": 313,
     "metadata": {},
     "output_type": "execute_result"
    }
   ],
   "source": [
    "df['Survived'].unique()"
   ]
  },
  {
   "cell_type": "code",
   "execution_count": 314,
   "id": "fa7ab44a",
   "metadata": {},
   "outputs": [
    {
     "data": {
      "text/plain": [
       "0    458\n",
       "1    322\n",
       "Name: Survived, dtype: int64"
      ]
     },
     "execution_count": 314,
     "metadata": {},
     "output_type": "execute_result"
    }
   ],
   "source": [
    "df['Survived'].value_counts()"
   ]
  },
  {
   "cell_type": "markdown",
   "id": "84565714",
   "metadata": {},
   "source": [
    "Class imbalance found. May need to oversample later."
   ]
  },
  {
   "cell_type": "code",
   "execution_count": 315,
   "id": "2a84b06b",
   "metadata": {},
   "outputs": [
    {
     "name": "stdout",
     "output_type": "stream",
     "text": [
      "0    458\n",
      "1    322\n",
      "Name: Survived, dtype: int64\n",
      "\n",
      "\n",
      "3    404\n",
      "1    212\n",
      "2    164\n",
      "Name: Pclass, dtype: int64\n",
      "\n",
      "\n",
      "male      488\n",
      "female    292\n",
      "Name: Sex, dtype: int64\n",
      "\n",
      "\n",
      "29.699118    104\n",
      "24.000000     29\n",
      "18.000000     25\n",
      "22.000000     24\n",
      "19.000000     23\n",
      "            ... \n",
      "36.500000      1\n",
      "0.920000       1\n",
      "23.500000      1\n",
      "55.500000      1\n",
      "74.000000      1\n",
      "Name: Age, Length: 89, dtype: int64\n",
      "\n",
      "\n",
      "0    513\n",
      "1    201\n",
      "2     27\n",
      "4     18\n",
      "3     14\n",
      "5      5\n",
      "8      2\n",
      "Name: SibSp, dtype: int64\n",
      "\n",
      "\n",
      "0    576\n",
      "1    114\n",
      "2     75\n",
      "5      5\n",
      "3      5\n",
      "4      4\n",
      "6      1\n",
      "Name: Parch, dtype: int64\n",
      "\n",
      "\n",
      "13.0000    31\n",
      "26.0000    30\n",
      "8.0500     25\n",
      "10.5000    23\n",
      "7.8958     20\n",
      "           ..\n",
      "28.5000     1\n",
      "6.2375      1\n",
      "14.0000     1\n",
      "9.4750      1\n",
      "10.5167     1\n",
      "Name: Fare, Length: 248, dtype: int64\n",
      "\n",
      "\n",
      "S    567\n",
      "C    155\n",
      "Q     58\n",
      "Name: Embarked, dtype: int64\n",
      "\n",
      "\n"
     ]
    }
   ],
   "source": [
    "#checking value counts in each column\n",
    "for i in df.columns:\n",
    "    print(df[i].value_counts())\n",
    "    print('\\n')"
   ]
  },
  {
   "cell_type": "code",
   "execution_count": 316,
   "id": "b1b0bb7a",
   "metadata": {},
   "outputs": [
    {
     "data": {
      "text/html": [
       "<div>\n",
       "<style scoped>\n",
       "    .dataframe tbody tr th:only-of-type {\n",
       "        vertical-align: middle;\n",
       "    }\n",
       "\n",
       "    .dataframe tbody tr th {\n",
       "        vertical-align: top;\n",
       "    }\n",
       "\n",
       "    .dataframe thead th {\n",
       "        text-align: right;\n",
       "    }\n",
       "</style>\n",
       "<table border=\"1\" class=\"dataframe\">\n",
       "  <thead>\n",
       "    <tr style=\"text-align: right;\">\n",
       "      <th></th>\n",
       "      <th>Survived</th>\n",
       "      <th>Pclass</th>\n",
       "      <th>Age</th>\n",
       "      <th>SibSp</th>\n",
       "      <th>Parch</th>\n",
       "      <th>Fare</th>\n",
       "    </tr>\n",
       "  </thead>\n",
       "  <tbody>\n",
       "    <tr>\n",
       "      <th>count</th>\n",
       "      <td>780.000000</td>\n",
       "      <td>780.000000</td>\n",
       "      <td>780.000000</td>\n",
       "      <td>780.000000</td>\n",
       "      <td>780.000000</td>\n",
       "      <td>780.000000</td>\n",
       "    </tr>\n",
       "    <tr>\n",
       "      <th>mean</th>\n",
       "      <td>0.412821</td>\n",
       "      <td>2.246154</td>\n",
       "      <td>29.797600</td>\n",
       "      <td>0.525641</td>\n",
       "      <td>0.417949</td>\n",
       "      <td>34.829108</td>\n",
       "    </tr>\n",
       "    <tr>\n",
       "      <th>std</th>\n",
       "      <td>0.492657</td>\n",
       "      <td>0.854452</td>\n",
       "      <td>13.708883</td>\n",
       "      <td>0.988046</td>\n",
       "      <td>0.838536</td>\n",
       "      <td>52.263440</td>\n",
       "    </tr>\n",
       "    <tr>\n",
       "      <th>min</th>\n",
       "      <td>0.000000</td>\n",
       "      <td>1.000000</td>\n",
       "      <td>0.420000</td>\n",
       "      <td>0.000000</td>\n",
       "      <td>0.000000</td>\n",
       "      <td>0.000000</td>\n",
       "    </tr>\n",
       "    <tr>\n",
       "      <th>25%</th>\n",
       "      <td>0.000000</td>\n",
       "      <td>1.000000</td>\n",
       "      <td>21.750000</td>\n",
       "      <td>0.000000</td>\n",
       "      <td>0.000000</td>\n",
       "      <td>8.050000</td>\n",
       "    </tr>\n",
       "    <tr>\n",
       "      <th>50%</th>\n",
       "      <td>0.000000</td>\n",
       "      <td>3.000000</td>\n",
       "      <td>29.699118</td>\n",
       "      <td>0.000000</td>\n",
       "      <td>0.000000</td>\n",
       "      <td>15.950000</td>\n",
       "    </tr>\n",
       "    <tr>\n",
       "      <th>75%</th>\n",
       "      <td>1.000000</td>\n",
       "      <td>3.000000</td>\n",
       "      <td>36.000000</td>\n",
       "      <td>1.000000</td>\n",
       "      <td>1.000000</td>\n",
       "      <td>34.375000</td>\n",
       "    </tr>\n",
       "    <tr>\n",
       "      <th>max</th>\n",
       "      <td>1.000000</td>\n",
       "      <td>3.000000</td>\n",
       "      <td>80.000000</td>\n",
       "      <td>8.000000</td>\n",
       "      <td>6.000000</td>\n",
       "      <td>512.329200</td>\n",
       "    </tr>\n",
       "  </tbody>\n",
       "</table>\n",
       "</div>"
      ],
      "text/plain": [
       "         Survived      Pclass         Age       SibSp       Parch        Fare\n",
       "count  780.000000  780.000000  780.000000  780.000000  780.000000  780.000000\n",
       "mean     0.412821    2.246154   29.797600    0.525641    0.417949   34.829108\n",
       "std      0.492657    0.854452   13.708883    0.988046    0.838536   52.263440\n",
       "min      0.000000    1.000000    0.420000    0.000000    0.000000    0.000000\n",
       "25%      0.000000    1.000000   21.750000    0.000000    0.000000    8.050000\n",
       "50%      0.000000    3.000000   29.699118    0.000000    0.000000   15.950000\n",
       "75%      1.000000    3.000000   36.000000    1.000000    1.000000   34.375000\n",
       "max      1.000000    3.000000   80.000000    8.000000    6.000000  512.329200"
      ]
     },
     "execution_count": 316,
     "metadata": {},
     "output_type": "execute_result"
    }
   ],
   "source": [
    "df.describe()"
   ]
  },
  {
   "cell_type": "markdown",
   "id": "e8546911",
   "metadata": {},
   "source": [
    "1.No null values are present in any columns\n",
    "\n",
    "2.No negative values present"
   ]
  },
  {
   "cell_type": "code",
   "execution_count": 317,
   "id": "1064e894",
   "metadata": {},
   "outputs": [
    {
     "name": "stdout",
     "output_type": "stream",
     "text": [
      "Percentage who survived: 41.28%\n"
     ]
    },
    {
     "data": {
      "image/png": "[encoded data removed]",
      "text/plain": [
       "<Figure size 432x288 with 1 Axes>"
      ]
     },
     "metadata": {
      "needs_background": "light"
     },
     "output_type": "display_data"
    }
   ],
   "source": [
    "sns.histplot(data=df['Survived'])\n",
    "survived_perc = round((df['Survived'].sum()) / len(df.index) * 100,2)\n",
    "print(f'Percentage who survived: {survived_perc}%')"
   ]
  },
  {
   "cell_type": "markdown",
   "id": "3cf638b8",
   "metadata": {},
   "source": [
    "As previously stated Class imbalance found in Survived column."
   ]
  },
  {
   "cell_type": "code",
   "execution_count": 318,
   "id": "2e7843e6",
   "metadata": {},
   "outputs": [
    {
     "data": {
      "text/plain": [
       "<AxesSubplot:xlabel='Pclass', ylabel='Count'>"
      ]
     },
     "execution_count": 318,
     "metadata": {},
     "output_type": "execute_result"
    },
    {
     "data": {
      "image/png": "[encoded data removed]",
      "text/plain": [
       "<Figure size 432x288 with 1 Axes>"
      ]
     },
     "metadata": {
      "needs_background": "light"
     },
     "output_type": "display_data"
    }
   ],
   "source": [
    "sns.histplot(data=df['Pclass'])"
   ]
  },
  {
   "cell_type": "markdown",
   "id": "5be09a3c",
   "metadata": {},
   "source": [
    "Pclass column is a categorical column, because numerical values in the column are just labels for Passenger class."
   ]
  },
  {
   "cell_type": "code",
   "execution_count": 319,
   "id": "1e780102",
   "metadata": {},
   "outputs": [
    {
     "data": {
      "text/plain": [
       "<AxesSubplot:xlabel='Age', ylabel='Count'>"
      ]
     },
     "execution_count": 319,
     "metadata": {},
     "output_type": "execute_result"
    },
    {
     "data": {
      "image/png": "[encoded data removed]",
      "text/plain": [
       "<Figure size 432x288 with 1 Axes>"
      ]
     },
     "metadata": {
      "needs_background": "light"
     },
     "output_type": "display_data"
    }
   ],
   "source": [
    "sns.histplot(data=df['Age'])"
   ]
  },
  {
   "cell_type": "markdown",
   "id": "687ab705",
   "metadata": {},
   "source": [
    "Although the data in the column 'Age' is uniformly distributed, it appears to be more concentrated around the value 30."
   ]
  },
  {
   "cell_type": "code",
   "execution_count": 320,
   "id": "8d18e20f",
   "metadata": {},
   "outputs": [
    {
     "data": {
      "text/plain": [
       "<AxesSubplot:xlabel='SibSp', ylabel='Count'>"
      ]
     },
     "execution_count": 320,
     "metadata": {},
     "output_type": "execute_result"
    },
    {
     "data": {
      "image/png": "[encoded data removed]",
      "text/plain": [
       "<Figure size 432x288 with 1 Axes>"
      ]
     },
     "metadata": {
      "needs_background": "light"
     },
     "output_type": "display_data"
    }
   ],
   "source": [
    "sns.histplot(data=df['SibSp'])"
   ]
  },
  {
   "cell_type": "markdown",
   "id": "e9995591",
   "metadata": {},
   "source": [
    "'SibSp' data shows the number of siblings/spouses aboard. Frequency of no. siblings/spouses aboard 0 is very high. "
   ]
  },
  {
   "cell_type": "code",
   "execution_count": 321,
   "id": "a248919f",
   "metadata": {},
   "outputs": [
    {
     "data": {
      "text/plain": [
       "<AxesSubplot:xlabel='Parch', ylabel='Count'>"
      ]
     },
     "execution_count": 321,
     "metadata": {},
     "output_type": "execute_result"
    },
    {
     "data": {
      "image/png": "[encoded data removed]",
      "text/plain": [
       "<Figure size 432x288 with 1 Axes>"
      ]
     },
     "metadata": {
      "needs_background": "light"
     },
     "output_type": "display_data"
    }
   ],
   "source": [
    "sns.histplot(data=df['Parch'])"
   ]
  },
  {
   "cell_type": "markdown",
   "id": "bc45b059",
   "metadata": {},
   "source": [
    "'Parch' data shows the number of parents/children aboard.Frequency of no. parents/children aboard 0 is very high."
   ]
  },
  {
   "cell_type": "code",
   "execution_count": 322,
   "id": "3a9800e7",
   "metadata": {},
   "outputs": [
    {
     "data": {
      "text/plain": [
       "<AxesSubplot:xlabel='Fare', ylabel='Count'>"
      ]
     },
     "execution_count": 322,
     "metadata": {},
     "output_type": "execute_result"
    },
    {
     "data": {
      "image/png": "[encoded data removed]",
      "text/plain": [
       "<Figure size 432x288 with 1 Axes>"
      ]
     },
     "metadata": {
      "needs_background": "light"
     },
     "output_type": "display_data"
    }
   ],
   "source": [
    "sns.histplot(data=df['Fare'])"
   ]
  },
  {
   "cell_type": "markdown",
   "id": "db74b769",
   "metadata": {},
   "source": [
    "1. Data in 'Fare' is negatively skewed. \n",
    "2. And some outliers are also present."
   ]
  },
  {
   "cell_type": "code",
   "execution_count": 323,
   "id": "d6d15080",
   "metadata": {},
   "outputs": [
    {
     "data": {
      "text/plain": [
       "male      488\n",
       "female    292\n",
       "Name: Sex, dtype: int64"
      ]
     },
     "execution_count": 323,
     "metadata": {},
     "output_type": "execute_result"
    },
    {
     "data": {
      "image/png": "[encoded data removed]",
      "text/plain": [
       "<Figure size 432x288 with 1 Axes>"
      ]
     },
     "metadata": {
      "needs_background": "light"
     },
     "output_type": "display_data"
    }
   ],
   "source": [
    "sns.histplot(data=df['Sex'])\n",
    "df['Sex'].value_counts()"
   ]
  },
  {
   "cell_type": "code",
   "execution_count": 324,
   "id": "e9767bab",
   "metadata": {},
   "outputs": [
    {
     "data": {
      "text/plain": [
       "S    567\n",
       "C    155\n",
       "Q     58\n",
       "Name: Embarked, dtype: int64"
      ]
     },
     "execution_count": 324,
     "metadata": {},
     "output_type": "execute_result"
    },
    {
     "data": {
      "image/png": "[encoded data removed]",
      "text/plain": [
       "<Figure size 432x288 with 1 Axes>"
      ]
     },
     "metadata": {
      "needs_background": "light"
     },
     "output_type": "display_data"
    }
   ],
   "source": [
    "sns.histplot(data=df['Embarked'])\n",
    "df['Embarked'].value_counts()"
   ]
  },
  {
   "cell_type": "code",
   "execution_count": 326,
   "id": "01779abc",
   "metadata": {},
   "outputs": [
    {
     "data": {
      "text/plain": [
       "<AxesSubplot:xlabel='Pclass', ylabel='count'>"
      ]
     },
     "execution_count": 326,
     "metadata": {},
     "output_type": "execute_result"
    },
    {
     "data": {
      "image/png": "[encoded data removed]",
      "text/plain": [
       "<Figure size 432x288 with 1 Axes>"
      ]
     },
     "metadata": {
      "needs_background": "light"
     },
     "output_type": "display_data"
    }
   ],
   "source": [
    "sns.countplot(x='Pclass',hue='Survived',data=df)"
   ]
  },
  {
   "cell_type": "code",
   "execution_count": 327,
   "id": "1311ec88",
   "metadata": {},
   "outputs": [
    {
     "data": {
      "text/plain": [
       "<AxesSubplot:xlabel='Sex', ylabel='count'>"
      ]
     },
     "execution_count": 327,
     "metadata": {},
     "output_type": "execute_result"
    },
    {
     "data": {
      "image/png": "[encoded data removed]",
      "text/plain": [
       "<Figure size 432x288 with 1 Axes>"
      ]
     },
     "metadata": {
      "needs_background": "light"
     },
     "output_type": "display_data"
    }
   ],
   "source": [
    "sns.countplot(x='Sex',hue='Survived',data=df)"
   ]
  },
  {
   "cell_type": "markdown",
   "id": "cd93a4fb",
   "metadata": {},
   "source": [
    "Survival rate of women are greater than of men."
   ]
  },
  {
   "cell_type": "code",
   "execution_count": 328,
   "id": "c7a5be71",
   "metadata": {},
   "outputs": [
    {
     "data": {
      "image/png": "[encoded data removed]",
      "text/plain": [
       "<Figure size 411.875x360 with 1 Axes>"
      ]
     },
     "metadata": {
      "needs_background": "light"
     },
     "output_type": "display_data"
    }
   ],
   "source": [
    "sns.catplot(x='Embarked', hue='Survived', data=df, kind='count').set(title='Embarked and Survived')\n",
    "plt.show()"
   ]
  },
  {
   "cell_type": "markdown",
   "id": "6b0d3f4a",
   "metadata": {},
   "source": [
    "Survival of S class in Embarked is very high."
   ]
  },
  {
   "cell_type": "code",
   "execution_count": 329,
   "id": "633c230c",
   "metadata": {},
   "outputs": [
    {
     "data": {
      "image/png": "[encoded data removed]",
      "text/plain": [
       "<Figure size 402.375x360 with 1 Axes>"
      ]
     },
     "metadata": {
      "needs_background": "light"
     },
     "output_type": "display_data"
    }
   ],
   "source": [
    "# Embarked and Pclass\n",
    "sns.catplot(x='Embarked', hue='Pclass', data=df, kind='count').set(title='Embarked and Pclass')\n",
    "plt.show()"
   ]
  },
  {
   "cell_type": "code",
   "execution_count": 335,
   "id": "766edccc",
   "metadata": {},
   "outputs": [
    {
     "data": {
      "image/png": "[encoded data removed]",
      "text/plain": [
       "<Figure size 432x288 with 1 Axes>"
      ]
     },
     "metadata": {
      "needs_background": "light"
     },
     "output_type": "display_data"
    }
   ],
   "source": [
    "sns.boxplot(x='Survived', y='Age', data=df).set(title='Survived and Age')\n",
    "plt.show()"
   ]
  },
  {
   "cell_type": "code",
   "execution_count": 336,
   "id": "f4264242",
   "metadata": {},
   "outputs": [
    {
     "data": {
      "image/png": "[encoded data removed]",
      "text/plain": [
       "<Figure size 432x288 with 1 Axes>"
      ]
     },
     "metadata": {
      "needs_background": "light"
     },
     "output_type": "display_data"
    }
   ],
   "source": [
    "# Pclass and Age\n",
    "sns.boxplot(x='Pclass', y='Age', data=df).set(title='Pclass and Age')\n",
    "plt.show()"
   ]
  },
  {
   "cell_type": "markdown",
   "id": "882eaaba",
   "metadata": {},
   "source": [
    "Pclass 1 are older than of Pcalss 2 and 3 on average."
   ]
  },
  {
   "cell_type": "code",
   "execution_count": 145,
   "id": "37ff4ced",
   "metadata": {},
   "outputs": [
    {
     "data": {
      "text/plain": [
       "<seaborn.axisgrid.PairGrid at 0x21e2f3b2fd0>"
      ]
     },
     "execution_count": 145,
     "metadata": {},
     "output_type": "execute_result"
    },
    {
     "data": {
      "image/png": "[encoded data removed]",
      "text/plain": [
       "<Figure size 1080x1080 with 42 Axes>"
      ]
     },
     "metadata": {
      "needs_background": "light"
     },
     "output_type": "display_data"
    }
   ],
   "source": [
    "sns.pairplot(data=df,palette='deep',diag_kind='kde')"
   ]
  },
  {
   "cell_type": "code",
   "execution_count": 146,
   "id": "f8bea801",
   "metadata": {},
   "outputs": [
    {
     "data": {
      "text/plain": [
       "Survived    0.354825\n",
       "Pclass     -0.494364\n",
       "Age         0.397400\n",
       "SibSp       3.046805\n",
       "Parch       2.624282\n",
       "Fare        4.561010\n",
       "dtype: float64"
      ]
     },
     "execution_count": 146,
     "metadata": {},
     "output_type": "execute_result"
    }
   ],
   "source": [
    "#Checking skewness\n",
    "df.skew()"
   ]
  },
  {
   "cell_type": "markdown",
   "id": "0530dcd5",
   "metadata": {},
   "source": [
    "Skewness found in Columns : 'SibSp','Parch' and'Fare'."
   ]
  },
  {
   "cell_type": "code",
   "execution_count": 147,
   "id": "6c55f499",
   "metadata": {},
   "outputs": [],
   "source": [
    "#removing skewness by using Squareroot method\n",
    "df['Fare']=np.sqrt(df['Fare'])\n",
    "df['SibSp']=np.sqrt(df['SibSp'])\n",
    "df['Parch']=np.sqrt(df['Parch'])"
   ]
  },
  {
   "cell_type": "code",
   "execution_count": 148,
   "id": "9dd6b1de",
   "metadata": {},
   "outputs": [
    {
     "data": {
      "text/plain": [
       "Survived    0.354825\n",
       "Pclass     -0.494364\n",
       "Age         0.397400\n",
       "SibSp       1.186444\n",
       "Parch       1.398308\n",
       "Fare        2.030046\n",
       "dtype: float64"
      ]
     },
     "execution_count": 148,
     "metadata": {},
     "output_type": "execute_result"
    }
   ],
   "source": [
    "df.skew()"
   ]
  },
  {
   "cell_type": "markdown",
   "id": "7f1ac679",
   "metadata": {},
   "source": [
    "Still the skewness of the columns is high. By reducing the skewness more we may remove the natural characteristic of the data. Hence no longer removing the skewness."
   ]
  },
  {
   "cell_type": "code",
   "execution_count": 149,
   "id": "16062f50",
   "metadata": {},
   "outputs": [
    {
     "data": {
      "text/plain": [
       "<AxesSubplot:>"
      ]
     },
     "execution_count": 149,
     "metadata": {},
     "output_type": "execute_result"
    },
    {
     "data": {
      "image/png": "[encoded data removed]",
      "text/plain": [
       "<Figure size 576x432 with 2 Axes>"
      ]
     },
     "metadata": {
      "needs_background": "light"
     },
     "output_type": "display_data"
    }
   ],
   "source": [
    "#checking corelation between varibles\n",
    "cor=df.corr()\n",
    "plt.figure(figsize=(8,6))\n",
    "sns.heatmap(df.corr(),cmap='Blues_r',linewidths=0.2,annot=True,linecolor='black')"
   ]
  },
  {
   "cell_type": "code",
   "execution_count": 150,
   "id": "bde68210",
   "metadata": {},
   "outputs": [
    {
     "data": {
      "text/html": [
       "<div>\n",
       "<style scoped>\n",
       "    .dataframe tbody tr th:only-of-type {\n",
       "        vertical-align: middle;\n",
       "    }\n",
       "\n",
       "    .dataframe tbody tr th {\n",
       "        vertical-align: top;\n",
       "    }\n",
       "\n",
       "    .dataframe thead th {\n",
       "        text-align: right;\n",
       "    }\n",
       "</style>\n",
       "<table border=\"1\" class=\"dataframe\">\n",
       "  <thead>\n",
       "    <tr style=\"text-align: right;\">\n",
       "      <th></th>\n",
       "      <th>Survived</th>\n",
       "      <th>Pclass</th>\n",
       "      <th>Age</th>\n",
       "      <th>SibSp</th>\n",
       "      <th>Parch</th>\n",
       "      <th>Fare</th>\n",
       "    </tr>\n",
       "  </thead>\n",
       "  <tbody>\n",
       "    <tr>\n",
       "      <th>Survived</th>\n",
       "      <td>1.000000</td>\n",
       "      <td>-0.336244</td>\n",
       "      <td>-0.079192</td>\n",
       "      <td>0.027452</td>\n",
       "      <td>0.109734</td>\n",
       "      <td>0.296743</td>\n",
       "    </tr>\n",
       "    <tr>\n",
       "      <th>Pclass</th>\n",
       "      <td>-0.336244</td>\n",
       "      <td>1.000000</td>\n",
       "      <td>-0.338528</td>\n",
       "      <td>0.014585</td>\n",
       "      <td>0.014023</td>\n",
       "      <td>-0.676997</td>\n",
       "    </tr>\n",
       "    <tr>\n",
       "      <th>Age</th>\n",
       "      <td>-0.079192</td>\n",
       "      <td>-0.338528</td>\n",
       "      <td>1.000000</td>\n",
       "      <td>-0.238816</td>\n",
       "      <td>-0.248302</td>\n",
       "      <td>0.109017</td>\n",
       "    </tr>\n",
       "    <tr>\n",
       "      <th>SibSp</th>\n",
       "      <td>0.027452</td>\n",
       "      <td>0.014585</td>\n",
       "      <td>-0.238816</td>\n",
       "      <td>1.000000</td>\n",
       "      <td>0.432258</td>\n",
       "      <td>0.270707</td>\n",
       "    </tr>\n",
       "    <tr>\n",
       "      <th>Parch</th>\n",
       "      <td>0.109734</td>\n",
       "      <td>0.014023</td>\n",
       "      <td>-0.248302</td>\n",
       "      <td>0.432258</td>\n",
       "      <td>1.000000</td>\n",
       "      <td>0.286296</td>\n",
       "    </tr>\n",
       "    <tr>\n",
       "      <th>Fare</th>\n",
       "      <td>0.296743</td>\n",
       "      <td>-0.676997</td>\n",
       "      <td>0.109017</td>\n",
       "      <td>0.270707</td>\n",
       "      <td>0.286296</td>\n",
       "      <td>1.000000</td>\n",
       "    </tr>\n",
       "  </tbody>\n",
       "</table>\n",
       "</div>"
      ],
      "text/plain": [
       "          Survived    Pclass       Age     SibSp     Parch      Fare\n",
       "Survived  1.000000 -0.336244 -0.079192  0.027452  0.109734  0.296743\n",
       "Pclass   -0.336244  1.000000 -0.338528  0.014585  0.014023 -0.676997\n",
       "Age      -0.079192 -0.338528  1.000000 -0.238816 -0.248302  0.109017\n",
       "SibSp     0.027452  0.014585 -0.238816  1.000000  0.432258  0.270707\n",
       "Parch     0.109734  0.014023 -0.248302  0.432258  1.000000  0.286296\n",
       "Fare      0.296743 -0.676997  0.109017  0.270707  0.286296  1.000000"
      ]
     },
     "execution_count": 150,
     "metadata": {},
     "output_type": "execute_result"
    }
   ],
   "source": [
    "cor"
   ]
  },
  {
   "cell_type": "code",
   "execution_count": 151,
   "id": "795d46ee",
   "metadata": {},
   "outputs": [
    {
     "data": {
      "text/plain": [
       "Survived    1.000000\n",
       "Fare        0.296743\n",
       "Parch       0.109734\n",
       "SibSp       0.027452\n",
       "Age        -0.079192\n",
       "Pclass     -0.336244\n",
       "Name: Survived, dtype: float64"
      ]
     },
     "execution_count": 151,
     "metadata": {},
     "output_type": "execute_result"
    }
   ],
   "source": [
    "cor['Survived'].sort_values(ascending = False)"
   ]
  },
  {
   "cell_type": "markdown",
   "id": "38f380d4",
   "metadata": {},
   "source": [
    "No perfect/very strong correlation found in data."
   ]
  },
  {
   "cell_type": "code",
   "execution_count": 152,
   "id": "8a16a822",
   "metadata": {},
   "outputs": [
    {
     "name": "stdout",
     "output_type": "stream",
     "text": [
      "['Sex', 'Embarked']\n",
      "['Survived', 'Pclass', 'Age', 'SibSp', 'Parch', 'Fare']\n"
     ]
    }
   ],
   "source": [
    "#Separating the numerical cols and categorical cols\n",
    "\n",
    "#for cat cols\n",
    "\n",
    "catcols=[]\n",
    "for i in df.dtypes.index:\n",
    "    if df.dtypes[i] == 'object':\n",
    "        catcols.append(i)\n",
    "print(catcols)\n",
    "\n",
    "#for num cols\n",
    "\n",
    "numcols=[]\n",
    "for i in df.dtypes.index:\n",
    "    if df.dtypes[i] != 'object':\n",
    "        numcols.append(i)       \n",
    "print(numcols)"
   ]
  },
  {
   "cell_type": "markdown",
   "id": "92e7b462",
   "metadata": {},
   "source": [
    "Encoding the categorical columns"
   ]
  },
  {
   "cell_type": "code",
   "execution_count": 156,
   "id": "1e0efd06",
   "metadata": {},
   "outputs": [],
   "source": [
    "from sklearn.preprocessing import LabelEncoder\n",
    "le = LabelEncoder()\n",
    "\n",
    "for col in catcols:\n",
    "    df[col] = le.fit_transform(df[col])"
   ]
  },
  {
   "cell_type": "code",
   "execution_count": 157,
   "id": "e80bf92b",
   "metadata": {},
   "outputs": [
    {
     "data": {
      "text/html": [
       "<div>\n",
       "<style scoped>\n",
       "    .dataframe tbody tr th:only-of-type {\n",
       "        vertical-align: middle;\n",
       "    }\n",
       "\n",
       "    .dataframe tbody tr th {\n",
       "        vertical-align: top;\n",
       "    }\n",
       "\n",
       "    .dataframe thead th {\n",
       "        text-align: right;\n",
       "    }\n",
       "</style>\n",
       "<table border=\"1\" class=\"dataframe\">\n",
       "  <thead>\n",
       "    <tr style=\"text-align: right;\">\n",
       "      <th></th>\n",
       "      <th>Survived</th>\n",
       "      <th>Pclass</th>\n",
       "      <th>Sex</th>\n",
       "      <th>Age</th>\n",
       "      <th>SibSp</th>\n",
       "      <th>Parch</th>\n",
       "      <th>Fare</th>\n",
       "      <th>Embarked</th>\n",
       "    </tr>\n",
       "  </thead>\n",
       "  <tbody>\n",
       "    <tr>\n",
       "      <th>0</th>\n",
       "      <td>0</td>\n",
       "      <td>3</td>\n",
       "      <td>1</td>\n",
       "      <td>22.0</td>\n",
       "      <td>1.0</td>\n",
       "      <td>0.0</td>\n",
       "      <td>2.692582</td>\n",
       "      <td>2</td>\n",
       "    </tr>\n",
       "    <tr>\n",
       "      <th>1</th>\n",
       "      <td>1</td>\n",
       "      <td>1</td>\n",
       "      <td>0</td>\n",
       "      <td>38.0</td>\n",
       "      <td>1.0</td>\n",
       "      <td>0.0</td>\n",
       "      <td>8.442944</td>\n",
       "      <td>0</td>\n",
       "    </tr>\n",
       "    <tr>\n",
       "      <th>2</th>\n",
       "      <td>1</td>\n",
       "      <td>3</td>\n",
       "      <td>0</td>\n",
       "      <td>26.0</td>\n",
       "      <td>0.0</td>\n",
       "      <td>0.0</td>\n",
       "      <td>2.815138</td>\n",
       "      <td>2</td>\n",
       "    </tr>\n",
       "    <tr>\n",
       "      <th>3</th>\n",
       "      <td>1</td>\n",
       "      <td>1</td>\n",
       "      <td>0</td>\n",
       "      <td>35.0</td>\n",
       "      <td>1.0</td>\n",
       "      <td>0.0</td>\n",
       "      <td>7.286975</td>\n",
       "      <td>2</td>\n",
       "    </tr>\n",
       "    <tr>\n",
       "      <th>4</th>\n",
       "      <td>0</td>\n",
       "      <td>3</td>\n",
       "      <td>1</td>\n",
       "      <td>35.0</td>\n",
       "      <td>0.0</td>\n",
       "      <td>0.0</td>\n",
       "      <td>2.837252</td>\n",
       "      <td>2</td>\n",
       "    </tr>\n",
       "  </tbody>\n",
       "</table>\n",
       "</div>"
      ],
      "text/plain": [
       "   Survived  Pclass  Sex   Age  SibSp  Parch      Fare  Embarked\n",
       "0         0       3    1  22.0    1.0    0.0  2.692582         2\n",
       "1         1       1    0  38.0    1.0    0.0  8.442944         0\n",
       "2         1       3    0  26.0    0.0    0.0  2.815138         2\n",
       "3         1       1    0  35.0    1.0    0.0  7.286975         2\n",
       "4         0       3    1  35.0    0.0    0.0  2.837252         2"
      ]
     },
     "execution_count": 157,
     "metadata": {},
     "output_type": "execute_result"
    }
   ],
   "source": [
    "df.head()"
   ]
  },
  {
   "cell_type": "code",
   "execution_count": 158,
   "id": "e9f94d86",
   "metadata": {},
   "outputs": [
    {
     "name": "stdout",
     "output_type": "stream",
     "text": [
      "<class 'pandas.core.frame.DataFrame'>\n",
      "Int64Index: 780 entries, 0 to 890\n",
      "Data columns (total 8 columns):\n",
      " #   Column    Non-Null Count  Dtype  \n",
      "---  ------    --------------  -----  \n",
      " 0   Survived  780 non-null    int64  \n",
      " 1   Pclass    780 non-null    int64  \n",
      " 2   Sex       780 non-null    int64  \n",
      " 3   Age       780 non-null    float64\n",
      " 4   SibSp     780 non-null    float64\n",
      " 5   Parch     780 non-null    float64\n",
      " 6   Fare      780 non-null    float64\n",
      " 7   Embarked  780 non-null    int64  \n",
      "dtypes: float64(4), int64(4)\n",
      "memory usage: 71.0 KB\n"
     ]
    }
   ],
   "source": [
    "df.info()"
   ]
  },
  {
   "cell_type": "code",
   "execution_count": 159,
   "id": "7cf6c9a6",
   "metadata": {},
   "outputs": [
    {
     "data": {
      "text/html": [
       "<div>\n",
       "<style scoped>\n",
       "    .dataframe tbody tr th:only-of-type {\n",
       "        vertical-align: middle;\n",
       "    }\n",
       "\n",
       "    .dataframe tbody tr th {\n",
       "        vertical-align: top;\n",
       "    }\n",
       "\n",
       "    .dataframe thead th {\n",
       "        text-align: right;\n",
       "    }\n",
       "</style>\n",
       "<table border=\"1\" class=\"dataframe\">\n",
       "  <thead>\n",
       "    <tr style=\"text-align: right;\">\n",
       "      <th></th>\n",
       "      <th>Survived</th>\n",
       "      <th>Pclass</th>\n",
       "      <th>Sex</th>\n",
       "      <th>Age</th>\n",
       "      <th>SibSp</th>\n",
       "      <th>Parch</th>\n",
       "      <th>Fare</th>\n",
       "      <th>Embarked</th>\n",
       "    </tr>\n",
       "  </thead>\n",
       "  <tbody>\n",
       "    <tr>\n",
       "      <th>count</th>\n",
       "      <td>780.000000</td>\n",
       "      <td>780.000000</td>\n",
       "      <td>780.000000</td>\n",
       "      <td>780.000000</td>\n",
       "      <td>780.000000</td>\n",
       "      <td>780.000000</td>\n",
       "      <td>780.000000</td>\n",
       "      <td>780.000000</td>\n",
       "    </tr>\n",
       "    <tr>\n",
       "      <th>mean</th>\n",
       "      <td>0.412821</td>\n",
       "      <td>2.246154</td>\n",
       "      <td>0.625641</td>\n",
       "      <td>29.797600</td>\n",
       "      <td>0.405474</td>\n",
       "      <td>0.320969</td>\n",
       "      <td>5.067467</td>\n",
       "      <td>1.528205</td>\n",
       "    </tr>\n",
       "    <tr>\n",
       "      <th>std</th>\n",
       "      <td>0.492657</td>\n",
       "      <td>0.854452</td>\n",
       "      <td>0.484267</td>\n",
       "      <td>13.708883</td>\n",
       "      <td>0.601411</td>\n",
       "      <td>0.561544</td>\n",
       "      <td>3.026819</td>\n",
       "      <td>0.804655</td>\n",
       "    </tr>\n",
       "    <tr>\n",
       "      <th>min</th>\n",
       "      <td>0.000000</td>\n",
       "      <td>1.000000</td>\n",
       "      <td>0.000000</td>\n",
       "      <td>0.420000</td>\n",
       "      <td>0.000000</td>\n",
       "      <td>0.000000</td>\n",
       "      <td>0.000000</td>\n",
       "      <td>0.000000</td>\n",
       "    </tr>\n",
       "    <tr>\n",
       "      <th>25%</th>\n",
       "      <td>0.000000</td>\n",
       "      <td>1.000000</td>\n",
       "      <td>0.000000</td>\n",
       "      <td>21.750000</td>\n",
       "      <td>0.000000</td>\n",
       "      <td>0.000000</td>\n",
       "      <td>2.837252</td>\n",
       "      <td>1.000000</td>\n",
       "    </tr>\n",
       "    <tr>\n",
       "      <th>50%</th>\n",
       "      <td>0.000000</td>\n",
       "      <td>3.000000</td>\n",
       "      <td>1.000000</td>\n",
       "      <td>29.699118</td>\n",
       "      <td>0.000000</td>\n",
       "      <td>0.000000</td>\n",
       "      <td>3.993740</td>\n",
       "      <td>2.000000</td>\n",
       "    </tr>\n",
       "    <tr>\n",
       "      <th>75%</th>\n",
       "      <td>1.000000</td>\n",
       "      <td>3.000000</td>\n",
       "      <td>1.000000</td>\n",
       "      <td>36.000000</td>\n",
       "      <td>1.000000</td>\n",
       "      <td>1.000000</td>\n",
       "      <td>5.863020</td>\n",
       "      <td>2.000000</td>\n",
       "    </tr>\n",
       "    <tr>\n",
       "      <th>max</th>\n",
       "      <td>1.000000</td>\n",
       "      <td>3.000000</td>\n",
       "      <td>1.000000</td>\n",
       "      <td>80.000000</td>\n",
       "      <td>2.828427</td>\n",
       "      <td>2.449490</td>\n",
       "      <td>22.634690</td>\n",
       "      <td>2.000000</td>\n",
       "    </tr>\n",
       "  </tbody>\n",
       "</table>\n",
       "</div>"
      ],
      "text/plain": [
       "         Survived      Pclass         Sex         Age       SibSp       Parch  \\\n",
       "count  780.000000  780.000000  780.000000  780.000000  780.000000  780.000000   \n",
       "mean     0.412821    2.246154    0.625641   29.797600    0.405474    0.320969   \n",
       "std      0.492657    0.854452    0.484267   13.708883    0.601411    0.561544   \n",
       "min      0.000000    1.000000    0.000000    0.420000    0.000000    0.000000   \n",
       "25%      0.000000    1.000000    0.000000   21.750000    0.000000    0.000000   \n",
       "50%      0.000000    3.000000    1.000000   29.699118    0.000000    0.000000   \n",
       "75%      1.000000    3.000000    1.000000   36.000000    1.000000    1.000000   \n",
       "max      1.000000    3.000000    1.000000   80.000000    2.828427    2.449490   \n",
       "\n",
       "             Fare    Embarked  \n",
       "count  780.000000  780.000000  \n",
       "mean     5.067467    1.528205  \n",
       "std      3.026819    0.804655  \n",
       "min      0.000000    0.000000  \n",
       "25%      2.837252    1.000000  \n",
       "50%      3.993740    2.000000  \n",
       "75%      5.863020    2.000000  \n",
       "max     22.634690    2.000000  "
      ]
     },
     "execution_count": 159,
     "metadata": {},
     "output_type": "execute_result"
    }
   ],
   "source": [
    "df.describe()"
   ]
  },
  {
   "cell_type": "code",
   "execution_count": 160,
   "id": "aa64a4b0",
   "metadata": {},
   "outputs": [],
   "source": [
    "x=df.drop('Survived',axis=1)\n",
    "y=df['Survived']"
   ]
  },
  {
   "cell_type": "markdown",
   "id": "cbc2b135",
   "metadata": {},
   "source": [
    "Checking Variance"
   ]
  },
  {
   "cell_type": "code",
   "execution_count": 161,
   "id": "51b42033",
   "metadata": {},
   "outputs": [],
   "source": [
    "from statsmodels.stats.outliers_influence import variance_inflation_factor"
   ]
  },
  {
   "cell_type": "code",
   "execution_count": 162,
   "id": "48f89814",
   "metadata": {},
   "outputs": [
    {
     "data": {
      "text/html": [
       "<div>\n",
       "<style scoped>\n",
       "    .dataframe tbody tr th:only-of-type {\n",
       "        vertical-align: middle;\n",
       "    }\n",
       "\n",
       "    .dataframe tbody tr th {\n",
       "        vertical-align: top;\n",
       "    }\n",
       "\n",
       "    .dataframe thead th {\n",
       "        text-align: right;\n",
       "    }\n",
       "</style>\n",
       "<table border=\"1\" class=\"dataframe\">\n",
       "  <thead>\n",
       "    <tr style=\"text-align: right;\">\n",
       "      <th></th>\n",
       "      <th>VIF Values</th>\n",
       "      <th>features</th>\n",
       "    </tr>\n",
       "  </thead>\n",
       "  <tbody>\n",
       "    <tr>\n",
       "      <th>0</th>\n",
       "      <td>5.302281</td>\n",
       "      <td>Pclass</td>\n",
       "    </tr>\n",
       "    <tr>\n",
       "      <th>1</th>\n",
       "      <td>2.872428</td>\n",
       "      <td>Sex</td>\n",
       "    </tr>\n",
       "    <tr>\n",
       "      <th>2</th>\n",
       "      <td>5.410222</td>\n",
       "      <td>Age</td>\n",
       "    </tr>\n",
       "    <tr>\n",
       "      <th>3</th>\n",
       "      <td>1.955225</td>\n",
       "      <td>SibSp</td>\n",
       "    </tr>\n",
       "    <tr>\n",
       "      <th>4</th>\n",
       "      <td>1.875527</td>\n",
       "      <td>Parch</td>\n",
       "    </tr>\n",
       "    <tr>\n",
       "      <th>5</th>\n",
       "      <td>4.112392</td>\n",
       "      <td>Fare</td>\n",
       "    </tr>\n",
       "    <tr>\n",
       "      <th>6</th>\n",
       "      <td>4.530719</td>\n",
       "      <td>Embarked</td>\n",
       "    </tr>\n",
       "  </tbody>\n",
       "</table>\n",
       "</div>"
      ],
      "text/plain": [
       "   VIF Values  features\n",
       "0    5.302281    Pclass\n",
       "1    2.872428       Sex\n",
       "2    5.410222       Age\n",
       "3    1.955225     SibSp\n",
       "4    1.875527     Parch\n",
       "5    4.112392      Fare\n",
       "6    4.530719  Embarked"
      ]
     },
     "execution_count": 162,
     "metadata": {},
     "output_type": "execute_result"
    }
   ],
   "source": [
    "vif=pd.DataFrame()\n",
    "vif['VIF Values']=[variance_inflation_factor(x.values,i)\n",
    "                   for i in range(len(x.columns))]\n",
    "vif['features']=x.columns\n",
    "vif"
   ]
  },
  {
   "cell_type": "markdown",
   "id": "aa6470bd",
   "metadata": {},
   "source": [
    "VIF is within acceptable range."
   ]
  },
  {
   "cell_type": "code",
   "execution_count": 163,
   "id": "dc4c54a6",
   "metadata": {},
   "outputs": [
    {
     "data": {
      "text/plain": [
       "0    458\n",
       "1    322\n",
       "Name: Survived, dtype: int64"
      ]
     },
     "execution_count": 163,
     "metadata": {},
     "output_type": "execute_result"
    }
   ],
   "source": [
    "y.value_counts()"
   ]
  },
  {
   "cell_type": "markdown",
   "id": "521cf07d",
   "metadata": {},
   "source": [
    "Class imbalance found."
   ]
  },
  {
   "cell_type": "code",
   "execution_count": 164,
   "id": "8bc15b88",
   "metadata": {},
   "outputs": [],
   "source": [
    "#Using SMOTE (Synthetic Minority Over-sampling Technique) for oversampling\n",
    "from imblearn.over_sampling import SMOTE\n",
    "SM=SMOTE()\n",
    "x,y=SM.fit_resample(x,y)"
   ]
  },
  {
   "cell_type": "code",
   "execution_count": 165,
   "id": "e0df397e",
   "metadata": {},
   "outputs": [
    {
     "data": {
      "text/plain": [
       "0    458\n",
       "1    458\n",
       "Name: Survived, dtype: int64"
      ]
     },
     "execution_count": 165,
     "metadata": {},
     "output_type": "execute_result"
    }
   ],
   "source": [
    "y.value_counts()"
   ]
  },
  {
   "cell_type": "markdown",
   "id": "bb8602bc",
   "metadata": {},
   "source": [
    "Class balance achieved."
   ]
  },
  {
   "cell_type": "markdown",
   "id": "9743bae3",
   "metadata": {},
   "source": [
    "# MODELING"
   ]
  },
  {
   "cell_type": "code",
   "execution_count": 166,
   "id": "ed9e126b",
   "metadata": {},
   "outputs": [],
   "source": [
    "from sklearn.model_selection import train_test_split\n",
    "from sklearn.ensemble import RandomForestClassifier\n",
    "from sklearn.metrics import accuracy_score"
   ]
  },
  {
   "cell_type": "code",
   "execution_count": 167,
   "id": "044e4e12",
   "metadata": {},
   "outputs": [
    {
     "name": "stdout",
     "output_type": "stream",
     "text": [
      "Best acc is  0.8695652173913043 at random state 60\n"
     ]
    }
   ],
   "source": [
    "maxAccu=0\n",
    "maxRS=0\n",
    "\n",
    "for i in range(1,200):\n",
    "    x_train,x_test,y_train,y_test=train_test_split(x,y,test_size=0.20,random_state=i)\n",
    "    rfr=RandomForestClassifier()\n",
    "    rfr.fit(x_train, y_train)\n",
    "    pred=rfr.predict(x_test)\n",
    "    acc=accuracy_score(y_test,pred)\n",
    "    if acc>maxAccu:\n",
    "        maxAccu = acc\n",
    "        maxRs = i\n",
    "print('Best acc is ', maxAccu, 'at random state', maxRs)"
   ]
  },
  {
   "cell_type": "code",
   "execution_count": 168,
   "id": "bda07580",
   "metadata": {},
   "outputs": [],
   "source": [
    "x_train, x_test, y_train, y_test = train_test_split(x,y,test_size=0.30,random_state=maxRs)"
   ]
  },
  {
   "cell_type": "code",
   "execution_count": 169,
   "id": "75142ec7",
   "metadata": {},
   "outputs": [],
   "source": [
    "from sklearn.ensemble import RandomForestClassifier,ExtraTreesClassifier\n",
    "from sklearn.linear_model import LogisticRegression\n",
    "from sklearn.svm import SVC\n",
    "from sklearn.ensemble import GradientBoostingClassifier,AdaBoostClassifier, BaggingClassifier\n",
    "from sklearn.metrics import classification_report,confusion_matrix,roc_curve,accuracy_score\n",
    "from sklearn.model_selection import cross_val_score\n",
    "from sklearn.model_selection import train_test_split"
   ]
  },
  {
   "cell_type": "code",
   "execution_count": 170,
   "id": "f63fee38",
   "metadata": {},
   "outputs": [
    {
     "name": "stdout",
     "output_type": "stream",
     "text": [
      "0.8586956521739131\n",
      "[[73  9]\n",
      " [17 85]]\n",
      "              precision    recall  f1-score   support\n",
      "\n",
      "           0       0.81      0.89      0.85        82\n",
      "           1       0.90      0.83      0.87       102\n",
      "\n",
      "    accuracy                           0.86       184\n",
      "   macro avg       0.86      0.86      0.86       184\n",
      "weighted avg       0.86      0.86      0.86       184\n",
      "\n"
     ]
    }
   ],
   "source": [
    "x_train, x_test, y_train, y_test = train_test_split(x,y,test_size=0.20,random_state=maxRs)\n",
    "rfc=RandomForestClassifier()\n",
    "rfc.fit(x_train, y_train)\n",
    "prfc=rfc.predict(x_test)\n",
    "print(accuracy_score(y_test,prfc))\n",
    "print(confusion_matrix(y_test,prfc))\n",
    "print(classification_report(y_test,prfc))"
   ]
  },
  {
   "cell_type": "markdown",
   "id": "4bc31551",
   "metadata": {},
   "source": [
    "Best accuracy of Randon Forest Classifier model is 85.86%"
   ]
  },
  {
   "cell_type": "code",
   "execution_count": 172,
   "id": "bf7eccde",
   "metadata": {},
   "outputs": [
    {
     "name": "stdout",
     "output_type": "stream",
     "text": [
      "0.8152173913043478\n",
      "[[67 15]\n",
      " [19 83]]\n",
      "              precision    recall  f1-score   support\n",
      "\n",
      "           0       0.78      0.82      0.80        82\n",
      "           1       0.85      0.81      0.83       102\n",
      "\n",
      "    accuracy                           0.82       184\n",
      "   macro avg       0.81      0.82      0.81       184\n",
      "weighted avg       0.82      0.82      0.82       184\n",
      "\n"
     ]
    }
   ],
   "source": [
    "lr=LogisticRegression()\n",
    "x_train, x_test, y_train, y_test = train_test_split(x,y,test_size=0.20,random_state=maxRs)\n",
    "lr.fit(x_train, y_train, sample_weight=None)\n",
    "plr=lr.predict(x_test)\n",
    "print(accuracy_score(y_test,plr))\n",
    "print(confusion_matrix(y_test,plr))\n",
    "print(classification_report(y_test,plr))"
   ]
  },
  {
   "cell_type": "markdown",
   "id": "a70d36b8",
   "metadata": {},
   "source": [
    "Best accuracy of Logistic Regression model is 81.52%"
   ]
  },
  {
   "cell_type": "code",
   "execution_count": 173,
   "id": "cb72de97",
   "metadata": {},
   "outputs": [
    {
     "name": "stdout",
     "output_type": "stream",
     "text": [
      "0.6521739130434783\n",
      "[[64 18]\n",
      " [46 56]]\n",
      "              precision    recall  f1-score   support\n",
      "\n",
      "           0       0.58      0.78      0.67        82\n",
      "           1       0.76      0.55      0.64       102\n",
      "\n",
      "    accuracy                           0.65       184\n",
      "   macro avg       0.67      0.66      0.65       184\n",
      "weighted avg       0.68      0.65      0.65       184\n",
      "\n"
     ]
    }
   ],
   "source": [
    "svc=SVC()\n",
    "svc.fit(x_train,y_train)\n",
    "psvc=svc.predict(x_test)\n",
    "print(accuracy_score(y_test,psvc))\n",
    "print(confusion_matrix(y_test,psvc))\n",
    "print(classification_report(y_test,psvc))"
   ]
  },
  {
   "cell_type": "markdown",
   "id": "08109315",
   "metadata": {},
   "source": [
    "Best accuracy of SVC model is 65.21%"
   ]
  },
  {
   "cell_type": "code",
   "execution_count": 174,
   "id": "25c57448",
   "metadata": {},
   "outputs": [
    {
     "name": "stdout",
     "output_type": "stream",
     "text": [
      "0.8478260869565217\n",
      "[[73  9]\n",
      " [19 83]]\n",
      "              precision    recall  f1-score   support\n",
      "\n",
      "           0       0.79      0.89      0.84        82\n",
      "           1       0.90      0.81      0.86       102\n",
      "\n",
      "    accuracy                           0.85       184\n",
      "   macro avg       0.85      0.85      0.85       184\n",
      "weighted avg       0.85      0.85      0.85       184\n",
      "\n"
     ]
    }
   ],
   "source": [
    "gb=GradientBoostingClassifier()\n",
    "gb.fit(x_train,y_train)\n",
    "pgb=gb.predict(x_test)\n",
    "print(accuracy_score(y_test,pgb))\n",
    "print(confusion_matrix(y_test,pgb))\n",
    "print(classification_report(y_test,pgb))"
   ]
  },
  {
   "cell_type": "markdown",
   "id": "b9067024",
   "metadata": {},
   "source": [
    "Best accuracy of Gradient Boosting Classifier is 84.78%"
   ]
  },
  {
   "cell_type": "code",
   "execution_count": 175,
   "id": "9e250ecf",
   "metadata": {},
   "outputs": [
    {
     "name": "stdout",
     "output_type": "stream",
     "text": [
      "0.8315217391304348\n",
      "[[69 13]\n",
      " [18 84]]\n",
      "              precision    recall  f1-score   support\n",
      "\n",
      "           0       0.79      0.84      0.82        82\n",
      "           1       0.87      0.82      0.84       102\n",
      "\n",
      "    accuracy                           0.83       184\n",
      "   macro avg       0.83      0.83      0.83       184\n",
      "weighted avg       0.83      0.83      0.83       184\n",
      "\n"
     ]
    }
   ],
   "source": [
    "abc=AdaBoostClassifier()\n",
    "abc.fit(x_train,y_train)\n",
    "pabc=abc.predict(x_test)\n",
    "print(accuracy_score(y_test,pabc))\n",
    "print(confusion_matrix(y_test,pabc))\n",
    "print(classification_report(y_test,pabc))"
   ]
  },
  {
   "cell_type": "markdown",
   "id": "72ce45d3",
   "metadata": {},
   "source": [
    "Best accuracy of AdaBoost Classifier is 83.15%"
   ]
  },
  {
   "cell_type": "code",
   "execution_count": 176,
   "id": "f5e3fc4d",
   "metadata": {},
   "outputs": [
    {
     "name": "stdout",
     "output_type": "stream",
     "text": [
      "0.8478260869565217\n",
      "[[70 12]\n",
      " [16 86]]\n",
      "              precision    recall  f1-score   support\n",
      "\n",
      "           0       0.81      0.85      0.83        82\n",
      "           1       0.88      0.84      0.86       102\n",
      "\n",
      "    accuracy                           0.85       184\n",
      "   macro avg       0.85      0.85      0.85       184\n",
      "weighted avg       0.85      0.85      0.85       184\n",
      "\n"
     ]
    }
   ],
   "source": [
    "bc=BaggingClassifier()\n",
    "bc.fit(x_train,y_train)\n",
    "pbc=bc.predict(x_test)\n",
    "print(accuracy_score(y_test,pbc))\n",
    "print(confusion_matrix(y_test,pbc))\n",
    "print(classification_report(y_test,pbc))"
   ]
  },
  {
   "cell_type": "markdown",
   "id": "a384fd8e",
   "metadata": {},
   "source": [
    "Best accuracy of Bagging Classifier is 84.78%"
   ]
  },
  {
   "cell_type": "code",
   "execution_count": 177,
   "id": "a7f912f1",
   "metadata": {},
   "outputs": [
    {
     "name": "stdout",
     "output_type": "stream",
     "text": [
      "0.8315217391304348\n",
      "[[68 14]\n",
      " [17 85]]\n",
      "              precision    recall  f1-score   support\n",
      "\n",
      "           0       0.80      0.83      0.81        82\n",
      "           1       0.86      0.83      0.85       102\n",
      "\n",
      "    accuracy                           0.83       184\n",
      "   macro avg       0.83      0.83      0.83       184\n",
      "weighted avg       0.83      0.83      0.83       184\n",
      "\n"
     ]
    }
   ],
   "source": [
    "etc=ExtraTreesClassifier()\n",
    "etc.fit(x_train,y_train)\n",
    "petc=etc.predict(x_test)\n",
    "print(accuracy_score(y_test,petc))\n",
    "print(confusion_matrix(y_test,petc))\n",
    "print(classification_report(y_test,petc))"
   ]
  },
  {
   "cell_type": "markdown",
   "id": "2fb1a20d",
   "metadata": {},
   "source": [
    "Best accuracy of Extra Tress Classifier model is 83.15%"
   ]
  },
  {
   "cell_type": "markdown",
   "id": "ef5c5e58",
   "metadata": {},
   "source": [
    "Checking Cross Validation Score of all the models."
   ]
  },
  {
   "cell_type": "code",
   "execution_count": 178,
   "id": "48de92c8",
   "metadata": {},
   "outputs": [],
   "source": [
    "from sklearn.model_selection import cross_val_score"
   ]
  },
  {
   "cell_type": "code",
   "execution_count": 179,
   "id": "076499ce",
   "metadata": {},
   "outputs": [
    {
     "name": "stdout",
     "output_type": "stream",
     "text": [
      "[0.69565217 0.79781421 0.7431694  0.86338798 0.84699454]\n",
      "0.7894036588263246\n",
      "Diff b/w Accuracy score & CV score  0.06929199334758851\n"
     ]
    }
   ],
   "source": [
    "scr=cross_val_score(rfc,x,y)\n",
    "print(scr)\n",
    "print(scr.mean())\n",
    "print('Diff b/w Accuracy score & CV score ', accuracy_score(y_test,prfc) - scr.mean())"
   ]
  },
  {
   "cell_type": "code",
   "execution_count": 180,
   "id": "e4aa173a",
   "metadata": {},
   "outputs": [
    {
     "name": "stdout",
     "output_type": "stream",
     "text": [
      "[0.73913043 0.77595628 0.72131148 0.82513661 0.83606557]\n",
      "0.77952007602756\n",
      "Diff b/w Accuracy score & CV score  0.03569731527678777\n"
     ]
    }
   ],
   "source": [
    "scr=cross_val_score(lr,x,y)\n",
    "print(scr)\n",
    "print(scr.mean())\n",
    "print('Diff b/w Accuracy score & CV score ', accuracy_score(y_test,plr) - scr.mean())"
   ]
  },
  {
   "cell_type": "code",
   "execution_count": 181,
   "id": "385ac80f",
   "metadata": {},
   "outputs": [
    {
     "name": "stdout",
     "output_type": "stream",
     "text": [
      "[0.56521739 0.67759563 0.67759563 0.73224044 0.72677596]\n",
      "0.6758850083155143\n",
      "Diff b/w Accuracy score & CV score  -0.023711095272036076\n"
     ]
    }
   ],
   "source": [
    "scr=cross_val_score(svc,x,y)\n",
    "print(scr)\n",
    "print(scr.mean())\n",
    "print('Diff b/w Accuracy score & CV score ', accuracy_score(y_test,psvc) - scr.mean())"
   ]
  },
  {
   "cell_type": "code",
   "execution_count": 182,
   "id": "fd2b56c7",
   "metadata": {},
   "outputs": [
    {
     "name": "stdout",
     "output_type": "stream",
     "text": [
      "[0.75       0.80327869 0.73224044 0.87978142 0.87431694]\n",
      "0.8079234972677595\n",
      "Diff b/w Accuracy score & CV score  0.03990258968876226\n"
     ]
    }
   ],
   "source": [
    "scr=cross_val_score(gb,x,y)\n",
    "print(scr)\n",
    "print(scr.mean())\n",
    "print('Diff b/w Accuracy score & CV score ', accuracy_score(y_test,pgb) - scr.mean())"
   ]
  },
  {
   "cell_type": "code",
   "execution_count": 183,
   "id": "f234c3a3",
   "metadata": {},
   "outputs": [
    {
     "name": "stdout",
     "output_type": "stream",
     "text": [
      "[0.71195652 0.79781421 0.75409836 0.87431694 0.86885246]\n",
      "0.8014076977904491\n",
      "Diff b/w Accuracy score & CV score  0.030114041339985742\n"
     ]
    }
   ],
   "source": [
    "scr=cross_val_score(abc,x,y)\n",
    "print(scr)\n",
    "print(scr.mean())\n",
    "print('Diff b/w Accuracy score & CV score ', accuracy_score(y_test,pabc) - scr.mean())"
   ]
  },
  {
   "cell_type": "code",
   "execution_count": 184,
   "id": "7b899643",
   "metadata": {},
   "outputs": [
    {
     "name": "stdout",
     "output_type": "stream",
     "text": [
      "[0.71195652 0.80327869 0.72131148 0.86885246 0.83060109]\n",
      "0.7872000475172249\n",
      "Diff b/w Accuracy score & CV score  0.060626039439296786\n"
     ]
    }
   ],
   "source": [
    "scr=cross_val_score(bc,x,y)\n",
    "print(scr)\n",
    "print(scr.mean())\n",
    "print('Diff b/w Accuracy score & CV score ', accuracy_score(y_test,pbc) - scr.mean())"
   ]
  },
  {
   "cell_type": "code",
   "execution_count": 185,
   "id": "d43acca3",
   "metadata": {},
   "outputs": [
    {
     "name": "stdout",
     "output_type": "stream",
     "text": [
      "[0.70108696 0.78142077 0.74863388 0.80874317 0.85245902]\n",
      "0.7784687574245664\n",
      "Diff b/w Accuracy score & CV score  0.05305298170586836\n"
     ]
    }
   ],
   "source": [
    "scr=cross_val_score(etc,x,y)\n",
    "print(scr)\n",
    "print(scr.mean())\n",
    "print('Diff b/w Accuracy score & CV score ', accuracy_score(y_test,petc) - scr.mean())"
   ]
  },
  {
   "cell_type": "markdown",
   "id": "6cc83f04",
   "metadata": {},
   "source": [
    "# Gradient Boosting Classifier is our best model!"
   ]
  },
  {
   "cell_type": "markdown",
   "id": "2f7a43dc",
   "metadata": {},
   "source": [
    "# Hyperparameter Tuning"
   ]
  },
  {
   "cell_type": "code",
   "execution_count": 186,
   "id": "b07ccb3f",
   "metadata": {},
   "outputs": [],
   "source": [
    "#importing GridseachCV for hyperparameter tuning\n",
    "from sklearn.model_selection import GridSearchCV"
   ]
  },
  {
   "cell_type": "code",
   "execution_count": 204,
   "id": "8360240c",
   "metadata": {},
   "outputs": [],
   "source": [
    "#parameters for Gradient Boosting classifier model:\n",
    "parameters = {\n",
    "'loss': ['deviance', 'exponential'],\n",
    "'learning_rate': [0.05, 0.1, 0.2],\n",
    "'n_estimators': [1,10,50],\n",
    "'subsample': [0.8, 1.0],\n",
    "'criterion': ['friedman_mse', 'mse'],\n",
    "'min_samples_split': [2, 5, 10],\n",
    "'min_samples_leaf': [1, 2, 4],\n",
    "'max_depth': [3, 5, 7],\n",
    "'max_features': ['sqrt', 'log2', None],\n",
    "'random_state': [42],\n",
    "'warm_start': [True, False],\n",
    "'ccp_alpha': [0.0, 0.1, 0.5]\n",
    "}"
   ]
  },
  {
   "cell_type": "code",
   "execution_count": 205,
   "id": "e10071d5",
   "metadata": {},
   "outputs": [],
   "source": [
    "#Cross validation cv=5\n",
    "GCV=GridSearchCV(GradientBoostingClassifier(),parameters,cv=5)"
   ]
  },
  {
   "cell_type": "code",
   "execution_count": 206,
   "id": "246bb90c",
   "metadata": {},
   "outputs": [
    {
     "data": {
      "text/plain": [
       "GridSearchCV(cv=5, estimator=GradientBoostingClassifier(),\n",
       "             param_grid={'ccp_alpha': [0.0, 0.1, 0.5],\n",
       "                         'criterion': ['friedman_mse', 'mse'],\n",
       "                         'learning_rate': [0.05, 0.1, 0.2],\n",
       "                         'loss': ['deviance', 'exponential'],\n",
       "                         'max_depth': [3, 5, 7],\n",
       "                         'max_features': ['sqrt', 'log2', None],\n",
       "                         'min_samples_leaf': [1, 2, 4],\n",
       "                         'min_samples_split': [2, 5, 10],\n",
       "                         'n_estimators': [1, 10, 50], 'random_state': [42],\n",
       "                         'subsample': [0.8, 1.0], 'warm_start': [True, False]})"
      ]
     },
     "execution_count": 206,
     "metadata": {},
     "output_type": "execute_result"
    }
   ],
   "source": [
    "#running the training set in GridsearchCV\n",
    "GCV.fit(x_train,y_train)"
   ]
  },
  {
   "cell_type": "code",
   "execution_count": 207,
   "id": "1d0eafd4",
   "metadata": {},
   "outputs": [
    {
     "data": {
      "text/plain": [
       "{'ccp_alpha': 0.0,\n",
       " 'criterion': 'friedman_mse',\n",
       " 'learning_rate': 0.1,\n",
       " 'loss': 'exponential',\n",
       " 'max_depth': 3,\n",
       " 'max_features': None,\n",
       " 'min_samples_leaf': 2,\n",
       " 'min_samples_split': 5,\n",
       " 'n_estimators': 50,\n",
       " 'random_state': 42,\n",
       " 'subsample': 0.8,\n",
       " 'warm_start': True}"
      ]
     },
     "execution_count": 207,
     "metadata": {},
     "output_type": "execute_result"
    }
   ],
   "source": [
    "#Finding the best parameters\n",
    "GCV.best_params_"
   ]
  },
  {
   "cell_type": "markdown",
   "id": "32488e0d",
   "metadata": {},
   "source": [
    "These are the best parameters for our model."
   ]
  },
  {
   "cell_type": "code",
   "execution_count": 208,
   "id": "bd88d2bb",
   "metadata": {},
   "outputs": [],
   "source": [
    "#Creating the final model\n",
    "Final_model=GradientBoostingClassifier(ccp_alpha=0.0,criterion='friedman_mse',learning_rate=0.1,loss='exponential',max_depth=3,max_features=None,min_samples_leaf=2,min_samples_split=5,n_estimators=50,random_state=42,subsample=0.8,warm_start=True)"
   ]
  },
  {
   "cell_type": "code",
   "execution_count": 209,
   "id": "f73be35f",
   "metadata": {},
   "outputs": [
    {
     "data": {
      "text/plain": [
       "GradientBoostingClassifier(loss='exponential', min_samples_leaf=2,\n",
       "                           min_samples_split=5, n_estimators=50,\n",
       "                           random_state=42, subsample=0.8, warm_start=True)"
      ]
     },
     "execution_count": 209,
     "metadata": {},
     "output_type": "execute_result"
    }
   ],
   "source": [
    "#Training the final model\n",
    "Final_model.fit(x_train,y_train)"
   ]
  },
  {
   "cell_type": "code",
   "execution_count": 210,
   "id": "5dbd3a02",
   "metadata": {},
   "outputs": [
    {
     "name": "stdout",
     "output_type": "stream",
     "text": [
      "84.78260869565217\n"
     ]
    }
   ],
   "source": [
    "#Final prediction\n",
    "Fp=Final_model.predict(x_test)\n",
    "acc=accuracy_score(y_test,Fp)\n",
    "print(acc*100)"
   ]
  },
  {
   "cell_type": "markdown",
   "id": "af3f49e0",
   "metadata": {},
   "source": [
    "The final prediction model accuracy is 84.78%."
   ]
  },
  {
   "cell_type": "code",
   "execution_count": 211,
   "id": "303db104",
   "metadata": {},
   "outputs": [],
   "source": [
    "from sklearn.metrics import roc_auc_score\n",
    "from sklearn.metrics import roc_curve,auc"
   ]
  },
  {
   "cell_type": "code",
   "execution_count": 212,
   "id": "82d06bf7",
   "metadata": {},
   "outputs": [
    {
     "data": {
      "image/png": "[encoded data removed]",
      "text/plain": [
       "<Figure size 432x288 with 1 Axes>"
      ]
     },
     "metadata": {
      "needs_background": "light"
     },
     "output_type": "display_data"
    },
    {
     "name": "stdout",
     "output_type": "stream",
     "text": [
      "Auc Score:  \n",
      " 0.8519846963175515\n"
     ]
    }
   ],
   "source": [
    "y_pred_prob = Final_model.predict_proba(x_test)[:,1]\n",
    "fpr,tpr,thresholds=roc_curve(y_test,y_pred_prob)\n",
    "roc_auc= auc(fpr,tpr)\n",
    "\n",
    "plt.plot([0,1],[0,1], 'k--')\n",
    "plt.plot(fpr,tpr,label='GradientBoostingClassifier(area=%0.2f)'%roc_auc)\n",
    "plt.show()\n",
    "auc_score=roc_auc_score(y_test,Final_model.predict(x_test))\n",
    "print('Auc Score: ','\\n',auc_score)"
   ]
  },
  {
   "cell_type": "markdown",
   "id": "db29e653",
   "metadata": {},
   "source": [
    "AUC Score is closer to 1."
   ]
  },
  {
   "cell_type": "markdown",
   "id": "0d25f687",
   "metadata": {},
   "source": [
    "ROC Curve of our Final model"
   ]
  },
  {
   "cell_type": "code",
   "execution_count": 214,
   "id": "9c109fee",
   "metadata": {},
   "outputs": [
    {
     "data": {
      "image/png": "[encoded data removed]",
      "text/plain": [
       "<Figure size 432x288 with 1 Axes>"
      ]
     },
     "metadata": {
      "needs_background": "light"
     },
     "output_type": "display_data"
    }
   ],
   "source": [
    "from sklearn.metrics import plot_roc_curve\n",
    "\n",
    "plot_roc_curve(Final_model,x_test,y_test)\n",
    "plt.title('ROC for the best model')\n",
    "plt.show()"
   ]
  },
  {
   "cell_type": "code",
   "execution_count": 274,
   "id": "ed19cbfc",
   "metadata": {},
   "outputs": [
    {
     "data": {
      "text/plain": [
       "['Titanic.pkl']"
      ]
     },
     "execution_count": 274,
     "metadata": {},
     "output_type": "execute_result"
    }
   ],
   "source": [
    "#Saving our model\n",
    "import joblib\n",
    "joblib.dump(Final_model,'Titanic.pkl')"
   ]
  },
  {
   "cell_type": "code",
   "execution_count": 276,
   "id": "758df58d",
   "metadata": {},
   "outputs": [
    {
     "data": {
      "text/plain": [
       "array([1, 1, 1, 1, 1, 1, 1, 0, 0, 1, 0, 0, 1, 1, 0, 1, 0, 1, 0, 1, 1, 0,\n",
       "       1, 0, 0, 0, 0, 1, 0, 0, 0, 0, 1, 1, 1, 0, 0, 0, 0, 1, 1, 1, 0, 0,\n",
       "       0, 0, 1, 0, 0, 1, 1, 0, 0, 1, 0, 1, 1, 1, 1, 0, 1, 1, 1, 0, 0, 1,\n",
       "       1, 0, 0, 0, 0, 1, 1, 0, 0, 0, 0, 0, 1, 1, 0, 1, 1, 1, 0, 0, 1, 0,\n",
       "       1, 1, 1, 1, 0, 0, 0, 1, 1, 1, 1, 0, 1, 1, 0, 1, 0, 1, 1, 1, 0, 1,\n",
       "       0, 1, 0, 0, 0, 0, 0, 1, 0, 1, 1, 1, 0, 0, 0, 1, 0, 1, 0, 1, 1, 0,\n",
       "       0, 0, 1, 1, 0, 0, 0, 0, 1, 0, 1, 1, 1, 1, 1, 1, 0, 0, 1, 0, 1, 0,\n",
       "       1, 1, 1, 0, 0, 0, 1, 1, 0, 0, 0, 1, 0, 0, 1, 1, 0, 0, 1, 0, 1, 0,\n",
       "       0, 1, 0, 0, 1, 1, 0, 1], dtype=int64)"
      ]
     },
     "execution_count": 276,
     "metadata": {},
     "output_type": "execute_result"
    }
   ],
   "source": [
    "#checking if our saved model is working\n",
    "model = joblib.load('Titanic.pkl')\n",
    "\n",
    "prediction=model.predict(x_test)\n",
    "prediction"
   ]
  }
 ],
 "metadata": {
  "kernelspec": {
   "display_name": "Python 3 (ipykernel)",
   "language": "python",
   "name": "python3"
  },
  "language_info": {
   "codemirror_mode": {
    "name": "ipython",
    "version": 3
   },
   "file_extension": ".py",
   "mimetype": "text/x-python",
   "name": "python",
   "nbconvert_exporter": "python",
   "pygments_lexer": "ipython3",
   "version": "3.9.12"
  }
 },
 "nbformat": 4,
 "nbformat_minor": 5
}
