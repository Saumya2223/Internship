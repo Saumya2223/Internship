{
 "cells": [
  {
   "cell_type": "code",
   "execution_count": 5,
   "id": "2cfc981b",
   "metadata": {},
   "outputs": [],
   "source": [
    "#importing required libraries\n",
    "\n",
    "import pandas as pd\n",
    "import numpy as np\n",
    "import seaborn as sns\n",
    "import matplotlib.pyplot as plt\n",
    "import warnings\n",
    "warnings.filterwarnings('ignore')"
   ]
  },
  {
   "cell_type": "code",
   "execution_count": 6,
   "id": "813a944d",
   "metadata": {},
   "outputs": [],
   "source": [
    "# creating Dataframe by importing redwine.csv file\n",
    "df = pd.read_csv('C:/Users/Rahul/Desktop/Internship/redwine.csv')"
   ]
  },
  {
   "cell_type": "code",
   "execution_count": 7,
   "id": "801541e8",
   "metadata": {},
   "outputs": [
    {
     "data": {
      "text/html": [
       "<div>\n",
       "<style scoped>\n",
       "    .dataframe tbody tr th:only-of-type {\n",
       "        vertical-align: middle;\n",
       "    }\n",
       "\n",
       "    .dataframe tbody tr th {\n",
       "        vertical-align: top;\n",
       "    }\n",
       "\n",
       "    .dataframe thead th {\n",
       "        text-align: right;\n",
       "    }\n",
       "</style>\n",
       "<table border=\"1\" class=\"dataframe\">\n",
       "  <thead>\n",
       "    <tr style=\"text-align: right;\">\n",
       "      <th></th>\n",
       "      <th>fixed acidity</th>\n",
       "      <th>volatile acidity</th>\n",
       "      <th>citric acid</th>\n",
       "      <th>residual sugar</th>\n",
       "      <th>chlorides</th>\n",
       "      <th>free sulfur dioxide</th>\n",
       "      <th>total sulfur dioxide</th>\n",
       "      <th>density</th>\n",
       "      <th>pH</th>\n",
       "      <th>sulphates</th>\n",
       "      <th>alcohol</th>\n",
       "      <th>quality</th>\n",
       "    </tr>\n",
       "  </thead>\n",
       "  <tbody>\n",
       "    <tr>\n",
       "      <th>0</th>\n",
       "      <td>7.4</td>\n",
       "      <td>0.700</td>\n",
       "      <td>0.00</td>\n",
       "      <td>1.9</td>\n",
       "      <td>0.076</td>\n",
       "      <td>11.0</td>\n",
       "      <td>34.0</td>\n",
       "      <td>0.99780</td>\n",
       "      <td>3.51</td>\n",
       "      <td>0.56</td>\n",
       "      <td>9.4</td>\n",
       "      <td>5</td>\n",
       "    </tr>\n",
       "    <tr>\n",
       "      <th>1</th>\n",
       "      <td>7.8</td>\n",
       "      <td>0.880</td>\n",
       "      <td>0.00</td>\n",
       "      <td>2.6</td>\n",
       "      <td>0.098</td>\n",
       "      <td>25.0</td>\n",
       "      <td>67.0</td>\n",
       "      <td>0.99680</td>\n",
       "      <td>3.20</td>\n",
       "      <td>0.68</td>\n",
       "      <td>9.8</td>\n",
       "      <td>5</td>\n",
       "    </tr>\n",
       "    <tr>\n",
       "      <th>2</th>\n",
       "      <td>7.8</td>\n",
       "      <td>0.760</td>\n",
       "      <td>0.04</td>\n",
       "      <td>2.3</td>\n",
       "      <td>0.092</td>\n",
       "      <td>15.0</td>\n",
       "      <td>54.0</td>\n",
       "      <td>0.99700</td>\n",
       "      <td>3.26</td>\n",
       "      <td>0.65</td>\n",
       "      <td>9.8</td>\n",
       "      <td>5</td>\n",
       "    </tr>\n",
       "    <tr>\n",
       "      <th>3</th>\n",
       "      <td>11.2</td>\n",
       "      <td>0.280</td>\n",
       "      <td>0.56</td>\n",
       "      <td>1.9</td>\n",
       "      <td>0.075</td>\n",
       "      <td>17.0</td>\n",
       "      <td>60.0</td>\n",
       "      <td>0.99800</td>\n",
       "      <td>3.16</td>\n",
       "      <td>0.58</td>\n",
       "      <td>9.8</td>\n",
       "      <td>6</td>\n",
       "    </tr>\n",
       "    <tr>\n",
       "      <th>4</th>\n",
       "      <td>7.4</td>\n",
       "      <td>0.700</td>\n",
       "      <td>0.00</td>\n",
       "      <td>1.9</td>\n",
       "      <td>0.076</td>\n",
       "      <td>11.0</td>\n",
       "      <td>34.0</td>\n",
       "      <td>0.99780</td>\n",
       "      <td>3.51</td>\n",
       "      <td>0.56</td>\n",
       "      <td>9.4</td>\n",
       "      <td>5</td>\n",
       "    </tr>\n",
       "    <tr>\n",
       "      <th>...</th>\n",
       "      <td>...</td>\n",
       "      <td>...</td>\n",
       "      <td>...</td>\n",
       "      <td>...</td>\n",
       "      <td>...</td>\n",
       "      <td>...</td>\n",
       "      <td>...</td>\n",
       "      <td>...</td>\n",
       "      <td>...</td>\n",
       "      <td>...</td>\n",
       "      <td>...</td>\n",
       "      <td>...</td>\n",
       "    </tr>\n",
       "    <tr>\n",
       "      <th>1594</th>\n",
       "      <td>6.2</td>\n",
       "      <td>0.600</td>\n",
       "      <td>0.08</td>\n",
       "      <td>2.0</td>\n",
       "      <td>0.090</td>\n",
       "      <td>32.0</td>\n",
       "      <td>44.0</td>\n",
       "      <td>0.99490</td>\n",
       "      <td>3.45</td>\n",
       "      <td>0.58</td>\n",
       "      <td>10.5</td>\n",
       "      <td>5</td>\n",
       "    </tr>\n",
       "    <tr>\n",
       "      <th>1595</th>\n",
       "      <td>5.9</td>\n",
       "      <td>0.550</td>\n",
       "      <td>0.10</td>\n",
       "      <td>2.2</td>\n",
       "      <td>0.062</td>\n",
       "      <td>39.0</td>\n",
       "      <td>51.0</td>\n",
       "      <td>0.99512</td>\n",
       "      <td>3.52</td>\n",
       "      <td>0.76</td>\n",
       "      <td>11.2</td>\n",
       "      <td>6</td>\n",
       "    </tr>\n",
       "    <tr>\n",
       "      <th>1596</th>\n",
       "      <td>6.3</td>\n",
       "      <td>0.510</td>\n",
       "      <td>0.13</td>\n",
       "      <td>2.3</td>\n",
       "      <td>0.076</td>\n",
       "      <td>29.0</td>\n",
       "      <td>40.0</td>\n",
       "      <td>0.99574</td>\n",
       "      <td>3.42</td>\n",
       "      <td>0.75</td>\n",
       "      <td>11.0</td>\n",
       "      <td>6</td>\n",
       "    </tr>\n",
       "    <tr>\n",
       "      <th>1597</th>\n",
       "      <td>5.9</td>\n",
       "      <td>0.645</td>\n",
       "      <td>0.12</td>\n",
       "      <td>2.0</td>\n",
       "      <td>0.075</td>\n",
       "      <td>32.0</td>\n",
       "      <td>44.0</td>\n",
       "      <td>0.99547</td>\n",
       "      <td>3.57</td>\n",
       "      <td>0.71</td>\n",
       "      <td>10.2</td>\n",
       "      <td>5</td>\n",
       "    </tr>\n",
       "    <tr>\n",
       "      <th>1598</th>\n",
       "      <td>6.0</td>\n",
       "      <td>0.310</td>\n",
       "      <td>0.47</td>\n",
       "      <td>3.6</td>\n",
       "      <td>0.067</td>\n",
       "      <td>18.0</td>\n",
       "      <td>42.0</td>\n",
       "      <td>0.99549</td>\n",
       "      <td>3.39</td>\n",
       "      <td>0.66</td>\n",
       "      <td>11.0</td>\n",
       "      <td>6</td>\n",
       "    </tr>\n",
       "  </tbody>\n",
       "</table>\n",
       "<p>1599 rows × 12 columns</p>\n",
       "</div>"
      ],
      "text/plain": [
       "      fixed acidity  volatile acidity  citric acid  residual sugar  chlorides  \\\n",
       "0               7.4             0.700         0.00             1.9      0.076   \n",
       "1               7.8             0.880         0.00             2.6      0.098   \n",
       "2               7.8             0.760         0.04             2.3      0.092   \n",
       "3              11.2             0.280         0.56             1.9      0.075   \n",
       "4               7.4             0.700         0.00             1.9      0.076   \n",
       "...             ...               ...          ...             ...        ...   \n",
       "1594            6.2             0.600         0.08             2.0      0.090   \n",
       "1595            5.9             0.550         0.10             2.2      0.062   \n",
       "1596            6.3             0.510         0.13             2.3      0.076   \n",
       "1597            5.9             0.645         0.12             2.0      0.075   \n",
       "1598            6.0             0.310         0.47             3.6      0.067   \n",
       "\n",
       "      free sulfur dioxide  total sulfur dioxide  density    pH  sulphates  \\\n",
       "0                    11.0                  34.0  0.99780  3.51       0.56   \n",
       "1                    25.0                  67.0  0.99680  3.20       0.68   \n",
       "2                    15.0                  54.0  0.99700  3.26       0.65   \n",
       "3                    17.0                  60.0  0.99800  3.16       0.58   \n",
       "4                    11.0                  34.0  0.99780  3.51       0.56   \n",
       "...                   ...                   ...      ...   ...        ...   \n",
       "1594                 32.0                  44.0  0.99490  3.45       0.58   \n",
       "1595                 39.0                  51.0  0.99512  3.52       0.76   \n",
       "1596                 29.0                  40.0  0.99574  3.42       0.75   \n",
       "1597                 32.0                  44.0  0.99547  3.57       0.71   \n",
       "1598                 18.0                  42.0  0.99549  3.39       0.66   \n",
       "\n",
       "      alcohol  quality  \n",
       "0         9.4        5  \n",
       "1         9.8        5  \n",
       "2         9.8        5  \n",
       "3         9.8        6  \n",
       "4         9.4        5  \n",
       "...       ...      ...  \n",
       "1594     10.5        5  \n",
       "1595     11.2        6  \n",
       "1596     11.0        6  \n",
       "1597     10.2        5  \n",
       "1598     11.0        6  \n",
       "\n",
       "[1599 rows x 12 columns]"
      ]
     },
     "execution_count": 7,
     "metadata": {},
     "output_type": "execute_result"
    }
   ],
   "source": [
    "df"
   ]
  },
  {
   "cell_type": "markdown",
   "id": "7e91915e",
   "metadata": {},
   "source": [
    "Our target column is quality"
   ]
  },
  {
   "cell_type": "code",
   "execution_count": 8,
   "id": "16ccf8f1",
   "metadata": {},
   "outputs": [
    {
     "data": {
      "text/plain": [
       "(1599, 12)"
      ]
     },
     "execution_count": 8,
     "metadata": {},
     "output_type": "execute_result"
    }
   ],
   "source": [
    "# Checking the shape of dataframe\n",
    "df.shape"
   ]
  },
  {
   "cell_type": "code",
   "execution_count": 9,
   "id": "d8afecb4",
   "metadata": {},
   "outputs": [
    {
     "data": {
      "text/plain": [
       "Index(['fixed acidity', 'volatile acidity', 'citric acid', 'residual sugar',\n",
       "       'chlorides', 'free sulfur dioxide', 'total sulfur dioxide', 'density',\n",
       "       'pH', 'sulphates', 'alcohol', 'quality'],\n",
       "      dtype='object')"
      ]
     },
     "execution_count": 9,
     "metadata": {},
     "output_type": "execute_result"
    }
   ],
   "source": [
    "df.columns"
   ]
  },
  {
   "cell_type": "code",
   "execution_count": 10,
   "id": "a7ad5d71",
   "metadata": {},
   "outputs": [
    {
     "data": {
      "text/plain": [
       "['fixed acidity',\n",
       " 'volatile acidity',\n",
       " 'citric acid',\n",
       " 'residual sugar',\n",
       " 'chlorides',\n",
       " 'free sulfur dioxide',\n",
       " 'total sulfur dioxide',\n",
       " 'density',\n",
       " 'pH',\n",
       " 'sulphates',\n",
       " 'alcohol',\n",
       " 'quality']"
      ]
     },
     "execution_count": 10,
     "metadata": {},
     "output_type": "execute_result"
    }
   ],
   "source": [
    "#Creating list of columns\n",
    "df.columns.tolist()"
   ]
  },
  {
   "cell_type": "code",
   "execution_count": 11,
   "id": "be99921f",
   "metadata": {},
   "outputs": [
    {
     "data": {
      "text/plain": [
       "fixed acidity           0\n",
       "volatile acidity        0\n",
       "citric acid             0\n",
       "residual sugar          0\n",
       "chlorides               0\n",
       "free sulfur dioxide     0\n",
       "total sulfur dioxide    0\n",
       "density                 0\n",
       "pH                      0\n",
       "sulphates               0\n",
       "alcohol                 0\n",
       "quality                 0\n",
       "dtype: int64"
      ]
     },
     "execution_count": 11,
     "metadata": {},
     "output_type": "execute_result"
    }
   ],
   "source": [
    "#Checking for Null values in the Data frame\n",
    "df.isnull().sum()"
   ]
  },
  {
   "cell_type": "markdown",
   "id": "99a2dfb4",
   "metadata": {},
   "source": [
    "No null/Nan values found in df"
   ]
  },
  {
   "cell_type": "code",
   "execution_count": 12,
   "id": "79059c3e",
   "metadata": {},
   "outputs": [
    {
     "data": {
      "text/plain": [
       "<AxesSubplot:>"
      ]
     },
     "execution_count": 12,
     "metadata": {},
     "output_type": "execute_result"
    },
    {
     "data": {
      "image/png": "[encoded data removed]",
      "text/plain": [
       "<Figure size 432x288 with 2 Axes>"
      ]
     },
     "metadata": {
      "needs_background": "light"
     },
     "output_type": "display_data"
    }
   ],
   "source": [
    "#Re-checking with the help of heatmap\n",
    "sns.heatmap(df.isnull())"
   ]
  },
  {
   "cell_type": "code",
   "execution_count": 13,
   "id": "f3ff2429",
   "metadata": {},
   "outputs": [
    {
     "data": {
      "text/html": [
       "<div>\n",
       "<style scoped>\n",
       "    .dataframe tbody tr th:only-of-type {\n",
       "        vertical-align: middle;\n",
       "    }\n",
       "\n",
       "    .dataframe tbody tr th {\n",
       "        vertical-align: top;\n",
       "    }\n",
       "\n",
       "    .dataframe thead th {\n",
       "        text-align: right;\n",
       "    }\n",
       "</style>\n",
       "<table border=\"1\" class=\"dataframe\">\n",
       "  <thead>\n",
       "    <tr style=\"text-align: right;\">\n",
       "      <th></th>\n",
       "      <th>fixed acidity</th>\n",
       "      <th>volatile acidity</th>\n",
       "      <th>citric acid</th>\n",
       "      <th>residual sugar</th>\n",
       "      <th>chlorides</th>\n",
       "      <th>free sulfur dioxide</th>\n",
       "      <th>total sulfur dioxide</th>\n",
       "      <th>density</th>\n",
       "      <th>pH</th>\n",
       "      <th>sulphates</th>\n",
       "      <th>alcohol</th>\n",
       "      <th>quality</th>\n",
       "    </tr>\n",
       "  </thead>\n",
       "  <tbody>\n",
       "    <tr>\n",
       "      <th>0</th>\n",
       "      <td>7.4</td>\n",
       "      <td>0.70</td>\n",
       "      <td>0.00</td>\n",
       "      <td>1.9</td>\n",
       "      <td>0.076</td>\n",
       "      <td>11.0</td>\n",
       "      <td>34.0</td>\n",
       "      <td>0.9978</td>\n",
       "      <td>3.51</td>\n",
       "      <td>0.56</td>\n",
       "      <td>9.4</td>\n",
       "      <td>5</td>\n",
       "    </tr>\n",
       "    <tr>\n",
       "      <th>1</th>\n",
       "      <td>7.8</td>\n",
       "      <td>0.88</td>\n",
       "      <td>0.00</td>\n",
       "      <td>2.6</td>\n",
       "      <td>0.098</td>\n",
       "      <td>25.0</td>\n",
       "      <td>67.0</td>\n",
       "      <td>0.9968</td>\n",
       "      <td>3.20</td>\n",
       "      <td>0.68</td>\n",
       "      <td>9.8</td>\n",
       "      <td>5</td>\n",
       "    </tr>\n",
       "    <tr>\n",
       "      <th>2</th>\n",
       "      <td>7.8</td>\n",
       "      <td>0.76</td>\n",
       "      <td>0.04</td>\n",
       "      <td>2.3</td>\n",
       "      <td>0.092</td>\n",
       "      <td>15.0</td>\n",
       "      <td>54.0</td>\n",
       "      <td>0.9970</td>\n",
       "      <td>3.26</td>\n",
       "      <td>0.65</td>\n",
       "      <td>9.8</td>\n",
       "      <td>5</td>\n",
       "    </tr>\n",
       "    <tr>\n",
       "      <th>3</th>\n",
       "      <td>11.2</td>\n",
       "      <td>0.28</td>\n",
       "      <td>0.56</td>\n",
       "      <td>1.9</td>\n",
       "      <td>0.075</td>\n",
       "      <td>17.0</td>\n",
       "      <td>60.0</td>\n",
       "      <td>0.9980</td>\n",
       "      <td>3.16</td>\n",
       "      <td>0.58</td>\n",
       "      <td>9.8</td>\n",
       "      <td>6</td>\n",
       "    </tr>\n",
       "    <tr>\n",
       "      <th>4</th>\n",
       "      <td>7.4</td>\n",
       "      <td>0.70</td>\n",
       "      <td>0.00</td>\n",
       "      <td>1.9</td>\n",
       "      <td>0.076</td>\n",
       "      <td>11.0</td>\n",
       "      <td>34.0</td>\n",
       "      <td>0.9978</td>\n",
       "      <td>3.51</td>\n",
       "      <td>0.56</td>\n",
       "      <td>9.4</td>\n",
       "      <td>5</td>\n",
       "    </tr>\n",
       "  </tbody>\n",
       "</table>\n",
       "</div>"
      ],
      "text/plain": [
       "   fixed acidity  volatile acidity  citric acid  residual sugar  chlorides  \\\n",
       "0            7.4              0.70         0.00             1.9      0.076   \n",
       "1            7.8              0.88         0.00             2.6      0.098   \n",
       "2            7.8              0.76         0.04             2.3      0.092   \n",
       "3           11.2              0.28         0.56             1.9      0.075   \n",
       "4            7.4              0.70         0.00             1.9      0.076   \n",
       "\n",
       "   free sulfur dioxide  total sulfur dioxide  density    pH  sulphates  \\\n",
       "0                 11.0                  34.0   0.9978  3.51       0.56   \n",
       "1                 25.0                  67.0   0.9968  3.20       0.68   \n",
       "2                 15.0                  54.0   0.9970  3.26       0.65   \n",
       "3                 17.0                  60.0   0.9980  3.16       0.58   \n",
       "4                 11.0                  34.0   0.9978  3.51       0.56   \n",
       "\n",
       "   alcohol  quality  \n",
       "0      9.4        5  \n",
       "1      9.8        5  \n",
       "2      9.8        5  \n",
       "3      9.8        6  \n",
       "4      9.4        5  "
      ]
     },
     "execution_count": 13,
     "metadata": {},
     "output_type": "execute_result"
    }
   ],
   "source": [
    "df.head()"
   ]
  },
  {
   "cell_type": "code",
   "execution_count": 14,
   "id": "06c3a01b",
   "metadata": {},
   "outputs": [
    {
     "data": {
      "text/html": [
       "<div>\n",
       "<style scoped>\n",
       "    .dataframe tbody tr th:only-of-type {\n",
       "        vertical-align: middle;\n",
       "    }\n",
       "\n",
       "    .dataframe tbody tr th {\n",
       "        vertical-align: top;\n",
       "    }\n",
       "\n",
       "    .dataframe thead th {\n",
       "        text-align: right;\n",
       "    }\n",
       "</style>\n",
       "<table border=\"1\" class=\"dataframe\">\n",
       "  <thead>\n",
       "    <tr style=\"text-align: right;\">\n",
       "      <th></th>\n",
       "      <th>fixed acidity</th>\n",
       "      <th>volatile acidity</th>\n",
       "      <th>citric acid</th>\n",
       "      <th>residual sugar</th>\n",
       "      <th>chlorides</th>\n",
       "      <th>free sulfur dioxide</th>\n",
       "      <th>total sulfur dioxide</th>\n",
       "      <th>density</th>\n",
       "      <th>pH</th>\n",
       "      <th>sulphates</th>\n",
       "      <th>alcohol</th>\n",
       "      <th>quality</th>\n",
       "    </tr>\n",
       "  </thead>\n",
       "  <tbody>\n",
       "    <tr>\n",
       "      <th>1594</th>\n",
       "      <td>6.2</td>\n",
       "      <td>0.600</td>\n",
       "      <td>0.08</td>\n",
       "      <td>2.0</td>\n",
       "      <td>0.090</td>\n",
       "      <td>32.0</td>\n",
       "      <td>44.0</td>\n",
       "      <td>0.99490</td>\n",
       "      <td>3.45</td>\n",
       "      <td>0.58</td>\n",
       "      <td>10.5</td>\n",
       "      <td>5</td>\n",
       "    </tr>\n",
       "    <tr>\n",
       "      <th>1595</th>\n",
       "      <td>5.9</td>\n",
       "      <td>0.550</td>\n",
       "      <td>0.10</td>\n",
       "      <td>2.2</td>\n",
       "      <td>0.062</td>\n",
       "      <td>39.0</td>\n",
       "      <td>51.0</td>\n",
       "      <td>0.99512</td>\n",
       "      <td>3.52</td>\n",
       "      <td>0.76</td>\n",
       "      <td>11.2</td>\n",
       "      <td>6</td>\n",
       "    </tr>\n",
       "    <tr>\n",
       "      <th>1596</th>\n",
       "      <td>6.3</td>\n",
       "      <td>0.510</td>\n",
       "      <td>0.13</td>\n",
       "      <td>2.3</td>\n",
       "      <td>0.076</td>\n",
       "      <td>29.0</td>\n",
       "      <td>40.0</td>\n",
       "      <td>0.99574</td>\n",
       "      <td>3.42</td>\n",
       "      <td>0.75</td>\n",
       "      <td>11.0</td>\n",
       "      <td>6</td>\n",
       "    </tr>\n",
       "    <tr>\n",
       "      <th>1597</th>\n",
       "      <td>5.9</td>\n",
       "      <td>0.645</td>\n",
       "      <td>0.12</td>\n",
       "      <td>2.0</td>\n",
       "      <td>0.075</td>\n",
       "      <td>32.0</td>\n",
       "      <td>44.0</td>\n",
       "      <td>0.99547</td>\n",
       "      <td>3.57</td>\n",
       "      <td>0.71</td>\n",
       "      <td>10.2</td>\n",
       "      <td>5</td>\n",
       "    </tr>\n",
       "    <tr>\n",
       "      <th>1598</th>\n",
       "      <td>6.0</td>\n",
       "      <td>0.310</td>\n",
       "      <td>0.47</td>\n",
       "      <td>3.6</td>\n",
       "      <td>0.067</td>\n",
       "      <td>18.0</td>\n",
       "      <td>42.0</td>\n",
       "      <td>0.99549</td>\n",
       "      <td>3.39</td>\n",
       "      <td>0.66</td>\n",
       "      <td>11.0</td>\n",
       "      <td>6</td>\n",
       "    </tr>\n",
       "  </tbody>\n",
       "</table>\n",
       "</div>"
      ],
      "text/plain": [
       "      fixed acidity  volatile acidity  citric acid  residual sugar  chlorides  \\\n",
       "1594            6.2             0.600         0.08             2.0      0.090   \n",
       "1595            5.9             0.550         0.10             2.2      0.062   \n",
       "1596            6.3             0.510         0.13             2.3      0.076   \n",
       "1597            5.9             0.645         0.12             2.0      0.075   \n",
       "1598            6.0             0.310         0.47             3.6      0.067   \n",
       "\n",
       "      free sulfur dioxide  total sulfur dioxide  density    pH  sulphates  \\\n",
       "1594                 32.0                  44.0  0.99490  3.45       0.58   \n",
       "1595                 39.0                  51.0  0.99512  3.52       0.76   \n",
       "1596                 29.0                  40.0  0.99574  3.42       0.75   \n",
       "1597                 32.0                  44.0  0.99547  3.57       0.71   \n",
       "1598                 18.0                  42.0  0.99549  3.39       0.66   \n",
       "\n",
       "      alcohol  quality  \n",
       "1594     10.5        5  \n",
       "1595     11.2        6  \n",
       "1596     11.0        6  \n",
       "1597     10.2        5  \n",
       "1598     11.0        6  "
      ]
     },
     "execution_count": 14,
     "metadata": {},
     "output_type": "execute_result"
    }
   ],
   "source": [
    "df.tail()"
   ]
  },
  {
   "cell_type": "code",
   "execution_count": 15,
   "id": "c0203492",
   "metadata": {},
   "outputs": [
    {
     "data": {
      "text/plain": [
       "240"
      ]
     },
     "execution_count": 15,
     "metadata": {},
     "output_type": "execute_result"
    }
   ],
   "source": [
    "#Finding duplicate rows inside the dataframe\n",
    "df.duplicated(keep='first').sum()"
   ]
  },
  {
   "cell_type": "markdown",
   "id": "a395da3e",
   "metadata": {},
   "source": [
    "240 duplicate rows found in the data frame."
   ]
  },
  {
   "cell_type": "code",
   "execution_count": 16,
   "id": "4a7b007d",
   "metadata": {},
   "outputs": [],
   "source": [
    "#Removing the duplicate values except for the first occurence\n",
    "df.drop_duplicates(inplace=True)"
   ]
  },
  {
   "cell_type": "code",
   "execution_count": 17,
   "id": "f1ec097a",
   "metadata": {},
   "outputs": [
    {
     "data": {
      "text/plain": [
       "(1359, 12)"
      ]
     },
     "execution_count": 17,
     "metadata": {},
     "output_type": "execute_result"
    }
   ],
   "source": [
    "#Checking the shape of Dataframe\n",
    "df.shape"
   ]
  },
  {
   "cell_type": "markdown",
   "id": "7b06e656",
   "metadata": {},
   "source": [
    "The new shape is 1359 rows & 12 columns."
   ]
  },
  {
   "cell_type": "code",
   "execution_count": 18,
   "id": "6c5ffa2a",
   "metadata": {},
   "outputs": [
    {
     "name": "stdout",
     "output_type": "stream",
     "text": [
      "<class 'pandas.core.frame.DataFrame'>\n",
      "Int64Index: 1359 entries, 0 to 1598\n",
      "Data columns (total 12 columns):\n",
      " #   Column                Non-Null Count  Dtype  \n",
      "---  ------                --------------  -----  \n",
      " 0   fixed acidity         1359 non-null   float64\n",
      " 1   volatile acidity      1359 non-null   float64\n",
      " 2   citric acid           1359 non-null   float64\n",
      " 3   residual sugar        1359 non-null   float64\n",
      " 4   chlorides             1359 non-null   float64\n",
      " 5   free sulfur dioxide   1359 non-null   float64\n",
      " 6   total sulfur dioxide  1359 non-null   float64\n",
      " 7   density               1359 non-null   float64\n",
      " 8   pH                    1359 non-null   float64\n",
      " 9   sulphates             1359 non-null   float64\n",
      " 10  alcohol               1359 non-null   float64\n",
      " 11  quality               1359 non-null   int64  \n",
      "dtypes: float64(11), int64(1)\n",
      "memory usage: 138.0 KB\n"
     ]
    }
   ],
   "source": [
    "df.info()"
   ]
  },
  {
   "cell_type": "markdown",
   "id": "e9a7625b",
   "metadata": {},
   "source": [
    "All the data in features column are float64 dtype.\n",
    "Data in target column (quality) are int64 dtype."
   ]
  },
  {
   "cell_type": "code",
   "execution_count": 19,
   "id": "e7b7a09d",
   "metadata": {},
   "outputs": [
    {
     "data": {
      "text/plain": [
       "array([5, 6, 7, 4, 8, 3], dtype=int64)"
      ]
     },
     "execution_count": 19,
     "metadata": {},
     "output_type": "execute_result"
    }
   ],
   "source": [
    "#Checking unique values in target column\n",
    "df['quality'].unique()"
   ]
  },
  {
   "cell_type": "markdown",
   "id": "b275538d",
   "metadata": {},
   "source": [
    "For classification task, we need to alter the values of target column in two values. If the quality of wine is 7 or higher getting classified as 'good/1' and the remainder as 'not good/0'"
   ]
  },
  {
   "cell_type": "code",
   "execution_count": 20,
   "id": "7e4069d1",
   "metadata": {},
   "outputs": [],
   "source": [
    "threshold = 7\n",
    "df['quality'] = df['quality'].apply(lambda x: 1 if x >= threshold else 0)"
   ]
  },
  {
   "cell_type": "markdown",
   "id": "342c37fd",
   "metadata": {},
   "source": [
    "Changing the elements of quality columns as Binary values. \n",
    "If 1 = Good quality wine\n",
    "   0 = Not good quality wine"
   ]
  },
  {
   "cell_type": "code",
   "execution_count": 21,
   "id": "06dee07b",
   "metadata": {},
   "outputs": [
    {
     "data": {
      "text/plain": [
       "array([0, 1], dtype=int64)"
      ]
     },
     "execution_count": 21,
     "metadata": {},
     "output_type": "execute_result"
    }
   ],
   "source": [
    "#Rechecking the unique values in target column\n",
    "df['quality'].unique()"
   ]
  },
  {
   "cell_type": "code",
   "execution_count": 22,
   "id": "36aae53d",
   "metadata": {},
   "outputs": [
    {
     "data": {
      "text/html": [
       "<div>\n",
       "<style scoped>\n",
       "    .dataframe tbody tr th:only-of-type {\n",
       "        vertical-align: middle;\n",
       "    }\n",
       "\n",
       "    .dataframe tbody tr th {\n",
       "        vertical-align: top;\n",
       "    }\n",
       "\n",
       "    .dataframe thead th {\n",
       "        text-align: right;\n",
       "    }\n",
       "</style>\n",
       "<table border=\"1\" class=\"dataframe\">\n",
       "  <thead>\n",
       "    <tr style=\"text-align: right;\">\n",
       "      <th></th>\n",
       "      <th>fixed acidity</th>\n",
       "      <th>volatile acidity</th>\n",
       "      <th>citric acid</th>\n",
       "      <th>residual sugar</th>\n",
       "      <th>chlorides</th>\n",
       "      <th>free sulfur dioxide</th>\n",
       "      <th>total sulfur dioxide</th>\n",
       "      <th>density</th>\n",
       "      <th>pH</th>\n",
       "      <th>sulphates</th>\n",
       "      <th>alcohol</th>\n",
       "      <th>quality</th>\n",
       "    </tr>\n",
       "  </thead>\n",
       "  <tbody>\n",
       "    <tr>\n",
       "      <th>0</th>\n",
       "      <td>7.4</td>\n",
       "      <td>0.700</td>\n",
       "      <td>0.00</td>\n",
       "      <td>1.9</td>\n",
       "      <td>0.076</td>\n",
       "      <td>11.0</td>\n",
       "      <td>34.0</td>\n",
       "      <td>0.9978</td>\n",
       "      <td>3.51</td>\n",
       "      <td>0.56</td>\n",
       "      <td>9.4</td>\n",
       "      <td>0</td>\n",
       "    </tr>\n",
       "    <tr>\n",
       "      <th>1</th>\n",
       "      <td>7.8</td>\n",
       "      <td>0.880</td>\n",
       "      <td>0.00</td>\n",
       "      <td>2.6</td>\n",
       "      <td>0.098</td>\n",
       "      <td>25.0</td>\n",
       "      <td>67.0</td>\n",
       "      <td>0.9968</td>\n",
       "      <td>3.20</td>\n",
       "      <td>0.68</td>\n",
       "      <td>9.8</td>\n",
       "      <td>0</td>\n",
       "    </tr>\n",
       "    <tr>\n",
       "      <th>2</th>\n",
       "      <td>7.8</td>\n",
       "      <td>0.760</td>\n",
       "      <td>0.04</td>\n",
       "      <td>2.3</td>\n",
       "      <td>0.092</td>\n",
       "      <td>15.0</td>\n",
       "      <td>54.0</td>\n",
       "      <td>0.9970</td>\n",
       "      <td>3.26</td>\n",
       "      <td>0.65</td>\n",
       "      <td>9.8</td>\n",
       "      <td>0</td>\n",
       "    </tr>\n",
       "    <tr>\n",
       "      <th>3</th>\n",
       "      <td>11.2</td>\n",
       "      <td>0.280</td>\n",
       "      <td>0.56</td>\n",
       "      <td>1.9</td>\n",
       "      <td>0.075</td>\n",
       "      <td>17.0</td>\n",
       "      <td>60.0</td>\n",
       "      <td>0.9980</td>\n",
       "      <td>3.16</td>\n",
       "      <td>0.58</td>\n",
       "      <td>9.8</td>\n",
       "      <td>0</td>\n",
       "    </tr>\n",
       "    <tr>\n",
       "      <th>5</th>\n",
       "      <td>7.4</td>\n",
       "      <td>0.660</td>\n",
       "      <td>0.00</td>\n",
       "      <td>1.8</td>\n",
       "      <td>0.075</td>\n",
       "      <td>13.0</td>\n",
       "      <td>40.0</td>\n",
       "      <td>0.9978</td>\n",
       "      <td>3.51</td>\n",
       "      <td>0.56</td>\n",
       "      <td>9.4</td>\n",
       "      <td>0</td>\n",
       "    </tr>\n",
       "    <tr>\n",
       "      <th>6</th>\n",
       "      <td>7.9</td>\n",
       "      <td>0.600</td>\n",
       "      <td>0.06</td>\n",
       "      <td>1.6</td>\n",
       "      <td>0.069</td>\n",
       "      <td>15.0</td>\n",
       "      <td>59.0</td>\n",
       "      <td>0.9964</td>\n",
       "      <td>3.30</td>\n",
       "      <td>0.46</td>\n",
       "      <td>9.4</td>\n",
       "      <td>0</td>\n",
       "    </tr>\n",
       "    <tr>\n",
       "      <th>7</th>\n",
       "      <td>7.3</td>\n",
       "      <td>0.650</td>\n",
       "      <td>0.00</td>\n",
       "      <td>1.2</td>\n",
       "      <td>0.065</td>\n",
       "      <td>15.0</td>\n",
       "      <td>21.0</td>\n",
       "      <td>0.9946</td>\n",
       "      <td>3.39</td>\n",
       "      <td>0.47</td>\n",
       "      <td>10.0</td>\n",
       "      <td>1</td>\n",
       "    </tr>\n",
       "    <tr>\n",
       "      <th>8</th>\n",
       "      <td>7.8</td>\n",
       "      <td>0.580</td>\n",
       "      <td>0.02</td>\n",
       "      <td>2.0</td>\n",
       "      <td>0.073</td>\n",
       "      <td>9.0</td>\n",
       "      <td>18.0</td>\n",
       "      <td>0.9968</td>\n",
       "      <td>3.36</td>\n",
       "      <td>0.57</td>\n",
       "      <td>9.5</td>\n",
       "      <td>1</td>\n",
       "    </tr>\n",
       "    <tr>\n",
       "      <th>9</th>\n",
       "      <td>7.5</td>\n",
       "      <td>0.500</td>\n",
       "      <td>0.36</td>\n",
       "      <td>6.1</td>\n",
       "      <td>0.071</td>\n",
       "      <td>17.0</td>\n",
       "      <td>102.0</td>\n",
       "      <td>0.9978</td>\n",
       "      <td>3.35</td>\n",
       "      <td>0.80</td>\n",
       "      <td>10.5</td>\n",
       "      <td>0</td>\n",
       "    </tr>\n",
       "    <tr>\n",
       "      <th>10</th>\n",
       "      <td>6.7</td>\n",
       "      <td>0.580</td>\n",
       "      <td>0.08</td>\n",
       "      <td>1.8</td>\n",
       "      <td>0.097</td>\n",
       "      <td>15.0</td>\n",
       "      <td>65.0</td>\n",
       "      <td>0.9959</td>\n",
       "      <td>3.28</td>\n",
       "      <td>0.54</td>\n",
       "      <td>9.2</td>\n",
       "      <td>0</td>\n",
       "    </tr>\n",
       "    <tr>\n",
       "      <th>12</th>\n",
       "      <td>5.6</td>\n",
       "      <td>0.615</td>\n",
       "      <td>0.00</td>\n",
       "      <td>1.6</td>\n",
       "      <td>0.089</td>\n",
       "      <td>16.0</td>\n",
       "      <td>59.0</td>\n",
       "      <td>0.9943</td>\n",
       "      <td>3.58</td>\n",
       "      <td>0.52</td>\n",
       "      <td>9.9</td>\n",
       "      <td>0</td>\n",
       "    </tr>\n",
       "    <tr>\n",
       "      <th>13</th>\n",
       "      <td>7.8</td>\n",
       "      <td>0.610</td>\n",
       "      <td>0.29</td>\n",
       "      <td>1.6</td>\n",
       "      <td>0.114</td>\n",
       "      <td>9.0</td>\n",
       "      <td>29.0</td>\n",
       "      <td>0.9974</td>\n",
       "      <td>3.26</td>\n",
       "      <td>1.56</td>\n",
       "      <td>9.1</td>\n",
       "      <td>0</td>\n",
       "    </tr>\n",
       "    <tr>\n",
       "      <th>14</th>\n",
       "      <td>8.9</td>\n",
       "      <td>0.620</td>\n",
       "      <td>0.18</td>\n",
       "      <td>3.8</td>\n",
       "      <td>0.176</td>\n",
       "      <td>52.0</td>\n",
       "      <td>145.0</td>\n",
       "      <td>0.9986</td>\n",
       "      <td>3.16</td>\n",
       "      <td>0.88</td>\n",
       "      <td>9.2</td>\n",
       "      <td>0</td>\n",
       "    </tr>\n",
       "    <tr>\n",
       "      <th>15</th>\n",
       "      <td>8.9</td>\n",
       "      <td>0.620</td>\n",
       "      <td>0.19</td>\n",
       "      <td>3.9</td>\n",
       "      <td>0.170</td>\n",
       "      <td>51.0</td>\n",
       "      <td>148.0</td>\n",
       "      <td>0.9986</td>\n",
       "      <td>3.17</td>\n",
       "      <td>0.93</td>\n",
       "      <td>9.2</td>\n",
       "      <td>0</td>\n",
       "    </tr>\n",
       "    <tr>\n",
       "      <th>16</th>\n",
       "      <td>8.5</td>\n",
       "      <td>0.280</td>\n",
       "      <td>0.56</td>\n",
       "      <td>1.8</td>\n",
       "      <td>0.092</td>\n",
       "      <td>35.0</td>\n",
       "      <td>103.0</td>\n",
       "      <td>0.9969</td>\n",
       "      <td>3.30</td>\n",
       "      <td>0.75</td>\n",
       "      <td>10.5</td>\n",
       "      <td>1</td>\n",
       "    </tr>\n",
       "    <tr>\n",
       "      <th>17</th>\n",
       "      <td>8.1</td>\n",
       "      <td>0.560</td>\n",
       "      <td>0.28</td>\n",
       "      <td>1.7</td>\n",
       "      <td>0.368</td>\n",
       "      <td>16.0</td>\n",
       "      <td>56.0</td>\n",
       "      <td>0.9968</td>\n",
       "      <td>3.11</td>\n",
       "      <td>1.28</td>\n",
       "      <td>9.3</td>\n",
       "      <td>0</td>\n",
       "    </tr>\n",
       "    <tr>\n",
       "      <th>18</th>\n",
       "      <td>7.4</td>\n",
       "      <td>0.590</td>\n",
       "      <td>0.08</td>\n",
       "      <td>4.4</td>\n",
       "      <td>0.086</td>\n",
       "      <td>6.0</td>\n",
       "      <td>29.0</td>\n",
       "      <td>0.9974</td>\n",
       "      <td>3.38</td>\n",
       "      <td>0.50</td>\n",
       "      <td>9.0</td>\n",
       "      <td>0</td>\n",
       "    </tr>\n",
       "    <tr>\n",
       "      <th>19</th>\n",
       "      <td>7.9</td>\n",
       "      <td>0.320</td>\n",
       "      <td>0.51</td>\n",
       "      <td>1.8</td>\n",
       "      <td>0.341</td>\n",
       "      <td>17.0</td>\n",
       "      <td>56.0</td>\n",
       "      <td>0.9969</td>\n",
       "      <td>3.04</td>\n",
       "      <td>1.08</td>\n",
       "      <td>9.2</td>\n",
       "      <td>0</td>\n",
       "    </tr>\n",
       "    <tr>\n",
       "      <th>20</th>\n",
       "      <td>8.9</td>\n",
       "      <td>0.220</td>\n",
       "      <td>0.48</td>\n",
       "      <td>1.8</td>\n",
       "      <td>0.077</td>\n",
       "      <td>29.0</td>\n",
       "      <td>60.0</td>\n",
       "      <td>0.9968</td>\n",
       "      <td>3.39</td>\n",
       "      <td>0.53</td>\n",
       "      <td>9.4</td>\n",
       "      <td>0</td>\n",
       "    </tr>\n",
       "    <tr>\n",
       "      <th>21</th>\n",
       "      <td>7.6</td>\n",
       "      <td>0.390</td>\n",
       "      <td>0.31</td>\n",
       "      <td>2.3</td>\n",
       "      <td>0.082</td>\n",
       "      <td>23.0</td>\n",
       "      <td>71.0</td>\n",
       "      <td>0.9982</td>\n",
       "      <td>3.52</td>\n",
       "      <td>0.65</td>\n",
       "      <td>9.7</td>\n",
       "      <td>0</td>\n",
       "    </tr>\n",
       "  </tbody>\n",
       "</table>\n",
       "</div>"
      ],
      "text/plain": [
       "    fixed acidity  volatile acidity  citric acid  residual sugar  chlorides  \\\n",
       "0             7.4             0.700         0.00             1.9      0.076   \n",
       "1             7.8             0.880         0.00             2.6      0.098   \n",
       "2             7.8             0.760         0.04             2.3      0.092   \n",
       "3            11.2             0.280         0.56             1.9      0.075   \n",
       "5             7.4             0.660         0.00             1.8      0.075   \n",
       "6             7.9             0.600         0.06             1.6      0.069   \n",
       "7             7.3             0.650         0.00             1.2      0.065   \n",
       "8             7.8             0.580         0.02             2.0      0.073   \n",
       "9             7.5             0.500         0.36             6.1      0.071   \n",
       "10            6.7             0.580         0.08             1.8      0.097   \n",
       "12            5.6             0.615         0.00             1.6      0.089   \n",
       "13            7.8             0.610         0.29             1.6      0.114   \n",
       "14            8.9             0.620         0.18             3.8      0.176   \n",
       "15            8.9             0.620         0.19             3.9      0.170   \n",
       "16            8.5             0.280         0.56             1.8      0.092   \n",
       "17            8.1             0.560         0.28             1.7      0.368   \n",
       "18            7.4             0.590         0.08             4.4      0.086   \n",
       "19            7.9             0.320         0.51             1.8      0.341   \n",
       "20            8.9             0.220         0.48             1.8      0.077   \n",
       "21            7.6             0.390         0.31             2.3      0.082   \n",
       "\n",
       "    free sulfur dioxide  total sulfur dioxide  density    pH  sulphates  \\\n",
       "0                  11.0                  34.0   0.9978  3.51       0.56   \n",
       "1                  25.0                  67.0   0.9968  3.20       0.68   \n",
       "2                  15.0                  54.0   0.9970  3.26       0.65   \n",
       "3                  17.0                  60.0   0.9980  3.16       0.58   \n",
       "5                  13.0                  40.0   0.9978  3.51       0.56   \n",
       "6                  15.0                  59.0   0.9964  3.30       0.46   \n",
       "7                  15.0                  21.0   0.9946  3.39       0.47   \n",
       "8                   9.0                  18.0   0.9968  3.36       0.57   \n",
       "9                  17.0                 102.0   0.9978  3.35       0.80   \n",
       "10                 15.0                  65.0   0.9959  3.28       0.54   \n",
       "12                 16.0                  59.0   0.9943  3.58       0.52   \n",
       "13                  9.0                  29.0   0.9974  3.26       1.56   \n",
       "14                 52.0                 145.0   0.9986  3.16       0.88   \n",
       "15                 51.0                 148.0   0.9986  3.17       0.93   \n",
       "16                 35.0                 103.0   0.9969  3.30       0.75   \n",
       "17                 16.0                  56.0   0.9968  3.11       1.28   \n",
       "18                  6.0                  29.0   0.9974  3.38       0.50   \n",
       "19                 17.0                  56.0   0.9969  3.04       1.08   \n",
       "20                 29.0                  60.0   0.9968  3.39       0.53   \n",
       "21                 23.0                  71.0   0.9982  3.52       0.65   \n",
       "\n",
       "    alcohol  quality  \n",
       "0       9.4        0  \n",
       "1       9.8        0  \n",
       "2       9.8        0  \n",
       "3       9.8        0  \n",
       "5       9.4        0  \n",
       "6       9.4        0  \n",
       "7      10.0        1  \n",
       "8       9.5        1  \n",
       "9      10.5        0  \n",
       "10      9.2        0  \n",
       "12      9.9        0  \n",
       "13      9.1        0  \n",
       "14      9.2        0  \n",
       "15      9.2        0  \n",
       "16     10.5        1  \n",
       "17      9.3        0  \n",
       "18      9.0        0  \n",
       "19      9.2        0  \n",
       "20      9.4        0  \n",
       "21      9.7        0  "
      ]
     },
     "execution_count": 22,
     "metadata": {},
     "output_type": "execute_result"
    }
   ],
   "source": [
    "df.head(20)"
   ]
  },
  {
   "cell_type": "code",
   "execution_count": 23,
   "id": "ccebccc4",
   "metadata": {},
   "outputs": [
    {
     "data": {
      "text/plain": [
       "0    1175\n",
       "1     184\n",
       "Name: quality, dtype: int64"
      ]
     },
     "execution_count": 23,
     "metadata": {},
     "output_type": "execute_result"
    }
   ],
   "source": [
    "#checking the distint values count in target column\n",
    "df['quality'].value_counts()"
   ]
  },
  {
   "cell_type": "markdown",
   "id": "e2c1402b",
   "metadata": {},
   "source": [
    "There is high discrepancy in the outcome of the quality. Hence oversampling is required."
   ]
  },
  {
   "cell_type": "code",
   "execution_count": 24,
   "id": "a642751d",
   "metadata": {},
   "outputs": [
    {
     "data": {
      "text/html": [
       "<div>\n",
       "<style scoped>\n",
       "    .dataframe tbody tr th:only-of-type {\n",
       "        vertical-align: middle;\n",
       "    }\n",
       "\n",
       "    .dataframe tbody tr th {\n",
       "        vertical-align: top;\n",
       "    }\n",
       "\n",
       "    .dataframe thead th {\n",
       "        text-align: right;\n",
       "    }\n",
       "</style>\n",
       "<table border=\"1\" class=\"dataframe\">\n",
       "  <thead>\n",
       "    <tr style=\"text-align: right;\">\n",
       "      <th></th>\n",
       "      <th>fixed acidity</th>\n",
       "      <th>volatile acidity</th>\n",
       "      <th>citric acid</th>\n",
       "      <th>residual sugar</th>\n",
       "      <th>chlorides</th>\n",
       "      <th>free sulfur dioxide</th>\n",
       "      <th>total sulfur dioxide</th>\n",
       "      <th>density</th>\n",
       "      <th>pH</th>\n",
       "      <th>sulphates</th>\n",
       "      <th>alcohol</th>\n",
       "      <th>quality</th>\n",
       "    </tr>\n",
       "  </thead>\n",
       "  <tbody>\n",
       "    <tr>\n",
       "      <th>count</th>\n",
       "      <td>1359.000000</td>\n",
       "      <td>1359.000000</td>\n",
       "      <td>1359.000000</td>\n",
       "      <td>1359.000000</td>\n",
       "      <td>1359.000000</td>\n",
       "      <td>1359.000000</td>\n",
       "      <td>1359.000000</td>\n",
       "      <td>1359.000000</td>\n",
       "      <td>1359.000000</td>\n",
       "      <td>1359.000000</td>\n",
       "      <td>1359.000000</td>\n",
       "      <td>1359.000000</td>\n",
       "    </tr>\n",
       "    <tr>\n",
       "      <th>mean</th>\n",
       "      <td>8.310596</td>\n",
       "      <td>0.529478</td>\n",
       "      <td>0.272333</td>\n",
       "      <td>2.523400</td>\n",
       "      <td>0.088124</td>\n",
       "      <td>15.893304</td>\n",
       "      <td>46.825975</td>\n",
       "      <td>0.996709</td>\n",
       "      <td>3.309787</td>\n",
       "      <td>0.658705</td>\n",
       "      <td>10.432315</td>\n",
       "      <td>0.135394</td>\n",
       "    </tr>\n",
       "    <tr>\n",
       "      <th>std</th>\n",
       "      <td>1.736990</td>\n",
       "      <td>0.183031</td>\n",
       "      <td>0.195537</td>\n",
       "      <td>1.352314</td>\n",
       "      <td>0.049377</td>\n",
       "      <td>10.447270</td>\n",
       "      <td>33.408946</td>\n",
       "      <td>0.001869</td>\n",
       "      <td>0.155036</td>\n",
       "      <td>0.170667</td>\n",
       "      <td>1.082065</td>\n",
       "      <td>0.342270</td>\n",
       "    </tr>\n",
       "    <tr>\n",
       "      <th>min</th>\n",
       "      <td>4.600000</td>\n",
       "      <td>0.120000</td>\n",
       "      <td>0.000000</td>\n",
       "      <td>0.900000</td>\n",
       "      <td>0.012000</td>\n",
       "      <td>1.000000</td>\n",
       "      <td>6.000000</td>\n",
       "      <td>0.990070</td>\n",
       "      <td>2.740000</td>\n",
       "      <td>0.330000</td>\n",
       "      <td>8.400000</td>\n",
       "      <td>0.000000</td>\n",
       "    </tr>\n",
       "    <tr>\n",
       "      <th>25%</th>\n",
       "      <td>7.100000</td>\n",
       "      <td>0.390000</td>\n",
       "      <td>0.090000</td>\n",
       "      <td>1.900000</td>\n",
       "      <td>0.070000</td>\n",
       "      <td>7.000000</td>\n",
       "      <td>22.000000</td>\n",
       "      <td>0.995600</td>\n",
       "      <td>3.210000</td>\n",
       "      <td>0.550000</td>\n",
       "      <td>9.500000</td>\n",
       "      <td>0.000000</td>\n",
       "    </tr>\n",
       "    <tr>\n",
       "      <th>50%</th>\n",
       "      <td>7.900000</td>\n",
       "      <td>0.520000</td>\n",
       "      <td>0.260000</td>\n",
       "      <td>2.200000</td>\n",
       "      <td>0.079000</td>\n",
       "      <td>14.000000</td>\n",
       "      <td>38.000000</td>\n",
       "      <td>0.996700</td>\n",
       "      <td>3.310000</td>\n",
       "      <td>0.620000</td>\n",
       "      <td>10.200000</td>\n",
       "      <td>0.000000</td>\n",
       "    </tr>\n",
       "    <tr>\n",
       "      <th>75%</th>\n",
       "      <td>9.200000</td>\n",
       "      <td>0.640000</td>\n",
       "      <td>0.430000</td>\n",
       "      <td>2.600000</td>\n",
       "      <td>0.091000</td>\n",
       "      <td>21.000000</td>\n",
       "      <td>63.000000</td>\n",
       "      <td>0.997820</td>\n",
       "      <td>3.400000</td>\n",
       "      <td>0.730000</td>\n",
       "      <td>11.100000</td>\n",
       "      <td>0.000000</td>\n",
       "    </tr>\n",
       "    <tr>\n",
       "      <th>max</th>\n",
       "      <td>15.900000</td>\n",
       "      <td>1.580000</td>\n",
       "      <td>1.000000</td>\n",
       "      <td>15.500000</td>\n",
       "      <td>0.611000</td>\n",
       "      <td>72.000000</td>\n",
       "      <td>289.000000</td>\n",
       "      <td>1.003690</td>\n",
       "      <td>4.010000</td>\n",
       "      <td>2.000000</td>\n",
       "      <td>14.900000</td>\n",
       "      <td>1.000000</td>\n",
       "    </tr>\n",
       "  </tbody>\n",
       "</table>\n",
       "</div>"
      ],
      "text/plain": [
       "       fixed acidity  volatile acidity  citric acid  residual sugar  \\\n",
       "count    1359.000000       1359.000000  1359.000000     1359.000000   \n",
       "mean        8.310596          0.529478     0.272333        2.523400   \n",
       "std         1.736990          0.183031     0.195537        1.352314   \n",
       "min         4.600000          0.120000     0.000000        0.900000   \n",
       "25%         7.100000          0.390000     0.090000        1.900000   \n",
       "50%         7.900000          0.520000     0.260000        2.200000   \n",
       "75%         9.200000          0.640000     0.430000        2.600000   \n",
       "max        15.900000          1.580000     1.000000       15.500000   \n",
       "\n",
       "         chlorides  free sulfur dioxide  total sulfur dioxide      density  \\\n",
       "count  1359.000000          1359.000000           1359.000000  1359.000000   \n",
       "mean      0.088124            15.893304             46.825975     0.996709   \n",
       "std       0.049377            10.447270             33.408946     0.001869   \n",
       "min       0.012000             1.000000              6.000000     0.990070   \n",
       "25%       0.070000             7.000000             22.000000     0.995600   \n",
       "50%       0.079000            14.000000             38.000000     0.996700   \n",
       "75%       0.091000            21.000000             63.000000     0.997820   \n",
       "max       0.611000            72.000000            289.000000     1.003690   \n",
       "\n",
       "                pH    sulphates      alcohol      quality  \n",
       "count  1359.000000  1359.000000  1359.000000  1359.000000  \n",
       "mean      3.309787     0.658705    10.432315     0.135394  \n",
       "std       0.155036     0.170667     1.082065     0.342270  \n",
       "min       2.740000     0.330000     8.400000     0.000000  \n",
       "25%       3.210000     0.550000     9.500000     0.000000  \n",
       "50%       3.310000     0.620000    10.200000     0.000000  \n",
       "75%       3.400000     0.730000    11.100000     0.000000  \n",
       "max       4.010000     2.000000    14.900000     1.000000  "
      ]
     },
     "execution_count": 24,
     "metadata": {},
     "output_type": "execute_result"
    }
   ],
   "source": [
    "df.describe()"
   ]
  },
  {
   "cell_type": "markdown",
   "id": "5b65e565",
   "metadata": {},
   "source": [
    "1. Element count of all the columns are same. Hence no null/Nan values are present inside the dataframe."
   ]
  },
  {
   "cell_type": "markdown",
   "id": "62658ade",
   "metadata": {},
   "source": [
    "Univarite analysis"
   ]
  },
  {
   "cell_type": "code",
   "execution_count": 27,
   "id": "40f11b0f",
   "metadata": {},
   "outputs": [
    {
     "name": "stdout",
     "output_type": "stream",
     "text": [
      "0    1175\n",
      "1     184\n",
      "Name: quality, dtype: int64\n"
     ]
    },
    {
     "data": {
      "image/png": "[encoded data removed]",
      "text/plain": [
       "<Figure size 432x288 with 1 Axes>"
      ]
     },
     "metadata": {
      "needs_background": "light"
     },
     "output_type": "display_data"
    }
   ],
   "source": [
    "#Target (Quality) column \n",
    "ax=sns.countplot(x='quality',data=df)\n",
    "print(df['quality'].value_counts())"
   ]
  },
  {
   "cell_type": "markdown",
   "id": "363c79e4",
   "metadata": {},
   "source": [
    "There is high discrepancy in the outcome of the quality. Hence oversampling is required."
   ]
  },
  {
   "cell_type": "code",
   "execution_count": 28,
   "id": "c25cebf3",
   "metadata": {},
   "outputs": [
    {
     "data": {
      "image/png": "[encoded data removed]",
      "text/plain": [
       "<Figure size 432x288 with 1 Axes>"
      ]
     },
     "metadata": {
      "needs_background": "light"
     },
     "output_type": "display_data"
    },
    {
     "data": {
      "image/png": "[encoded data removed]",
      "text/plain": [
       "<Figure size 432x288 with 1 Axes>"
      ]
     },
     "metadata": {
      "needs_background": "light"
     },
     "output_type": "display_data"
    },
    {
     "data": {
      "image/png": "[encoded data removed]",
      "text/plain": [
       "<Figure size 432x288 with 1 Axes>"
      ]
     },
     "metadata": {
      "needs_background": "light"
     },
     "output_type": "display_data"
    },
    {
     "data": {
      "image/png": "[encoded data removed]",
      "text/plain": [
       "<Figure size 432x288 with 1 Axes>"
      ]
     },
     "metadata": {
      "needs_background": "light"
     },
     "output_type": "display_data"
    },
    {
     "data": {
      "image/png": "[encoded data removed]",
      "text/plain": [
       "<Figure size 432x288 with 1 Axes>"
      ]
     },
     "metadata": {
      "needs_background": "light"
     },
     "output_type": "display_data"
    },
    {
     "data": {
      "image/png": "[encoded data removed]",
      "text/plain": [
       "<Figure size 432x288 with 1 Axes>"
      ]
     },
     "metadata": {
      "needs_background": "light"
     },
     "output_type": "display_data"
    },
    {
     "data": {
      "image/png": "[encoded data removed]",
      "text/plain": [
       "<Figure size 432x288 with 1 Axes>"
      ]
     },
     "metadata": {
      "needs_background": "light"
     },
     "output_type": "display_data"
    },
    {
     "data": {
      "image/png": "[encoded data removed]",
      "text/plain": [
       "<Figure size 432x288 with 1 Axes>"
      ]
     },
     "metadata": {
      "needs_background": "light"
     },
     "output_type": "display_data"
    },
    {
     "data": {
      "image/png": "[encoded data removed]",
      "text/plain": [
       "<Figure size 432x288 with 1 Axes>"
      ]
     },
     "metadata": {
      "needs_background": "light"
     },
     "output_type": "display_data"
    },
    {
     "data": {
      "image/png": "[encoded data removed]",
      "text/plain": [
       "<Figure size 432x288 with 1 Axes>"
      ]
     },
     "metadata": {
      "needs_background": "light"
     },
     "output_type": "display_data"
    },
    {
     "data": {
      "image/png": "[encoded data removed]",
      "text/plain": [
       "<Figure size 432x288 with 1 Axes>"
      ]
     },
     "metadata": {
      "needs_background": "light"
     },
     "output_type": "display_data"
    }
   ],
   "source": [
    "#Visual observation\n",
    "for label in df.columns[:-1]:\n",
    "    plt.hist(df[df['quality'] == 1] [label], color = 'blue', label = 'Good Quality', alpha =0.7 , density = True)\n",
    "    plt.hist(df[df['quality'] == 0] [label], color ='red', label = 'Not good quality', alpha = 0.7, density = True)\n",
    "    plt.title(label)\n",
    "    plt.xlabel(label)\n",
    "    plt.ylabel('Outcome')\n",
    "    plt.legend()\n",
    "    plt.show()"
   ]
  },
  {
   "cell_type": "markdown",
   "id": "22770bcf",
   "metadata": {},
   "source": [
    "Observations:\n",
    "1. Low volatile acidity generally makes good wine quality.\n",
    "2. Citric acid quantity ranging from 0.3 to 0.7 has higher chance of creating good wine.\n",
    "3. Residual sugar quantity ranging 1-2 creats good wine on most cases.\n",
    "4. Very hard to judje the quality of wine on the basis of chlorides only.\n",
    "5. Free sulfur dioxide & total sulfur dioxide with less quantity generally creates better quality wine.\n",
    "6. Low density has higher chances of good wine quality.\n",
    "7. Very hard to predict the wine quality only on pH values.\n",
    "8. Likelihood of producing not good quality wine is higher with low sulphates.\n",
    "9. Simlilarly with low quantity of alcohol wine quality is inferior"
   ]
  },
  {
   "cell_type": "code",
   "execution_count": 29,
   "id": "5afc4ac7",
   "metadata": {},
   "outputs": [
    {
     "data": {
      "image/png": "[encoded data removed]",
      "text/plain": [
       "<Figure size 432x288 with 11 Axes>"
      ]
     },
     "metadata": {
      "needs_background": "light"
     },
     "output_type": "display_data"
    }
   ],
   "source": [
    "#Checking outliers in data\n",
    "\n",
    "plotn=1\n",
    "for label in df.columns[:-1]:\n",
    "  if plotn<=11:\n",
    "    ax=plt.subplot(4,4,plotn)\n",
    "    sns.boxplot(df[label],palette='Set2_r')\n",
    "    plt.xlabel(label)\n",
    "    plt.yticks(rotation=0,fontsize=10)\n",
    "    plotn+=1\n",
    "plt.tight_layout()"
   ]
  },
  {
   "cell_type": "markdown",
   "id": "22d465b2",
   "metadata": {},
   "source": [
    "Need to find and remove the outliers from the data to improve accuracy of the model."
   ]
  },
  {
   "cell_type": "markdown",
   "id": "d47d2934",
   "metadata": {},
   "source": [
    "Removing Outliers using IQR method"
   ]
  },
  {
   "cell_type": "code",
   "execution_count": 30,
   "id": "5ff63907",
   "metadata": {},
   "outputs": [
    {
     "name": "stdout",
     "output_type": "stream",
     "text": [
      "New Shape:  (1318, 12)\n"
     ]
    }
   ],
   "source": [
    "#Fixed acidity\n",
    "\n",
    "Q1 = np.percentile(df['fixed acidity'], 25, interpolation='midpoint')\n",
    "Q3 = np.percentile(df['fixed acidity'], 75, interpolation='midpoint')\n",
    "IQR = Q3 - Q1\n",
    "\n",
    "# Define upper and lower bounds\n",
    "upper = Q3 + 1.5*IQR\n",
    "lower = Q1 - 1.5*IQR\n",
    "\n",
    "# Loop through DataFrame and remove outliers\n",
    "for idx, val in df['fixed acidity'].iteritems():\n",
    "    if val > upper or val < lower:\n",
    "        df.drop(idx, inplace=True)\n",
    "\n",
    "# Print new shape of DataFrame\n",
    "print(\"New Shape: \", df.shape)"
   ]
  },
  {
   "cell_type": "code",
   "execution_count": 31,
   "id": "388c5ccc",
   "metadata": {},
   "outputs": [
    {
     "data": {
      "text/plain": [
       "(array([0]), [Text(0, 0, '')])"
      ]
     },
     "execution_count": 31,
     "metadata": {},
     "output_type": "execute_result"
    },
    {
     "data": {
      "image/png": "[encoded data removed]",
      "text/plain": [
       "<Figure size 432x288 with 1 Axes>"
      ]
     },
     "metadata": {
      "needs_background": "light"
     },
     "output_type": "display_data"
    }
   ],
   "source": [
    "# re-examining the outliers of fixed acidity\n",
    "sns.boxplot(df['fixed acidity'],palette='Set2_r')\n",
    "plt.xlabel= 'fixed acidity'\n",
    "plt.yticks(rotation=0,fontsize=10)"
   ]
  },
  {
   "cell_type": "markdown",
   "id": "ca3f7c5b",
   "metadata": {},
   "source": [
    "To avoid overfitting, not removing new outliers from Fixed acidity found in new remaining data points."
   ]
  },
  {
   "cell_type": "code",
   "execution_count": 32,
   "id": "825a3666",
   "metadata": {},
   "outputs": [
    {
     "name": "stdout",
     "output_type": "stream",
     "text": [
      "New Shape:  (1299, 12)\n"
     ]
    }
   ],
   "source": [
    "#Volatile acidity\n",
    "\n",
    "Q1 = np.percentile(df['volatile acidity'], 25, interpolation='midpoint')\n",
    "Q3 = np.percentile(df['volatile acidity'], 75, interpolation='midpoint')\n",
    "IQR = Q3 - Q1\n",
    "\n",
    "# Define upper and lower bounds\n",
    "upper = Q3 + 1.5*IQR\n",
    "lower = Q1 - 1.5*IQR\n",
    "\n",
    "# Loop through DataFrame and remove outliers\n",
    "for idx, val in df['volatile acidity'].iteritems():\n",
    "    if val > upper or val < lower:\n",
    "        df.drop(idx, inplace=True)\n",
    "\n",
    "# Print new shape of DataFrame\n",
    "print(\"New Shape: \", df.shape)"
   ]
  },
  {
   "cell_type": "code",
   "execution_count": 33,
   "id": "7ad07dbe",
   "metadata": {},
   "outputs": [
    {
     "data": {
      "text/plain": [
       "(array([0]), [Text(0, 0, '')])"
      ]
     },
     "execution_count": 33,
     "metadata": {},
     "output_type": "execute_result"
    },
    {
     "data": {
      "image/png": "[encoded data removed]",
      "text/plain": [
       "<Figure size 432x288 with 1 Axes>"
      ]
     },
     "metadata": {
      "needs_background": "light"
     },
     "output_type": "display_data"
    }
   ],
   "source": [
    "# re-examining the outliers of volatile acidity\n",
    "sns.boxplot(df['volatile acidity'],palette='Set2_r')\n",
    "plt.xlabel= 'volatile acidity'\n",
    "plt.yticks(rotation=0,fontsize=10)"
   ]
  },
  {
   "cell_type": "markdown",
   "id": "98628834",
   "metadata": {},
   "source": [
    "No outlier found in volatile acidity now."
   ]
  },
  {
   "cell_type": "code",
   "execution_count": 34,
   "id": "de839157",
   "metadata": {},
   "outputs": [
    {
     "name": "stdout",
     "output_type": "stream",
     "text": [
      "New Shape:  (1298, 12)\n"
     ]
    }
   ],
   "source": [
    "#for citric acid\n",
    "Q1 = np.percentile(df['citric acid'], 25, interpolation='midpoint')\n",
    "Q3 = np.percentile(df['citric acid'], 75, interpolation='midpoint')\n",
    "IQR = Q3 - Q1\n",
    "\n",
    "# Define upper and lower bounds\n",
    "upper = Q3 + 1.5*IQR\n",
    "lower = Q1 - 1.5*IQR\n",
    "\n",
    "# Loop through DataFrame and remove outliers\n",
    "for idx, val in df['citric acid'].iteritems():\n",
    "    if val > upper or val < lower:\n",
    "        df.drop(idx, inplace=True)\n",
    "\n",
    "# Print new shape of DataFrame\n",
    "print(\"New Shape: \", df.shape)"
   ]
  },
  {
   "cell_type": "code",
   "execution_count": 35,
   "id": "257d8a00",
   "metadata": {},
   "outputs": [
    {
     "data": {
      "text/plain": [
       "(array([0]), [Text(0, 0, '')])"
      ]
     },
     "execution_count": 35,
     "metadata": {},
     "output_type": "execute_result"
    },
    {
     "data": {
      "image/png": "[encoded data removed]",
      "text/plain": [
       "<Figure size 432x288 with 1 Axes>"
      ]
     },
     "metadata": {
      "needs_background": "light"
     },
     "output_type": "display_data"
    }
   ],
   "source": [
    "# re-examining the outliers of citric acid\n",
    "sns.boxplot(df['citric acid'],palette='Set2_r')\n",
    "plt.xlabel= 'Citric acid'\n",
    "plt.yticks(rotation=0,fontsize=10)"
   ]
  },
  {
   "cell_type": "markdown",
   "id": "23c00c03",
   "metadata": {},
   "source": [
    "No outlier found in citric acid data now."
   ]
  },
  {
   "cell_type": "code",
   "execution_count": 36,
   "id": "d6de4dbb",
   "metadata": {},
   "outputs": [
    {
     "name": "stdout",
     "output_type": "stream",
     "text": [
      "New Shape:  (1186, 12)\n"
     ]
    }
   ],
   "source": [
    "# for residual sugar\n",
    "Q1 = np.percentile(df['residual sugar'], 25, interpolation='midpoint')\n",
    "Q3 = np.percentile(df['residual sugar'], 75, interpolation='midpoint')\n",
    "IQR = Q3 - Q1\n",
    "\n",
    "# Define upper and lower bounds\n",
    "upper = Q3 + 1.5*IQR\n",
    "lower = Q1 - 1.5*IQR\n",
    "\n",
    "# Loop through DataFrame and remove outliers\n",
    "for idx, val in df['residual sugar'].iteritems():\n",
    "    if val > upper or val < lower:\n",
    "        df.drop(idx, inplace=True)\n",
    "\n",
    "# Print new shape of DataFrame\n",
    "print(\"New Shape: \", df.shape)"
   ]
  },
  {
   "cell_type": "code",
   "execution_count": 37,
   "id": "6173dda0",
   "metadata": {},
   "outputs": [
    {
     "data": {
      "text/plain": [
       "(array([0]), [Text(0, 0, '')])"
      ]
     },
     "execution_count": 37,
     "metadata": {},
     "output_type": "execute_result"
    },
    {
     "data": {
      "image/png": "[encoded data removed]",
      "text/plain": [
       "<Figure size 432x288 with 1 Axes>"
      ]
     },
     "metadata": {
      "needs_background": "light"
     },
     "output_type": "display_data"
    }
   ],
   "source": [
    "# re-examining the outliers of residual sugar\n",
    "sns.boxplot(df['residual sugar'],palette='Set2_r')\n",
    "plt.xlabel= 'residual sugar'\n",
    "plt.yticks(rotation=0,fontsize=10)"
   ]
  },
  {
   "cell_type": "markdown",
   "id": "8038886a",
   "metadata": {},
   "source": [
    "Still outliers found in the data. Examining the unique values in the residual sugar data to determine whether to remove outliers again."
   ]
  },
  {
   "cell_type": "code",
   "execution_count": 38,
   "id": "fb7bb5db",
   "metadata": {},
   "outputs": [
    {
     "data": {
      "text/plain": [
       "array([1.9 , 2.6 , 2.3 , 1.8 , 1.6 , 1.2 , 2.  , 1.7 , 2.4 , 1.4 , 2.5 ,\n",
       "       2.1 , 2.8 , 2.2 , 3.  , 3.4 , 1.5 , 1.3 , 2.9 , 2.7 , 3.1 , 3.2 ,\n",
       "       3.3 , 3.6 , 3.5 , 3.65, 2.95, 2.15, 2.55, 2.25, 2.85, 3.45, 2.35,\n",
       "       2.65, 1.65, 2.05, 0.9 , 1.75])"
      ]
     },
     "execution_count": 38,
     "metadata": {},
     "output_type": "execute_result"
    }
   ],
   "source": [
    "df['residual sugar'].unique()"
   ]
  },
  {
   "cell_type": "markdown",
   "id": "d114694a",
   "metadata": {},
   "source": [
    "Concluding to not remove outliers anymore from residual sugar data."
   ]
  },
  {
   "cell_type": "code",
   "execution_count": 39,
   "id": "a1a1c8e4",
   "metadata": {},
   "outputs": [],
   "source": [
    "#for clorides\n",
    "Q1 = np.percentile(df['chlorides'], 25, interpolation='midpoint')\n",
    "Q3 = np.percentile(df['chlorides'], 75, interpolation='midpoint')\n",
    "IQR = Q3 - Q1\n",
    "\n",
    "# Define upper and lower bounds\n",
    "upper = Q3 + 1.5*IQR\n",
    "lower = Q1 - 1.5*IQR\n",
    "\n",
    "# Loop through DataFrame and remove outliers\n",
    "for idx, val in df['chlorides'].iteritems():\n",
    "    if val > upper or val < lower:\n",
    "        df.drop(idx, inplace=True)"
   ]
  },
  {
   "cell_type": "code",
   "execution_count": 40,
   "id": "e1ccf15f",
   "metadata": {},
   "outputs": [
    {
     "data": {
      "text/plain": [
       "(1113, 12)"
      ]
     },
     "execution_count": 40,
     "metadata": {},
     "output_type": "execute_result"
    }
   ],
   "source": [
    "df.shape"
   ]
  },
  {
   "cell_type": "code",
   "execution_count": 41,
   "id": "2fceacfd",
   "metadata": {},
   "outputs": [
    {
     "data": {
      "text/plain": [
       "(array([0]), [Text(0, 0, '')])"
      ]
     },
     "execution_count": 41,
     "metadata": {},
     "output_type": "execute_result"
    },
    {
     "data": {
      "image/png": "[encoded data removed]",
      "text/plain": [
       "<Figure size 432x288 with 1 Axes>"
      ]
     },
     "metadata": {
      "needs_background": "light"
     },
     "output_type": "display_data"
    }
   ],
   "source": [
    "# re-examining the outliers of chlorides\n",
    "sns.boxplot(df['chlorides'],palette='Set2_r')\n",
    "plt.xlabel= 'Chlorides'\n",
    "plt.yticks(rotation=0,fontsize=10)"
   ]
  },
  {
   "cell_type": "markdown",
   "id": "4d6e8318",
   "metadata": {},
   "source": [
    "Still outliers found in the data. Examining the unique values in the chlorides data to determine whether to remove outliers again."
   ]
  },
  {
   "cell_type": "code",
   "execution_count": 42,
   "id": "4fa1e533",
   "metadata": {},
   "outputs": [
    {
     "data": {
      "text/plain": [
       "array([0.076, 0.098, 0.092, 0.075, 0.069, 0.065, 0.073, 0.097, 0.089,\n",
       "       0.114, 0.077, 0.082, 0.106, 0.084, 0.085, 0.08 , 0.105, 0.083,\n",
       "       0.103, 0.086, 0.066, 0.088, 0.05 , 0.054, 0.113, 0.074, 0.068,\n",
       "       0.081, 0.11 , 0.07 , 0.079, 0.115, 0.094, 0.093, 0.104, 0.062,\n",
       "       0.107, 0.058, 0.102, 0.091, 0.09 , 0.119, 0.072, 0.118, 0.049,\n",
       "       0.06 , 0.117, 0.087, 0.095, 0.1  , 0.067, 0.111, 0.071, 0.046,\n",
       "       0.056, 0.039, 0.059, 0.101, 0.057, 0.078, 0.063, 0.096, 0.112,\n",
       "       0.121, 0.061, 0.052, 0.116, 0.109, 0.099, 0.045, 0.064, 0.047,\n",
       "       0.053, 0.055, 0.108, 0.038, 0.044, 0.041, 0.048, 0.12 , 0.043,\n",
       "       0.042])"
      ]
     },
     "execution_count": 42,
     "metadata": {},
     "output_type": "execute_result"
    }
   ],
   "source": [
    "df['chlorides'].unique()"
   ]
  },
  {
   "cell_type": "markdown",
   "id": "d2175376",
   "metadata": {},
   "source": [
    "Removing outliers again from the new remaining data points"
   ]
  },
  {
   "cell_type": "code",
   "execution_count": 43,
   "id": "75a4a4f7",
   "metadata": {},
   "outputs": [],
   "source": [
    "Q1 = np.percentile(df['chlorides'], 25, interpolation='midpoint')\n",
    "Q3 = np.percentile(df['chlorides'], 75, interpolation='midpoint')\n",
    "IQR = Q3 - Q1\n",
    "\n",
    "# Define upper and lower bounds\n",
    "upper = Q3 + 1.5*IQR\n",
    "lower = Q1 - 1.5*IQR\n",
    "\n",
    "# Loop through DataFrame and remove outliers\n",
    "for idx, val in df['chlorides'].iteritems():\n",
    "    if val > upper or val < lower:\n",
    "        df.drop(idx, inplace=True)"
   ]
  },
  {
   "cell_type": "code",
   "execution_count": 44,
   "id": "e8a26fdd",
   "metadata": {},
   "outputs": [
    {
     "data": {
      "text/plain": [
       "(array([0]), [Text(0, 0, '')])"
      ]
     },
     "execution_count": 44,
     "metadata": {},
     "output_type": "execute_result"
    },
    {
     "data": {
      "image/png": "[encoded data removed]",
      "text/plain": [
       "<Figure size 432x288 with 1 Axes>"
      ]
     },
     "metadata": {
      "needs_background": "light"
     },
     "output_type": "display_data"
    }
   ],
   "source": [
    "# re-examining the outliers of chlorides\n",
    "sns.boxplot(df['chlorides'],palette='Set2_r')\n",
    "plt.xlabel= 'Chlorides'\n",
    "plt.yticks(rotation=0,fontsize=10)"
   ]
  },
  {
   "cell_type": "markdown",
   "id": "cf92d96c",
   "metadata": {},
   "source": [
    "No outlier found in remaining data."
   ]
  },
  {
   "cell_type": "code",
   "execution_count": 45,
   "id": "16643063",
   "metadata": {},
   "outputs": [
    {
     "data": {
      "text/plain": [
       "(1094, 12)"
      ]
     },
     "execution_count": 45,
     "metadata": {},
     "output_type": "execute_result"
    }
   ],
   "source": [
    "#checking new shape of dataframe\n",
    "df.shape"
   ]
  },
  {
   "cell_type": "code",
   "execution_count": 46,
   "id": "0f5c5769",
   "metadata": {},
   "outputs": [],
   "source": [
    "#for free sulfur dioxide\n",
    "Q1 = np.percentile(df['free sulfur dioxide'], 25, interpolation='midpoint')\n",
    "Q3 = np.percentile(df['free sulfur dioxide'], 75, interpolation='midpoint')\n",
    "IQR = Q3 - Q1\n",
    "\n",
    "# Define upper and lower bounds\n",
    "upper = Q3 + 1.5*IQR\n",
    "lower = Q1 - 1.5*IQR\n",
    "\n",
    "# Loop through DataFrame and remove outliers\n",
    "for idx, val in df['free sulfur dioxide'].iteritems():\n",
    "    if val > upper or val < lower:\n",
    "        df.drop(idx, inplace=True)"
   ]
  },
  {
   "cell_type": "code",
   "execution_count": 47,
   "id": "4403d79c",
   "metadata": {},
   "outputs": [
    {
     "data": {
      "text/plain": [
       "(array([0]), [Text(0, 0, '')])"
      ]
     },
     "execution_count": 47,
     "metadata": {},
     "output_type": "execute_result"
    },
    {
     "data": {
      "image/png": "[encoded data removed]",
      "text/plain": [
       "<Figure size 432x288 with 1 Axes>"
      ]
     },
     "metadata": {
      "needs_background": "light"
     },
     "output_type": "display_data"
    }
   ],
   "source": [
    "# re-examining the outliers of free sulfur dioxide\n",
    "sns.boxplot(df['free sulfur dioxide'],palette='Set2_r')\n",
    "plt.xlabel= 'free sulfur dioxide'\n",
    "plt.yticks(rotation=0,fontsize=10)"
   ]
  },
  {
   "cell_type": "markdown",
   "id": "d0fcf2d6",
   "metadata": {},
   "source": [
    "No outlier found in remaining data (free sulfur dioxide)"
   ]
  },
  {
   "cell_type": "code",
   "execution_count": 48,
   "id": "5aed940d",
   "metadata": {},
   "outputs": [],
   "source": [
    "#for total sulfur dioxide\n",
    "Q1 = np.percentile(df['total sulfur dioxide'], 25, interpolation='midpoint')\n",
    "Q3 = np.percentile(df['total sulfur dioxide'], 75, interpolation='midpoint')\n",
    "IQR = Q3 - Q1\n",
    "\n",
    "# Define upper and lower bounds\n",
    "upper = Q3 + 1.5*IQR\n",
    "lower = Q1 - 1.5*IQR\n",
    "\n",
    "# Loop through DataFrame and remove outliers\n",
    "for idx, val in df['total sulfur dioxide'].iteritems():\n",
    "    if val > upper or val < lower:\n",
    "        df.drop(idx, inplace=True)"
   ]
  },
  {
   "cell_type": "code",
   "execution_count": 49,
   "id": "d1e5451f",
   "metadata": {},
   "outputs": [
    {
     "data": {
      "text/plain": [
       "(array([0]), [Text(0, 0, '')])"
      ]
     },
     "execution_count": 49,
     "metadata": {},
     "output_type": "execute_result"
    },
    {
     "data": {
      "image/png": "[encoded data removed]",
      "text/plain": [
       "<Figure size 432x288 with 1 Axes>"
      ]
     },
     "metadata": {
      "needs_background": "light"
     },
     "output_type": "display_data"
    }
   ],
   "source": [
    "# re-examining the outliers of total sulfur dioxide\n",
    "sns.boxplot(df['total sulfur dioxide'],palette='Set2_r')\n",
    "plt.xlabel= 'total sulfur dioxide'\n",
    "plt.yticks(rotation=0,fontsize=10)"
   ]
  },
  {
   "cell_type": "markdown",
   "id": "1b8f94c1",
   "metadata": {},
   "source": [
    "Still outliers found in the data. Examining the unique values in the chlorides data to determine whether to remove outliers again."
   ]
  },
  {
   "cell_type": "code",
   "execution_count": 50,
   "id": "02a9652b",
   "metadata": {},
   "outputs": [
    {
     "data": {
      "text/plain": [
       "array([ 34.,  67.,  54.,  60.,  40.,  59.,  21.,  18.,  65.,  29., 103.,\n",
       "        71.,  37.,  23.,  11.,  35.,  16.,  82., 113.,  50.,  15.,  30.,\n",
       "        46.,  12.,  96.,  14.,  73.,  10.,  52., 112.,  39.,  19.,  27.,\n",
       "        94.,  43.,  83.,  42.,  80.,  61.,  31.,  24., 106.,  22.,  36.,\n",
       "        64.,  47., 108., 111.,  62.,  28.,  89.,  13., 102.,  99.,  26.,\n",
       "        63.,  45., 105.,  20.,  86., 101.,  44.,   8.,  49.,  38.,  85.,\n",
       "        55.,  93.,  95.,  41.,  58.,  72., 109.,  51.,  56.,  33.,  53.,\n",
       "        98.,  48.,  70.,  90.,  25.,  92.,  74.,  87.,  32.,  81.,  88.,\n",
       "        78.,  77.,  66.,  17., 110.,  75.,  57., 104.,  84.,  68.,   7.,\n",
       "         9.,   6.,  79.,  69.,  91., 100.])"
      ]
     },
     "execution_count": 50,
     "metadata": {},
     "output_type": "execute_result"
    }
   ],
   "source": [
    "df['total sulfur dioxide'].unique()"
   ]
  },
  {
   "cell_type": "markdown",
   "id": "7883a3f3",
   "metadata": {},
   "source": [
    "To avoid overfitting, not removing new outliers from 'total sulfur dioxide' found in new remaining data points."
   ]
  },
  {
   "cell_type": "code",
   "execution_count": 51,
   "id": "34f5db32",
   "metadata": {},
   "outputs": [],
   "source": [
    "#for density\n",
    "Q1 = np.percentile(df['density'], 25, interpolation='midpoint')\n",
    "Q3 = np.percentile(df['density'], 75, interpolation='midpoint')\n",
    "IQR = Q3 - Q1\n",
    "\n",
    "# Define upper and lower bounds\n",
    "upper = Q3 + 1.5*IQR\n",
    "lower = Q1 - 1.5*IQR\n",
    "\n",
    "# Loop through DataFrame and remove outliers\n",
    "for idx, val in df['density'].iteritems():\n",
    "    if val > upper or val < lower:\n",
    "        df.drop(idx, inplace=True)"
   ]
  },
  {
   "cell_type": "code",
   "execution_count": 52,
   "id": "b7c52da7",
   "metadata": {},
   "outputs": [
    {
     "data": {
      "text/plain": [
       "(array([0]), [Text(0, 0, '')])"
      ]
     },
     "execution_count": 52,
     "metadata": {},
     "output_type": "execute_result"
    },
    {
     "data": {
      "image/png": "[encoded data removed]",
      "text/plain": [
       "<Figure size 432x288 with 1 Axes>"
      ]
     },
     "metadata": {
      "needs_background": "light"
     },
     "output_type": "display_data"
    }
   ],
   "source": [
    "# re-examining the outliers of density\n",
    "sns.boxplot(df['density'],palette='Set2_r')\n",
    "plt.xlabel= 'density'\n",
    "plt.yticks(rotation=0,fontsize=10)"
   ]
  },
  {
   "cell_type": "markdown",
   "id": "f626b7bc",
   "metadata": {},
   "source": [
    "To avoid overfitting, not removing new outliers from 'density' found in new remaining data points."
   ]
  },
  {
   "cell_type": "code",
   "execution_count": 53,
   "id": "ffb4d65d",
   "metadata": {},
   "outputs": [],
   "source": [
    "#for pH\n",
    "Q1 = np.percentile(df['pH'], 25, interpolation='midpoint')\n",
    "Q3 = np.percentile(df['pH'], 75, interpolation='midpoint')\n",
    "IQR = Q3 - Q1\n",
    "\n",
    "# Define upper and lower bounds\n",
    "upper = Q3 + 1.5*IQR\n",
    "lower = Q1 - 1.5*IQR\n",
    "\n",
    "# Loop through DataFrame and remove outliers\n",
    "for idx, val in df['pH'].iteritems():\n",
    "    if val > upper or val < lower:\n",
    "        df.drop(idx, inplace=True)"
   ]
  },
  {
   "cell_type": "code",
   "execution_count": 54,
   "id": "4f1aa8c1",
   "metadata": {},
   "outputs": [
    {
     "data": {
      "text/plain": [
       "(array([0]), [Text(0, 0, '')])"
      ]
     },
     "execution_count": 54,
     "metadata": {},
     "output_type": "execute_result"
    },
    {
     "data": {
      "image/png": "[encoded data removed]",
      "text/plain": [
       "<Figure size 432x288 with 1 Axes>"
      ]
     },
     "metadata": {
      "needs_background": "light"
     },
     "output_type": "display_data"
    }
   ],
   "source": [
    "# re-examining the outliers of pH\n",
    "sns.boxplot(df['pH'],palette='Set2_r')\n",
    "plt.xlabel= 'pH'\n",
    "plt.yticks(rotation=0,fontsize=10)"
   ]
  },
  {
   "cell_type": "markdown",
   "id": "4f1a1c1a",
   "metadata": {},
   "source": [
    "Still outliers found in the data. Examining the unique values in the chlorides data to determine whether to remove outliers again."
   ]
  },
  {
   "cell_type": "code",
   "execution_count": 55,
   "id": "8bba3dd2",
   "metadata": {},
   "outputs": [
    {
     "data": {
      "text/plain": [
       "array([3.51, 3.2 , 3.26, 3.16, 3.3 , 3.39, 3.36, 3.28, 3.58, 3.52, 3.17,\n",
       "       3.43, 3.34, 3.47, 3.38, 3.35, 3.46, 3.42, 3.23, 3.48, 3.25, 3.32,\n",
       "       3.15, 3.4 , 3.04, 3.41, 3.44, 3.21, 3.31, 3.54, 3.45, 3.29, 3.33,\n",
       "       3.37, 3.19, 3.07, 3.49, 3.63, 3.53, 3.59, 3.57, 3.11, 3.22, 3.24,\n",
       "       3.14, 3.08, 3.61, 3.6 , 3.12, 3.1 , 3.05, 3.67, 3.68, 3.27, 3.18,\n",
       "       3.13, 3.55, 3.56, 3.62, 3.  , 3.06, 3.5 , 2.98, 3.09, 3.03, 3.66,\n",
       "       3.02])"
      ]
     },
     "execution_count": 55,
     "metadata": {},
     "output_type": "execute_result"
    }
   ],
   "source": [
    "df['pH'].unique()"
   ]
  },
  {
   "cell_type": "markdown",
   "id": "0a6d2f8d",
   "metadata": {},
   "source": [
    "To avoid overfitting, not removing new outliers from 'pH' found in new remaining data points."
   ]
  },
  {
   "cell_type": "code",
   "execution_count": 56,
   "id": "2919e674",
   "metadata": {},
   "outputs": [
    {
     "data": {
      "text/plain": [
       "(991, 12)"
      ]
     },
     "execution_count": 56,
     "metadata": {},
     "output_type": "execute_result"
    }
   ],
   "source": [
    "#checking the shape of dataframe\n",
    "df.shape"
   ]
  },
  {
   "cell_type": "code",
   "execution_count": 57,
   "id": "0a6df4b4",
   "metadata": {},
   "outputs": [],
   "source": [
    "#for sulphates\n",
    "Q1 = np.percentile(df['sulphates'], 25, interpolation='midpoint')\n",
    "Q3 = np.percentile(df['sulphates'], 75, interpolation='midpoint')\n",
    "IQR = Q3 - Q1\n",
    "\n",
    "# Define upper and lower bounds\n",
    "upper = Q3 + 1.5*IQR\n",
    "lower = Q1 - 1.5*IQR\n",
    "\n",
    "# Loop through DataFrame and remove outliers\n",
    "for idx, val in df['sulphates'].iteritems():\n",
    "    if val > upper or val < lower:\n",
    "        df.drop(idx, inplace=True)"
   ]
  },
  {
   "cell_type": "code",
   "execution_count": 58,
   "id": "2d84c9ff",
   "metadata": {},
   "outputs": [
    {
     "data": {
      "text/plain": [
       "(array([0]), [Text(0, 0, '')])"
      ]
     },
     "execution_count": 58,
     "metadata": {},
     "output_type": "execute_result"
    },
    {
     "data": {
      "image/png": "[encoded data removed]",
      "text/plain": [
       "<Figure size 432x288 with 1 Axes>"
      ]
     },
     "metadata": {
      "needs_background": "light"
     },
     "output_type": "display_data"
    }
   ],
   "source": [
    "# re-examining the outliers of sulphates\n",
    "sns.boxplot(df['sulphates'],palette='Set2_r')\n",
    "plt.xlabel= 'sulphates'\n",
    "plt.yticks(rotation=0,fontsize=10)"
   ]
  },
  {
   "cell_type": "markdown",
   "id": "034cb5fd",
   "metadata": {},
   "source": [
    "To avoid overfitting, not removing new outliers from 'sulphates' found in new remaining data points."
   ]
  },
  {
   "cell_type": "code",
   "execution_count": 59,
   "id": "347d1438",
   "metadata": {},
   "outputs": [],
   "source": [
    "#for alcohol\n",
    "Q1 = np.percentile(df['alcohol'], 25, interpolation='midpoint')\n",
    "Q3 = np.percentile(df['alcohol'], 75, interpolation='midpoint')\n",
    "IQR = Q3 - Q1\n",
    "\n",
    "# Define upper and lower bounds\n",
    "upper = Q3 + 1.5*IQR\n",
    "lower = Q1 - 1.5*IQR\n",
    "\n",
    "# Loop through DataFrame and remove outliers\n",
    "for idx, val in df['alcohol'].iteritems():\n",
    "    if val > upper or val < lower:\n",
    "        df.drop(idx, inplace=True)"
   ]
  },
  {
   "cell_type": "code",
   "execution_count": 60,
   "id": "3fda62f2",
   "metadata": {},
   "outputs": [
    {
     "data": {
      "text/plain": [
       "(array([0]), [Text(0, 0, '')])"
      ]
     },
     "execution_count": 60,
     "metadata": {},
     "output_type": "execute_result"
    },
    {
     "data": {
      "image/png": "[encoded data removed]",
      "text/plain": [
       "<Figure size 432x288 with 1 Axes>"
      ]
     },
     "metadata": {
      "needs_background": "light"
     },
     "output_type": "display_data"
    }
   ],
   "source": [
    "# re-examining the outliers of alcohol\n",
    "sns.boxplot(df['alcohol'],palette='Set2_r')\n",
    "plt.xlabel= 'alcohol'\n",
    "plt.yticks(rotation=0,fontsize=10)"
   ]
  },
  {
   "cell_type": "markdown",
   "id": "ac5664a6",
   "metadata": {},
   "source": [
    "No new outliers found"
   ]
  },
  {
   "cell_type": "code",
   "execution_count": 61,
   "id": "03949348",
   "metadata": {},
   "outputs": [
    {
     "data": {
      "text/plain": [
       "(957, 12)"
      ]
     },
     "execution_count": 61,
     "metadata": {},
     "output_type": "execute_result"
    }
   ],
   "source": [
    "#checking the new shape of dataframe\n",
    "df.shape"
   ]
  },
  {
   "cell_type": "markdown",
   "id": "9a27699c",
   "metadata": {},
   "source": [
    "New shape of df is 957x12."
   ]
  },
  {
   "cell_type": "code",
   "execution_count": 62,
   "id": "4e0f3747",
   "metadata": {},
   "outputs": [
    {
     "data": {
      "text/plain": [
       "fixed acidity           0.742134\n",
       "volatile acidity        0.296303\n",
       "citric acid             0.317061\n",
       "residual sugar          0.603009\n",
       "chlorides               0.120328\n",
       "free sulfur dioxide     0.794315\n",
       "total sulfur dioxide    0.908100\n",
       "density                 0.047837\n",
       "pH                      0.114988\n",
       "sulphates               0.500335\n",
       "alcohol                 0.736439\n",
       "quality                 2.295064\n",
       "dtype: float64"
      ]
     },
     "execution_count": 62,
     "metadata": {},
     "output_type": "execute_result"
    }
   ],
   "source": [
    "#inspecting the skewness of the data\n",
    "df.skew()"
   ]
  },
  {
   "cell_type": "markdown",
   "id": "5fcf7c4d",
   "metadata": {},
   "source": [
    "The acceptable range of skewness coefficient between -0.7 to 0.7 is taken"
   ]
  },
  {
   "cell_type": "markdown",
   "id": "2d27fc05",
   "metadata": {},
   "source": [
    "Skewness of 'fixed acidity', 'free sulfur dioxide', 'total sulfur dioxide' and 'alcohol' is greater than 0.7."
   ]
  },
  {
   "cell_type": "code",
   "execution_count": 63,
   "id": "e39b850c",
   "metadata": {},
   "outputs": [],
   "source": [
    "#Appling log tranformation on 'fixed acidity'\n",
    "constant = 0.001\n",
    "df['fixed acidity'] = np.log(df['fixed acidity'] + constant)"
   ]
  },
  {
   "cell_type": "code",
   "execution_count": 64,
   "id": "1dd66161",
   "metadata": {},
   "outputs": [],
   "source": [
    "#Appling log tranformation on 'free sulfur dioxide'\n",
    "constant = 0.001\n",
    "df['free sulfur dioxide'] = np.log(df['free sulfur dioxide'] + constant)"
   ]
  },
  {
   "cell_type": "code",
   "execution_count": 65,
   "id": "b284fea3",
   "metadata": {},
   "outputs": [],
   "source": [
    "#Appling log tranformation on 'alcohol'\n",
    "constant = 0.001\n",
    "df['alcohol'] = np.log(df['alcohol'] + constant)"
   ]
  },
  {
   "cell_type": "code",
   "execution_count": 66,
   "id": "0aac98bd",
   "metadata": {},
   "outputs": [],
   "source": [
    "#Appling log tranformation on 'total sulfur dioxide'\n",
    "constant = 0.001\n",
    "df['total sulfur dioxide'] = np.log(df['total sulfur dioxide'] + constant)"
   ]
  },
  {
   "cell_type": "markdown",
   "id": "0e787c71",
   "metadata": {},
   "source": [
    "Log transformation applied on columns having skewness > 0.7."
   ]
  },
  {
   "cell_type": "code",
   "execution_count": 67,
   "id": "e61ea416",
   "metadata": {},
   "outputs": [
    {
     "data": {
      "text/plain": [
       "fixed acidity           0.342388\n",
       "volatile acidity        0.296303\n",
       "citric acid             0.317061\n",
       "residual sugar          0.603009\n",
       "chlorides               0.120328\n",
       "free sulfur dioxide    -0.321065\n",
       "total sulfur dioxide   -0.236011\n",
       "density                 0.047837\n",
       "pH                      0.114988\n",
       "sulphates               0.500335\n",
       "alcohol                 0.589428\n",
       "quality                 2.295064\n",
       "dtype: float64"
      ]
     },
     "execution_count": 67,
     "metadata": {},
     "output_type": "execute_result"
    }
   ],
   "source": [
    "#rechecking skewness\n",
    "df.skew()"
   ]
  },
  {
   "cell_type": "markdown",
   "id": "f5da8e85",
   "metadata": {},
   "source": [
    "Now the skewness of all the data is withnin acceptable range."
   ]
  },
  {
   "cell_type": "code",
   "execution_count": 68,
   "id": "c9af5568",
   "metadata": {},
   "outputs": [
    {
     "data": {
      "image/png": "[encoded data removed]",
      "text/plain": [
       "<Figure size 432x288 with 11 Axes>"
      ]
     },
     "metadata": {
      "needs_background": "light"
     },
     "output_type": "display_data"
    }
   ],
   "source": [
    "#Checking if the skewness of the data is reduced by graphical representation\n",
    "plotn=1\n",
    "for label in df.columns[:-1]:\n",
    "  if plotn<=11:\n",
    "    ax=plt.subplot(4,4,plotn)\n",
    "    sns.distplot(df[label],color='blue',kde_kws={'shade':True},hist=False)\n",
    "    plotn+=1\n",
    "plt.tight_layout()"
   ]
  },
  {
   "cell_type": "markdown",
   "id": "a77d1a16",
   "metadata": {},
   "source": [
    "Distribution of data points are now fairly uniform."
   ]
  },
  {
   "cell_type": "markdown",
   "id": "3b740be9",
   "metadata": {},
   "source": [
    "Finding correlation between variables"
   ]
  },
  {
   "cell_type": "code",
   "execution_count": 69,
   "id": "dbb9e284",
   "metadata": {},
   "outputs": [
    {
     "data": {
      "text/html": [
       "<div>\n",
       "<style scoped>\n",
       "    .dataframe tbody tr th:only-of-type {\n",
       "        vertical-align: middle;\n",
       "    }\n",
       "\n",
       "    .dataframe tbody tr th {\n",
       "        vertical-align: top;\n",
       "    }\n",
       "\n",
       "    .dataframe thead th {\n",
       "        text-align: right;\n",
       "    }\n",
       "</style>\n",
       "<table border=\"1\" class=\"dataframe\">\n",
       "  <thead>\n",
       "    <tr style=\"text-align: right;\">\n",
       "      <th></th>\n",
       "      <th>fixed acidity</th>\n",
       "      <th>volatile acidity</th>\n",
       "      <th>citric acid</th>\n",
       "      <th>residual sugar</th>\n",
       "      <th>chlorides</th>\n",
       "      <th>free sulfur dioxide</th>\n",
       "      <th>total sulfur dioxide</th>\n",
       "      <th>density</th>\n",
       "      <th>pH</th>\n",
       "      <th>sulphates</th>\n",
       "      <th>alcohol</th>\n",
       "      <th>quality</th>\n",
       "    </tr>\n",
       "  </thead>\n",
       "  <tbody>\n",
       "    <tr>\n",
       "      <th>fixed acidity</th>\n",
       "      <td>1.000000</td>\n",
       "      <td>-0.277501</td>\n",
       "      <td>0.644083</td>\n",
       "      <td>0.224393</td>\n",
       "      <td>0.180059</td>\n",
       "      <td>-0.163962</td>\n",
       "      <td>-0.098163</td>\n",
       "      <td>0.598728</td>\n",
       "      <td>-0.706376</td>\n",
       "      <td>0.146851</td>\n",
       "      <td>-0.033604</td>\n",
       "      <td>0.116308</td>\n",
       "    </tr>\n",
       "    <tr>\n",
       "      <th>volatile acidity</th>\n",
       "      <td>-0.277501</td>\n",
       "      <td>1.000000</td>\n",
       "      <td>-0.644885</td>\n",
       "      <td>0.017024</td>\n",
       "      <td>0.126327</td>\n",
       "      <td>0.018001</td>\n",
       "      <td>0.093914</td>\n",
       "      <td>0.048906</td>\n",
       "      <td>0.249186</td>\n",
       "      <td>-0.323103</td>\n",
       "      <td>-0.229496</td>\n",
       "      <td>-0.260909</td>\n",
       "    </tr>\n",
       "    <tr>\n",
       "      <th>citric acid</th>\n",
       "      <td>0.644083</td>\n",
       "      <td>-0.644885</td>\n",
       "      <td>1.000000</td>\n",
       "      <td>0.138192</td>\n",
       "      <td>0.049062</td>\n",
       "      <td>-0.096189</td>\n",
       "      <td>-0.032272</td>\n",
       "      <td>0.277886</td>\n",
       "      <td>-0.486703</td>\n",
       "      <td>0.271128</td>\n",
       "      <td>0.156376</td>\n",
       "      <td>0.201505</td>\n",
       "    </tr>\n",
       "    <tr>\n",
       "      <th>residual sugar</th>\n",
       "      <td>0.224393</td>\n",
       "      <td>0.017024</td>\n",
       "      <td>0.138192</td>\n",
       "      <td>1.000000</td>\n",
       "      <td>0.243129</td>\n",
       "      <td>0.097957</td>\n",
       "      <td>0.173443</td>\n",
       "      <td>0.383237</td>\n",
       "      <td>-0.054650</td>\n",
       "      <td>0.040652</td>\n",
       "      <td>0.099986</td>\n",
       "      <td>0.018379</td>\n",
       "    </tr>\n",
       "    <tr>\n",
       "      <th>chlorides</th>\n",
       "      <td>0.180059</td>\n",
       "      <td>0.126327</td>\n",
       "      <td>0.049062</td>\n",
       "      <td>0.243129</td>\n",
       "      <td>1.000000</td>\n",
       "      <td>0.073236</td>\n",
       "      <td>0.207994</td>\n",
       "      <td>0.418829</td>\n",
       "      <td>-0.151733</td>\n",
       "      <td>-0.118662</td>\n",
       "      <td>-0.315672</td>\n",
       "      <td>-0.159393</td>\n",
       "    </tr>\n",
       "    <tr>\n",
       "      <th>free sulfur dioxide</th>\n",
       "      <td>-0.163962</td>\n",
       "      <td>0.018001</td>\n",
       "      <td>-0.096189</td>\n",
       "      <td>0.097957</td>\n",
       "      <td>0.073236</td>\n",
       "      <td>1.000000</td>\n",
       "      <td>0.768362</td>\n",
       "      <td>-0.002166</td>\n",
       "      <td>0.148663</td>\n",
       "      <td>0.086077</td>\n",
       "      <td>-0.052660</td>\n",
       "      <td>-0.073281</td>\n",
       "    </tr>\n",
       "    <tr>\n",
       "      <th>total sulfur dioxide</th>\n",
       "      <td>-0.098163</td>\n",
       "      <td>0.093914</td>\n",
       "      <td>-0.032272</td>\n",
       "      <td>0.173443</td>\n",
       "      <td>0.207994</td>\n",
       "      <td>0.768362</td>\n",
       "      <td>1.000000</td>\n",
       "      <td>0.174374</td>\n",
       "      <td>0.049288</td>\n",
       "      <td>-0.010768</td>\n",
       "      <td>-0.256728</td>\n",
       "      <td>-0.180405</td>\n",
       "    </tr>\n",
       "    <tr>\n",
       "      <th>density</th>\n",
       "      <td>0.598728</td>\n",
       "      <td>0.048906</td>\n",
       "      <td>0.277886</td>\n",
       "      <td>0.383237</td>\n",
       "      <td>0.418829</td>\n",
       "      <td>-0.002166</td>\n",
       "      <td>0.174374</td>\n",
       "      <td>1.000000</td>\n",
       "      <td>-0.227023</td>\n",
       "      <td>0.052943</td>\n",
       "      <td>-0.544339</td>\n",
       "      <td>-0.193470</td>\n",
       "    </tr>\n",
       "    <tr>\n",
       "      <th>pH</th>\n",
       "      <td>-0.706376</td>\n",
       "      <td>0.249186</td>\n",
       "      <td>-0.486703</td>\n",
       "      <td>-0.054650</td>\n",
       "      <td>-0.151733</td>\n",
       "      <td>0.148663</td>\n",
       "      <td>0.049288</td>\n",
       "      <td>-0.227023</td>\n",
       "      <td>1.000000</td>\n",
       "      <td>0.009541</td>\n",
       "      <td>0.099450</td>\n",
       "      <td>-0.085474</td>\n",
       "    </tr>\n",
       "    <tr>\n",
       "      <th>sulphates</th>\n",
       "      <td>0.146851</td>\n",
       "      <td>-0.323103</td>\n",
       "      <td>0.271128</td>\n",
       "      <td>0.040652</td>\n",
       "      <td>-0.118662</td>\n",
       "      <td>0.086077</td>\n",
       "      <td>-0.010768</td>\n",
       "      <td>0.052943</td>\n",
       "      <td>0.009541</td>\n",
       "      <td>1.000000</td>\n",
       "      <td>0.287436</td>\n",
       "      <td>0.347639</td>\n",
       "    </tr>\n",
       "    <tr>\n",
       "      <th>alcohol</th>\n",
       "      <td>-0.033604</td>\n",
       "      <td>-0.229496</td>\n",
       "      <td>0.156376</td>\n",
       "      <td>0.099986</td>\n",
       "      <td>-0.315672</td>\n",
       "      <td>-0.052660</td>\n",
       "      <td>-0.256728</td>\n",
       "      <td>-0.544339</td>\n",
       "      <td>0.099450</td>\n",
       "      <td>0.287436</td>\n",
       "      <td>1.000000</td>\n",
       "      <td>0.401353</td>\n",
       "    </tr>\n",
       "    <tr>\n",
       "      <th>quality</th>\n",
       "      <td>0.116308</td>\n",
       "      <td>-0.260909</td>\n",
       "      <td>0.201505</td>\n",
       "      <td>0.018379</td>\n",
       "      <td>-0.159393</td>\n",
       "      <td>-0.073281</td>\n",
       "      <td>-0.180405</td>\n",
       "      <td>-0.193470</td>\n",
       "      <td>-0.085474</td>\n",
       "      <td>0.347639</td>\n",
       "      <td>0.401353</td>\n",
       "      <td>1.000000</td>\n",
       "    </tr>\n",
       "  </tbody>\n",
       "</table>\n",
       "</div>"
      ],
      "text/plain": [
       "                      fixed acidity  volatile acidity  citric acid  \\\n",
       "fixed acidity              1.000000         -0.277501     0.644083   \n",
       "volatile acidity          -0.277501          1.000000    -0.644885   \n",
       "citric acid                0.644083         -0.644885     1.000000   \n",
       "residual sugar             0.224393          0.017024     0.138192   \n",
       "chlorides                  0.180059          0.126327     0.049062   \n",
       "free sulfur dioxide       -0.163962          0.018001    -0.096189   \n",
       "total sulfur dioxide      -0.098163          0.093914    -0.032272   \n",
       "density                    0.598728          0.048906     0.277886   \n",
       "pH                        -0.706376          0.249186    -0.486703   \n",
       "sulphates                  0.146851         -0.323103     0.271128   \n",
       "alcohol                   -0.033604         -0.229496     0.156376   \n",
       "quality                    0.116308         -0.260909     0.201505   \n",
       "\n",
       "                      residual sugar  chlorides  free sulfur dioxide  \\\n",
       "fixed acidity               0.224393   0.180059            -0.163962   \n",
       "volatile acidity            0.017024   0.126327             0.018001   \n",
       "citric acid                 0.138192   0.049062            -0.096189   \n",
       "residual sugar              1.000000   0.243129             0.097957   \n",
       "chlorides                   0.243129   1.000000             0.073236   \n",
       "free sulfur dioxide         0.097957   0.073236             1.000000   \n",
       "total sulfur dioxide        0.173443   0.207994             0.768362   \n",
       "density                     0.383237   0.418829            -0.002166   \n",
       "pH                         -0.054650  -0.151733             0.148663   \n",
       "sulphates                   0.040652  -0.118662             0.086077   \n",
       "alcohol                     0.099986  -0.315672            -0.052660   \n",
       "quality                     0.018379  -0.159393            -0.073281   \n",
       "\n",
       "                      total sulfur dioxide   density        pH  sulphates  \\\n",
       "fixed acidity                    -0.098163  0.598728 -0.706376   0.146851   \n",
       "volatile acidity                  0.093914  0.048906  0.249186  -0.323103   \n",
       "citric acid                      -0.032272  0.277886 -0.486703   0.271128   \n",
       "residual sugar                    0.173443  0.383237 -0.054650   0.040652   \n",
       "chlorides                         0.207994  0.418829 -0.151733  -0.118662   \n",
       "free sulfur dioxide               0.768362 -0.002166  0.148663   0.086077   \n",
       "total sulfur dioxide              1.000000  0.174374  0.049288  -0.010768   \n",
       "density                           0.174374  1.000000 -0.227023   0.052943   \n",
       "pH                                0.049288 -0.227023  1.000000   0.009541   \n",
       "sulphates                        -0.010768  0.052943  0.009541   1.000000   \n",
       "alcohol                          -0.256728 -0.544339  0.099450   0.287436   \n",
       "quality                          -0.180405 -0.193470 -0.085474   0.347639   \n",
       "\n",
       "                       alcohol   quality  \n",
       "fixed acidity        -0.033604  0.116308  \n",
       "volatile acidity     -0.229496 -0.260909  \n",
       "citric acid           0.156376  0.201505  \n",
       "residual sugar        0.099986  0.018379  \n",
       "chlorides            -0.315672 -0.159393  \n",
       "free sulfur dioxide  -0.052660 -0.073281  \n",
       "total sulfur dioxide -0.256728 -0.180405  \n",
       "density              -0.544339 -0.193470  \n",
       "pH                    0.099450 -0.085474  \n",
       "sulphates             0.287436  0.347639  \n",
       "alcohol               1.000000  0.401353  \n",
       "quality               0.401353  1.000000  "
      ]
     },
     "execution_count": 69,
     "metadata": {},
     "output_type": "execute_result"
    }
   ],
   "source": [
    "cor=df.corr()\n",
    "cor"
   ]
  },
  {
   "cell_type": "code",
   "execution_count": 70,
   "id": "b8df9403",
   "metadata": {},
   "outputs": [
    {
     "data": {
      "image/png": "[encoded data removed]",
      "text/plain": [
       "<Figure size 1440x1080 with 2 Axes>"
      ]
     },
     "metadata": {
      "needs_background": "light"
     },
     "output_type": "display_data"
    }
   ],
   "source": [
    "#heatmap of correlation\n",
    "plt.figure(figsize=(20,15))\n",
    "sns.heatmap(df.corr(),linewidths=0.15,fmt='.1g',linecolor='black',annot=True,cmap='Blues_r')\n",
    "plt.yticks(rotation=0)\n",
    "plt.show()"
   ]
  },
  {
   "cell_type": "markdown",
   "id": "7713fb84",
   "metadata": {},
   "source": [
    "No strong correlations found between variables"
   ]
  },
  {
   "cell_type": "code",
   "execution_count": 71,
   "id": "fb09b97f",
   "metadata": {},
   "outputs": [
    {
     "name": "stdout",
     "output_type": "stream",
     "text": [
      "quality                 1.000000\n",
      "alcohol                 0.401353\n",
      "sulphates               0.347639\n",
      "citric acid             0.201505\n",
      "fixed acidity           0.116308\n",
      "residual sugar          0.018379\n",
      "free sulfur dioxide    -0.073281\n",
      "pH                     -0.085474\n",
      "chlorides              -0.159393\n",
      "total sulfur dioxide   -0.180405\n",
      "density                -0.193470\n",
      "volatile acidity       -0.260909\n",
      "Name: quality, dtype: float64\n"
     ]
    },
    {
     "data": {
      "image/png": "[encoded data removed]",
      "text/plain": [
       "<Figure size 1584x504 with 1 Axes>"
      ]
     },
     "metadata": {
      "needs_background": "light"
     },
     "output_type": "display_data"
    }
   ],
   "source": [
    "print(cor['quality'].sort_values(ascending = False))\n",
    "plt.figure(figsize=(22,7))\n",
    "df.corr()['quality'].sort_values(ascending = False).drop(['quality']).plot(kind='bar',color='m')\n",
    "plt.show()"
   ]
  },
  {
   "cell_type": "code",
   "execution_count": 72,
   "id": "04d58222",
   "metadata": {},
   "outputs": [
    {
     "data": {
      "text/html": [
       "<div>\n",
       "<style scoped>\n",
       "    .dataframe tbody tr th:only-of-type {\n",
       "        vertical-align: middle;\n",
       "    }\n",
       "\n",
       "    .dataframe tbody tr th {\n",
       "        vertical-align: top;\n",
       "    }\n",
       "\n",
       "    .dataframe thead th {\n",
       "        text-align: right;\n",
       "    }\n",
       "</style>\n",
       "<table border=\"1\" class=\"dataframe\">\n",
       "  <thead>\n",
       "    <tr style=\"text-align: right;\">\n",
       "      <th></th>\n",
       "      <th>fixed acidity</th>\n",
       "      <th>volatile acidity</th>\n",
       "      <th>citric acid</th>\n",
       "      <th>residual sugar</th>\n",
       "      <th>chlorides</th>\n",
       "      <th>free sulfur dioxide</th>\n",
       "      <th>total sulfur dioxide</th>\n",
       "      <th>density</th>\n",
       "      <th>pH</th>\n",
       "      <th>sulphates</th>\n",
       "      <th>alcohol</th>\n",
       "      <th>quality</th>\n",
       "    </tr>\n",
       "  </thead>\n",
       "  <tbody>\n",
       "    <tr>\n",
       "      <th>0</th>\n",
       "      <td>2.001615</td>\n",
       "      <td>0.700</td>\n",
       "      <td>0.00</td>\n",
       "      <td>1.9</td>\n",
       "      <td>0.076</td>\n",
       "      <td>2.397986</td>\n",
       "      <td>3.526390</td>\n",
       "      <td>0.9978</td>\n",
       "      <td>3.51</td>\n",
       "      <td>0.56</td>\n",
       "      <td>2.240816</td>\n",
       "      <td>0</td>\n",
       "    </tr>\n",
       "    <tr>\n",
       "      <th>1</th>\n",
       "      <td>2.054252</td>\n",
       "      <td>0.880</td>\n",
       "      <td>0.00</td>\n",
       "      <td>2.6</td>\n",
       "      <td>0.098</td>\n",
       "      <td>3.218916</td>\n",
       "      <td>4.204708</td>\n",
       "      <td>0.9968</td>\n",
       "      <td>3.20</td>\n",
       "      <td>0.68</td>\n",
       "      <td>2.282484</td>\n",
       "      <td>0</td>\n",
       "    </tr>\n",
       "    <tr>\n",
       "      <th>2</th>\n",
       "      <td>2.054252</td>\n",
       "      <td>0.760</td>\n",
       "      <td>0.04</td>\n",
       "      <td>2.3</td>\n",
       "      <td>0.092</td>\n",
       "      <td>2.708117</td>\n",
       "      <td>3.989003</td>\n",
       "      <td>0.9970</td>\n",
       "      <td>3.26</td>\n",
       "      <td>0.65</td>\n",
       "      <td>2.282484</td>\n",
       "      <td>0</td>\n",
       "    </tr>\n",
       "    <tr>\n",
       "      <th>3</th>\n",
       "      <td>2.416003</td>\n",
       "      <td>0.280</td>\n",
       "      <td>0.56</td>\n",
       "      <td>1.9</td>\n",
       "      <td>0.075</td>\n",
       "      <td>2.833272</td>\n",
       "      <td>4.094361</td>\n",
       "      <td>0.9980</td>\n",
       "      <td>3.16</td>\n",
       "      <td>0.58</td>\n",
       "      <td>2.282484</td>\n",
       "      <td>0</td>\n",
       "    </tr>\n",
       "    <tr>\n",
       "      <th>5</th>\n",
       "      <td>2.001615</td>\n",
       "      <td>0.660</td>\n",
       "      <td>0.00</td>\n",
       "      <td>1.8</td>\n",
       "      <td>0.075</td>\n",
       "      <td>2.565026</td>\n",
       "      <td>3.688904</td>\n",
       "      <td>0.9978</td>\n",
       "      <td>3.51</td>\n",
       "      <td>0.56</td>\n",
       "      <td>2.240816</td>\n",
       "      <td>0</td>\n",
       "    </tr>\n",
       "    <tr>\n",
       "      <th>6</th>\n",
       "      <td>2.066989</td>\n",
       "      <td>0.600</td>\n",
       "      <td>0.06</td>\n",
       "      <td>1.6</td>\n",
       "      <td>0.069</td>\n",
       "      <td>2.708117</td>\n",
       "      <td>4.077554</td>\n",
       "      <td>0.9964</td>\n",
       "      <td>3.30</td>\n",
       "      <td>0.46</td>\n",
       "      <td>2.240816</td>\n",
       "      <td>0</td>\n",
       "    </tr>\n",
       "    <tr>\n",
       "      <th>7</th>\n",
       "      <td>1.988011</td>\n",
       "      <td>0.650</td>\n",
       "      <td>0.00</td>\n",
       "      <td>1.2</td>\n",
       "      <td>0.065</td>\n",
       "      <td>2.708117</td>\n",
       "      <td>3.044570</td>\n",
       "      <td>0.9946</td>\n",
       "      <td>3.39</td>\n",
       "      <td>0.47</td>\n",
       "      <td>2.302685</td>\n",
       "      <td>1</td>\n",
       "    </tr>\n",
       "    <tr>\n",
       "      <th>8</th>\n",
       "      <td>2.054252</td>\n",
       "      <td>0.580</td>\n",
       "      <td>0.02</td>\n",
       "      <td>2.0</td>\n",
       "      <td>0.073</td>\n",
       "      <td>2.197336</td>\n",
       "      <td>2.890427</td>\n",
       "      <td>0.9968</td>\n",
       "      <td>3.36</td>\n",
       "      <td>0.57</td>\n",
       "      <td>2.251397</td>\n",
       "      <td>1</td>\n",
       "    </tr>\n",
       "    <tr>\n",
       "      <th>10</th>\n",
       "      <td>1.902257</td>\n",
       "      <td>0.580</td>\n",
       "      <td>0.08</td>\n",
       "      <td>1.8</td>\n",
       "      <td>0.097</td>\n",
       "      <td>2.708117</td>\n",
       "      <td>4.174403</td>\n",
       "      <td>0.9959</td>\n",
       "      <td>3.28</td>\n",
       "      <td>0.54</td>\n",
       "      <td>2.219312</td>\n",
       "      <td>0</td>\n",
       "    </tr>\n",
       "    <tr>\n",
       "      <th>12</th>\n",
       "      <td>1.722945</td>\n",
       "      <td>0.615</td>\n",
       "      <td>0.00</td>\n",
       "      <td>1.6</td>\n",
       "      <td>0.089</td>\n",
       "      <td>2.772651</td>\n",
       "      <td>4.077554</td>\n",
       "      <td>0.9943</td>\n",
       "      <td>3.58</td>\n",
       "      <td>0.52</td>\n",
       "      <td>2.292636</td>\n",
       "      <td>0</td>\n",
       "    </tr>\n",
       "    <tr>\n",
       "      <th>16</th>\n",
       "      <td>2.140184</td>\n",
       "      <td>0.280</td>\n",
       "      <td>0.56</td>\n",
       "      <td>1.8</td>\n",
       "      <td>0.092</td>\n",
       "      <td>3.555377</td>\n",
       "      <td>4.634739</td>\n",
       "      <td>0.9969</td>\n",
       "      <td>3.30</td>\n",
       "      <td>0.75</td>\n",
       "      <td>2.351470</td>\n",
       "      <td>1</td>\n",
       "    </tr>\n",
       "    <tr>\n",
       "      <th>20</th>\n",
       "      <td>2.186164</td>\n",
       "      <td>0.220</td>\n",
       "      <td>0.48</td>\n",
       "      <td>1.8</td>\n",
       "      <td>0.077</td>\n",
       "      <td>3.367330</td>\n",
       "      <td>4.094361</td>\n",
       "      <td>0.9968</td>\n",
       "      <td>3.39</td>\n",
       "      <td>0.53</td>\n",
       "      <td>2.240816</td>\n",
       "      <td>0</td>\n",
       "    </tr>\n",
       "    <tr>\n",
       "      <th>21</th>\n",
       "      <td>2.028280</td>\n",
       "      <td>0.390</td>\n",
       "      <td>0.31</td>\n",
       "      <td>2.3</td>\n",
       "      <td>0.082</td>\n",
       "      <td>3.135538</td>\n",
       "      <td>4.262694</td>\n",
       "      <td>0.9982</td>\n",
       "      <td>3.52</td>\n",
       "      <td>0.65</td>\n",
       "      <td>2.272229</td>\n",
       "      <td>0</td>\n",
       "    </tr>\n",
       "    <tr>\n",
       "      <th>22</th>\n",
       "      <td>2.066989</td>\n",
       "      <td>0.430</td>\n",
       "      <td>0.21</td>\n",
       "      <td>1.6</td>\n",
       "      <td>0.106</td>\n",
       "      <td>2.302685</td>\n",
       "      <td>3.610945</td>\n",
       "      <td>0.9966</td>\n",
       "      <td>3.17</td>\n",
       "      <td>0.91</td>\n",
       "      <td>2.251397</td>\n",
       "      <td>0</td>\n",
       "    </tr>\n",
       "    <tr>\n",
       "      <th>23</th>\n",
       "      <td>2.140184</td>\n",
       "      <td>0.490</td>\n",
       "      <td>0.11</td>\n",
       "      <td>2.3</td>\n",
       "      <td>0.084</td>\n",
       "      <td>2.197336</td>\n",
       "      <td>4.204708</td>\n",
       "      <td>0.9968</td>\n",
       "      <td>3.17</td>\n",
       "      <td>0.53</td>\n",
       "      <td>2.240816</td>\n",
       "      <td>0</td>\n",
       "    </tr>\n",
       "    <tr>\n",
       "      <th>24</th>\n",
       "      <td>1.931666</td>\n",
       "      <td>0.400</td>\n",
       "      <td>0.14</td>\n",
       "      <td>2.4</td>\n",
       "      <td>0.085</td>\n",
       "      <td>3.044570</td>\n",
       "      <td>3.688904</td>\n",
       "      <td>0.9968</td>\n",
       "      <td>3.43</td>\n",
       "      <td>0.63</td>\n",
       "      <td>2.272229</td>\n",
       "      <td>0</td>\n",
       "    </tr>\n",
       "    <tr>\n",
       "      <th>25</th>\n",
       "      <td>1.840708</td>\n",
       "      <td>0.390</td>\n",
       "      <td>0.16</td>\n",
       "      <td>1.4</td>\n",
       "      <td>0.080</td>\n",
       "      <td>2.397986</td>\n",
       "      <td>3.135538</td>\n",
       "      <td>0.9955</td>\n",
       "      <td>3.34</td>\n",
       "      <td>0.56</td>\n",
       "      <td>2.230122</td>\n",
       "      <td>0</td>\n",
       "    </tr>\n",
       "    <tr>\n",
       "      <th>26</th>\n",
       "      <td>2.028280</td>\n",
       "      <td>0.410</td>\n",
       "      <td>0.24</td>\n",
       "      <td>1.8</td>\n",
       "      <td>0.080</td>\n",
       "      <td>1.386544</td>\n",
       "      <td>2.397986</td>\n",
       "      <td>0.9962</td>\n",
       "      <td>3.28</td>\n",
       "      <td>0.59</td>\n",
       "      <td>2.251397</td>\n",
       "      <td>0</td>\n",
       "    </tr>\n",
       "    <tr>\n",
       "      <th>28</th>\n",
       "      <td>1.960236</td>\n",
       "      <td>0.710</td>\n",
       "      <td>0.00</td>\n",
       "      <td>1.9</td>\n",
       "      <td>0.080</td>\n",
       "      <td>2.639129</td>\n",
       "      <td>3.555377</td>\n",
       "      <td>0.9972</td>\n",
       "      <td>3.47</td>\n",
       "      <td>0.55</td>\n",
       "      <td>2.240816</td>\n",
       "      <td>0</td>\n",
       "    </tr>\n",
       "    <tr>\n",
       "      <th>29</th>\n",
       "      <td>2.054252</td>\n",
       "      <td>0.645</td>\n",
       "      <td>0.00</td>\n",
       "      <td>2.0</td>\n",
       "      <td>0.082</td>\n",
       "      <td>2.079567</td>\n",
       "      <td>2.772651</td>\n",
       "      <td>0.9964</td>\n",
       "      <td>3.38</td>\n",
       "      <td>0.59</td>\n",
       "      <td>2.282484</td>\n",
       "      <td>0</td>\n",
       "    </tr>\n",
       "  </tbody>\n",
       "</table>\n",
       "</div>"
      ],
      "text/plain": [
       "    fixed acidity  volatile acidity  citric acid  residual sugar  chlorides  \\\n",
       "0        2.001615             0.700         0.00             1.9      0.076   \n",
       "1        2.054252             0.880         0.00             2.6      0.098   \n",
       "2        2.054252             0.760         0.04             2.3      0.092   \n",
       "3        2.416003             0.280         0.56             1.9      0.075   \n",
       "5        2.001615             0.660         0.00             1.8      0.075   \n",
       "6        2.066989             0.600         0.06             1.6      0.069   \n",
       "7        1.988011             0.650         0.00             1.2      0.065   \n",
       "8        2.054252             0.580         0.02             2.0      0.073   \n",
       "10       1.902257             0.580         0.08             1.8      0.097   \n",
       "12       1.722945             0.615         0.00             1.6      0.089   \n",
       "16       2.140184             0.280         0.56             1.8      0.092   \n",
       "20       2.186164             0.220         0.48             1.8      0.077   \n",
       "21       2.028280             0.390         0.31             2.3      0.082   \n",
       "22       2.066989             0.430         0.21             1.6      0.106   \n",
       "23       2.140184             0.490         0.11             2.3      0.084   \n",
       "24       1.931666             0.400         0.14             2.4      0.085   \n",
       "25       1.840708             0.390         0.16             1.4      0.080   \n",
       "26       2.028280             0.410         0.24             1.8      0.080   \n",
       "28       1.960236             0.710         0.00             1.9      0.080   \n",
       "29       2.054252             0.645         0.00             2.0      0.082   \n",
       "\n",
       "    free sulfur dioxide  total sulfur dioxide  density    pH  sulphates  \\\n",
       "0              2.397986              3.526390   0.9978  3.51       0.56   \n",
       "1              3.218916              4.204708   0.9968  3.20       0.68   \n",
       "2              2.708117              3.989003   0.9970  3.26       0.65   \n",
       "3              2.833272              4.094361   0.9980  3.16       0.58   \n",
       "5              2.565026              3.688904   0.9978  3.51       0.56   \n",
       "6              2.708117              4.077554   0.9964  3.30       0.46   \n",
       "7              2.708117              3.044570   0.9946  3.39       0.47   \n",
       "8              2.197336              2.890427   0.9968  3.36       0.57   \n",
       "10             2.708117              4.174403   0.9959  3.28       0.54   \n",
       "12             2.772651              4.077554   0.9943  3.58       0.52   \n",
       "16             3.555377              4.634739   0.9969  3.30       0.75   \n",
       "20             3.367330              4.094361   0.9968  3.39       0.53   \n",
       "21             3.135538              4.262694   0.9982  3.52       0.65   \n",
       "22             2.302685              3.610945   0.9966  3.17       0.91   \n",
       "23             2.197336              4.204708   0.9968  3.17       0.53   \n",
       "24             3.044570              3.688904   0.9968  3.43       0.63   \n",
       "25             2.397986              3.135538   0.9955  3.34       0.56   \n",
       "26             1.386544              2.397986   0.9962  3.28       0.59   \n",
       "28             2.639129              3.555377   0.9972  3.47       0.55   \n",
       "29             2.079567              2.772651   0.9964  3.38       0.59   \n",
       "\n",
       "     alcohol  quality  \n",
       "0   2.240816        0  \n",
       "1   2.282484        0  \n",
       "2   2.282484        0  \n",
       "3   2.282484        0  \n",
       "5   2.240816        0  \n",
       "6   2.240816        0  \n",
       "7   2.302685        1  \n",
       "8   2.251397        1  \n",
       "10  2.219312        0  \n",
       "12  2.292636        0  \n",
       "16  2.351470        1  \n",
       "20  2.240816        0  \n",
       "21  2.272229        0  \n",
       "22  2.251397        0  \n",
       "23  2.240816        0  \n",
       "24  2.272229        0  \n",
       "25  2.230122        0  \n",
       "26  2.251397        0  \n",
       "28  2.240816        0  \n",
       "29  2.282484        0  "
      ]
     },
     "execution_count": 72,
     "metadata": {},
     "output_type": "execute_result"
    }
   ],
   "source": [
    "df.head(20)"
   ]
  },
  {
   "cell_type": "markdown",
   "id": "9f17d09f",
   "metadata": {},
   "source": [
    "Appling standardization to the data to improve the performance."
   ]
  },
  {
   "cell_type": "code",
   "execution_count": 73,
   "id": "2b92e40d",
   "metadata": {},
   "outputs": [],
   "source": [
    "# importing standard scaler\n",
    "from sklearn.preprocessing import StandardScaler"
   ]
  },
  {
   "cell_type": "code",
   "execution_count": 74,
   "id": "d697d9ac",
   "metadata": {},
   "outputs": [],
   "source": [
    "x=df.drop('quality',axis=1)\n",
    "y=df['quality']"
   ]
  },
  {
   "cell_type": "code",
   "execution_count": 75,
   "id": "1b573d68",
   "metadata": {},
   "outputs": [],
   "source": [
    "scaler=StandardScaler()"
   ]
  },
  {
   "cell_type": "code",
   "execution_count": 76,
   "id": "bb79ed47",
   "metadata": {},
   "outputs": [
    {
     "data": {
      "text/html": [
       "<div>\n",
       "<style scoped>\n",
       "    .dataframe tbody tr th:only-of-type {\n",
       "        vertical-align: middle;\n",
       "    }\n",
       "\n",
       "    .dataframe tbody tr th {\n",
       "        vertical-align: top;\n",
       "    }\n",
       "\n",
       "    .dataframe thead th {\n",
       "        text-align: right;\n",
       "    }\n",
       "</style>\n",
       "<table border=\"1\" class=\"dataframe\">\n",
       "  <thead>\n",
       "    <tr style=\"text-align: right;\">\n",
       "      <th></th>\n",
       "      <th>fixed acidity</th>\n",
       "      <th>volatile acidity</th>\n",
       "      <th>citric acid</th>\n",
       "      <th>residual sugar</th>\n",
       "      <th>chlorides</th>\n",
       "      <th>free sulfur dioxide</th>\n",
       "      <th>total sulfur dioxide</th>\n",
       "      <th>density</th>\n",
       "      <th>pH</th>\n",
       "      <th>sulphates</th>\n",
       "      <th>alcohol</th>\n",
       "    </tr>\n",
       "  </thead>\n",
       "  <tbody>\n",
       "    <tr>\n",
       "      <th>0</th>\n",
       "      <td>-0.456891</td>\n",
       "      <td>1.053266</td>\n",
       "      <td>-1.359202</td>\n",
       "      <td>-0.642891</td>\n",
       "      <td>-0.141387</td>\n",
       "      <td>-0.173328</td>\n",
       "      <td>0.003529</td>\n",
       "      <td>0.810336</td>\n",
       "      <td>1.413732</td>\n",
       "      <td>-0.603675</td>\n",
       "      <td>-1.031017</td>\n",
       "    </tr>\n",
       "    <tr>\n",
       "      <th>1</th>\n",
       "      <td>-0.151122</td>\n",
       "      <td>2.125675</td>\n",
       "      <td>-1.359202</td>\n",
       "      <td>0.927188</td>\n",
       "      <td>1.435290</td>\n",
       "      <td>1.134394</td>\n",
       "      <td>1.055980</td>\n",
       "      <td>0.175805</td>\n",
       "      <td>-0.957971</td>\n",
       "      <td>0.497088</td>\n",
       "      <td>-0.575397</td>\n",
       "    </tr>\n",
       "    <tr>\n",
       "      <th>2</th>\n",
       "      <td>-0.151122</td>\n",
       "      <td>1.410735</td>\n",
       "      <td>-1.137410</td>\n",
       "      <td>0.254297</td>\n",
       "      <td>1.005287</td>\n",
       "      <td>0.320703</td>\n",
       "      <td>0.721300</td>\n",
       "      <td>0.302712</td>\n",
       "      <td>-0.498931</td>\n",
       "      <td>0.221897</td>\n",
       "      <td>-0.575397</td>\n",
       "    </tr>\n",
       "    <tr>\n",
       "      <th>3</th>\n",
       "      <td>1.950309</td>\n",
       "      <td>-1.449022</td>\n",
       "      <td>1.745891</td>\n",
       "      <td>-0.642891</td>\n",
       "      <td>-0.213054</td>\n",
       "      <td>0.520073</td>\n",
       "      <td>0.884771</td>\n",
       "      <td>0.937242</td>\n",
       "      <td>-1.263997</td>\n",
       "      <td>-0.420215</td>\n",
       "      <td>-0.575397</td>\n",
       "    </tr>\n",
       "    <tr>\n",
       "      <th>4</th>\n",
       "      <td>-0.456891</td>\n",
       "      <td>0.814953</td>\n",
       "      <td>-1.359202</td>\n",
       "      <td>-0.867188</td>\n",
       "      <td>-0.213054</td>\n",
       "      <td>0.092763</td>\n",
       "      <td>0.255680</td>\n",
       "      <td>0.810336</td>\n",
       "      <td>1.413732</td>\n",
       "      <td>-0.603675</td>\n",
       "      <td>-1.031017</td>\n",
       "    </tr>\n",
       "    <tr>\n",
       "      <th>...</th>\n",
       "      <td>...</td>\n",
       "      <td>...</td>\n",
       "      <td>...</td>\n",
       "      <td>...</td>\n",
       "      <td>...</td>\n",
       "      <td>...</td>\n",
       "      <td>...</td>\n",
       "      <td>...</td>\n",
       "      <td>...</td>\n",
       "      <td>...</td>\n",
       "      <td>...</td>\n",
       "    </tr>\n",
       "    <tr>\n",
       "      <th>952</th>\n",
       "      <td>-0.948020</td>\n",
       "      <td>0.576639</td>\n",
       "      <td>-0.915618</td>\n",
       "      <td>-0.642891</td>\n",
       "      <td>-0.714724</td>\n",
       "      <td>1.314917</td>\n",
       "      <td>0.176097</td>\n",
       "      <td>-0.008208</td>\n",
       "      <td>0.725173</td>\n",
       "      <td>1.781312</td>\n",
       "      <td>-0.915320</td>\n",
       "    </tr>\n",
       "    <tr>\n",
       "      <th>953</th>\n",
       "      <td>-1.484539</td>\n",
       "      <td>0.457483</td>\n",
       "      <td>-0.915618</td>\n",
       "      <td>-0.418594</td>\n",
       "      <td>0.861953</td>\n",
       "      <td>1.527622</td>\n",
       "      <td>0.403556</td>\n",
       "      <td>-1.029803</td>\n",
       "      <td>0.954693</td>\n",
       "      <td>-0.420215</td>\n",
       "      <td>0.178926</td>\n",
       "    </tr>\n",
       "    <tr>\n",
       "      <th>954</th>\n",
       "      <td>-1.772602</td>\n",
       "      <td>0.159591</td>\n",
       "      <td>-0.804722</td>\n",
       "      <td>0.030000</td>\n",
       "      <td>-1.144727</td>\n",
       "      <td>1.842745</td>\n",
       "      <td>0.632617</td>\n",
       "      <td>-0.890206</td>\n",
       "      <td>1.490239</td>\n",
       "      <td>1.230930</td>\n",
       "      <td>0.884553</td>\n",
       "    </tr>\n",
       "    <tr>\n",
       "      <th>955</th>\n",
       "      <td>-1.772602</td>\n",
       "      <td>0.725585</td>\n",
       "      <td>-0.693825</td>\n",
       "      <td>-0.418594</td>\n",
       "      <td>-0.213054</td>\n",
       "      <td>1.527622</td>\n",
       "      <td>0.403556</td>\n",
       "      <td>-0.668120</td>\n",
       "      <td>1.872772</td>\n",
       "      <td>0.772279</td>\n",
       "      <td>-0.138006</td>\n",
       "    </tr>\n",
       "    <tr>\n",
       "      <th>956</th>\n",
       "      <td>-1.674985</td>\n",
       "      <td>-1.270288</td>\n",
       "      <td>1.246858</td>\n",
       "      <td>3.170159</td>\n",
       "      <td>-0.786391</td>\n",
       "      <td>0.611120</td>\n",
       "      <td>0.331379</td>\n",
       "      <td>-0.655430</td>\n",
       "      <td>0.495654</td>\n",
       "      <td>0.313627</td>\n",
       "      <td>0.687549</td>\n",
       "    </tr>\n",
       "  </tbody>\n",
       "</table>\n",
       "<p>957 rows × 11 columns</p>\n",
       "</div>"
      ],
      "text/plain": [
       "     fixed acidity  volatile acidity  citric acid  residual sugar  chlorides  \\\n",
       "0        -0.456891          1.053266    -1.359202       -0.642891  -0.141387   \n",
       "1        -0.151122          2.125675    -1.359202        0.927188   1.435290   \n",
       "2        -0.151122          1.410735    -1.137410        0.254297   1.005287   \n",
       "3         1.950309         -1.449022     1.745891       -0.642891  -0.213054   \n",
       "4        -0.456891          0.814953    -1.359202       -0.867188  -0.213054   \n",
       "..             ...               ...          ...             ...        ...   \n",
       "952      -0.948020          0.576639    -0.915618       -0.642891  -0.714724   \n",
       "953      -1.484539          0.457483    -0.915618       -0.418594   0.861953   \n",
       "954      -1.772602          0.159591    -0.804722        0.030000  -1.144727   \n",
       "955      -1.772602          0.725585    -0.693825       -0.418594  -0.213054   \n",
       "956      -1.674985         -1.270288     1.246858        3.170159  -0.786391   \n",
       "\n",
       "     free sulfur dioxide  total sulfur dioxide   density        pH  sulphates  \\\n",
       "0              -0.173328              0.003529  0.810336  1.413732  -0.603675   \n",
       "1               1.134394              1.055980  0.175805 -0.957971   0.497088   \n",
       "2               0.320703              0.721300  0.302712 -0.498931   0.221897   \n",
       "3               0.520073              0.884771  0.937242 -1.263997  -0.420215   \n",
       "4               0.092763              0.255680  0.810336  1.413732  -0.603675   \n",
       "..                   ...                   ...       ...       ...        ...   \n",
       "952             1.314917              0.176097 -0.008208  0.725173   1.781312   \n",
       "953             1.527622              0.403556 -1.029803  0.954693  -0.420215   \n",
       "954             1.842745              0.632617 -0.890206  1.490239   1.230930   \n",
       "955             1.527622              0.403556 -0.668120  1.872772   0.772279   \n",
       "956             0.611120              0.331379 -0.655430  0.495654   0.313627   \n",
       "\n",
       "      alcohol  \n",
       "0   -1.031017  \n",
       "1   -0.575397  \n",
       "2   -0.575397  \n",
       "3   -0.575397  \n",
       "4   -1.031017  \n",
       "..        ...  \n",
       "952 -0.915320  \n",
       "953  0.178926  \n",
       "954  0.884553  \n",
       "955 -0.138006  \n",
       "956  0.687549  \n",
       "\n",
       "[957 rows x 11 columns]"
      ]
     },
     "execution_count": 76,
     "metadata": {},
     "output_type": "execute_result"
    }
   ],
   "source": [
    "x=pd.DataFrame(scaler.fit_transform(x),columns=x.columns)\n",
    "x"
   ]
  },
  {
   "cell_type": "markdown",
   "id": "930c572b",
   "metadata": {},
   "source": [
    "Checking the VIF for each predictor variable  to assess the degree of multicollinearity present"
   ]
  },
  {
   "cell_type": "code",
   "execution_count": 77,
   "id": "0aba8baa",
   "metadata": {},
   "outputs": [],
   "source": [
    "from statsmodels.stats.outliers_influence import variance_inflation_factor"
   ]
  },
  {
   "cell_type": "code",
   "execution_count": 78,
   "id": "0f954043",
   "metadata": {},
   "outputs": [
    {
     "data": {
      "text/html": [
       "<div>\n",
       "<style scoped>\n",
       "    .dataframe tbody tr th:only-of-type {\n",
       "        vertical-align: middle;\n",
       "    }\n",
       "\n",
       "    .dataframe tbody tr th {\n",
       "        vertical-align: top;\n",
       "    }\n",
       "\n",
       "    .dataframe thead th {\n",
       "        text-align: right;\n",
       "    }\n",
       "</style>\n",
       "<table border=\"1\" class=\"dataframe\">\n",
       "  <thead>\n",
       "    <tr style=\"text-align: right;\">\n",
       "      <th></th>\n",
       "      <th>VIF Values</th>\n",
       "      <th>features</th>\n",
       "    </tr>\n",
       "  </thead>\n",
       "  <tbody>\n",
       "    <tr>\n",
       "      <th>0</th>\n",
       "      <td>6.733162</td>\n",
       "      <td>fixed acidity</td>\n",
       "    </tr>\n",
       "    <tr>\n",
       "      <th>1</th>\n",
       "      <td>2.061224</td>\n",
       "      <td>volatile acidity</td>\n",
       "    </tr>\n",
       "    <tr>\n",
       "      <th>2</th>\n",
       "      <td>3.071499</td>\n",
       "      <td>citric acid</td>\n",
       "    </tr>\n",
       "    <tr>\n",
       "      <th>3</th>\n",
       "      <td>1.631288</td>\n",
       "      <td>residual sugar</td>\n",
       "    </tr>\n",
       "    <tr>\n",
       "      <th>4</th>\n",
       "      <td>1.324732</td>\n",
       "      <td>chlorides</td>\n",
       "    </tr>\n",
       "    <tr>\n",
       "      <th>5</th>\n",
       "      <td>2.796916</td>\n",
       "      <td>free sulfur dioxide</td>\n",
       "    </tr>\n",
       "    <tr>\n",
       "      <th>6</th>\n",
       "      <td>3.093190</td>\n",
       "      <td>total sulfur dioxide</td>\n",
       "    </tr>\n",
       "    <tr>\n",
       "      <th>7</th>\n",
       "      <td>6.312534</td>\n",
       "      <td>density</td>\n",
       "    </tr>\n",
       "    <tr>\n",
       "      <th>8</th>\n",
       "      <td>3.187766</td>\n",
       "      <td>pH</td>\n",
       "    </tr>\n",
       "    <tr>\n",
       "      <th>9</th>\n",
       "      <td>1.337288</td>\n",
       "      <td>sulphates</td>\n",
       "    </tr>\n",
       "    <tr>\n",
       "      <th>10</th>\n",
       "      <td>3.460560</td>\n",
       "      <td>alcohol</td>\n",
       "    </tr>\n",
       "  </tbody>\n",
       "</table>\n",
       "</div>"
      ],
      "text/plain": [
       "    VIF Values              features\n",
       "0     6.733162         fixed acidity\n",
       "1     2.061224      volatile acidity\n",
       "2     3.071499           citric acid\n",
       "3     1.631288        residual sugar\n",
       "4     1.324732             chlorides\n",
       "5     2.796916   free sulfur dioxide\n",
       "6     3.093190  total sulfur dioxide\n",
       "7     6.312534               density\n",
       "8     3.187766                    pH\n",
       "9     1.337288             sulphates\n",
       "10    3.460560               alcohol"
      ]
     },
     "execution_count": 78,
     "metadata": {},
     "output_type": "execute_result"
    }
   ],
   "source": [
    "vif=pd.DataFrame()\n",
    "vif['VIF Values']=[variance_inflation_factor(x.values,i)\n",
    "                   for i in range(len(x.columns))]\n",
    "vif['features']=x.columns\n",
    "vif"
   ]
  },
  {
   "cell_type": "markdown",
   "id": "0fa610de",
   "metadata": {},
   "source": [
    "VIF is within acceptable range."
   ]
  },
  {
   "cell_type": "code",
   "execution_count": 79,
   "id": "b77ab125",
   "metadata": {},
   "outputs": [
    {
     "data": {
      "text/plain": [
       "0    839\n",
       "1    118\n",
       "Name: quality, dtype: int64"
      ]
     },
     "execution_count": 79,
     "metadata": {},
     "output_type": "execute_result"
    }
   ],
   "source": [
    "#checking the output count of target column\n",
    "y.value_counts()"
   ]
  },
  {
   "cell_type": "markdown",
   "id": "e62a81c0",
   "metadata": {},
   "source": [
    "No. of instances of classes has imbalance in target ('quality') column. We will need to oversample to balance the class distribution."
   ]
  },
  {
   "cell_type": "code",
   "execution_count": 80,
   "id": "649477c5",
   "metadata": {},
   "outputs": [],
   "source": [
    "#importing SMOTE\n",
    "from imblearn.over_sampling import SMOTE"
   ]
  },
  {
   "cell_type": "code",
   "execution_count": 81,
   "id": "c0e70d5f",
   "metadata": {},
   "outputs": [],
   "source": [
    "#Using SMOTE (Synthetic Minority Over-sampling Technique) for oversampling\n",
    "SM=SMOTE()\n",
    "x,y=SM.fit_resample(x,y)"
   ]
  },
  {
   "cell_type": "code",
   "execution_count": 82,
   "id": "9b6ef65d",
   "metadata": {},
   "outputs": [
    {
     "data": {
      "text/plain": [
       "0    839\n",
       "1    839\n",
       "Name: quality, dtype: int64"
      ]
     },
     "execution_count": 82,
     "metadata": {},
     "output_type": "execute_result"
    }
   ],
   "source": [
    "#Re-examining the class distribution\n",
    "y.value_counts()"
   ]
  },
  {
   "cell_type": "markdown",
   "id": "2ce98009",
   "metadata": {},
   "source": [
    "Class balance is achieved."
   ]
  },
  {
   "cell_type": "markdown",
   "id": "ee8a5a22",
   "metadata": {},
   "source": [
    "# MODELING"
   ]
  },
  {
   "cell_type": "code",
   "execution_count": 83,
   "id": "68fb01f8",
   "metadata": {},
   "outputs": [],
   "source": [
    "#importing required libraries\n",
    "from sklearn.model_selection import train_test_split\n",
    "from sklearn.ensemble import RandomForestClassifier\n",
    "from sklearn.metrics import accuracy_score"
   ]
  },
  {
   "cell_type": "markdown",
   "id": "06c8889b",
   "metadata": {},
   "source": [
    "Taking Train size = 0.80 & Test size = 0.2"
   ]
  },
  {
   "cell_type": "code",
   "execution_count": 87,
   "id": "dc8c29ea",
   "metadata": {},
   "outputs": [
    {
     "name": "stdout",
     "output_type": "stream",
     "text": [
      "0.9851190476190477 167\n"
     ]
    }
   ],
   "source": [
    "maxAccu=0\n",
    "maxRs=0\n",
    "for i in range(1,200):\n",
    "    x_train,x_test,y_train,y_test=train_test_split(x,y,test_size=0.20,random_state=i)\n",
    "    rfr=RandomForestClassifier()\n",
    "    rfr.fit(x_train,y_train)\n",
    "    pred=rfr.predict(x_test)\n",
    "    acc=accuracy_score(y_test,pred)\n",
    "    if acc>maxAccu:\n",
    "        maxAccu = acc\n",
    "        maxRs = i\n",
    "print(maxAccu, maxRs)"
   ]
  },
  {
   "cell_type": "markdown",
   "id": "39e7f2c1",
   "metadata": {},
   "source": [
    "Best accuracy of the model is 98 % at random state = 167."
   ]
  },
  {
   "cell_type": "code",
   "execution_count": 88,
   "id": "af8797c2",
   "metadata": {},
   "outputs": [],
   "source": [
    "#importing more models\n",
    "from sklearn.ensemble import RandomForestClassifier,ExtraTreesClassifier\n",
    "from sklearn.linear_model import LogisticRegression\n",
    "from sklearn.svm import SVC\n",
    "from sklearn.ensemble import GradientBoostingClassifier,AdaBoostClassifier, BaggingClassifier\n",
    "from sklearn.metrics import classification_report,confusion_matrix,roc_curve,accuracy_score\n",
    "from sklearn.model_selection import cross_val_score\n",
    "from sklearn.model_selection import train_test_split"
   ]
  },
  {
   "cell_type": "markdown",
   "id": "7d0ae1c3",
   "metadata": {},
   "source": [
    "Random Forest Classifier model at random state 167"
   ]
  },
  {
   "cell_type": "code",
   "execution_count": 89,
   "id": "557bf1ba",
   "metadata": {},
   "outputs": [
    {
     "name": "stdout",
     "output_type": "stream",
     "text": [
      "0.9761904761904762\n",
      "[[160   6]\n",
      " [  2 168]]\n",
      "              precision    recall  f1-score   support\n",
      "\n",
      "           0       0.99      0.96      0.98       166\n",
      "           1       0.97      0.99      0.98       170\n",
      "\n",
      "    accuracy                           0.98       336\n",
      "   macro avg       0.98      0.98      0.98       336\n",
      "weighted avg       0.98      0.98      0.98       336\n",
      "\n"
     ]
    }
   ],
   "source": [
    "x_train, x_test, y_train, y_test = train_test_split(x,y,test_size=0.20,random_state=maxRs)\n",
    "rfc=RandomForestClassifier()\n",
    "rfc.fit(x_train, y_train)\n",
    "prfc=rfc.predict(x_test)\n",
    "print(accuracy_score(y_test,prfc))\n",
    "print(confusion_matrix(y_test,prfc))\n",
    "print(classification_report(y_test,prfc))"
   ]
  },
  {
   "cell_type": "markdown",
   "id": "29622640",
   "metadata": {},
   "source": [
    "The model Accuracy is 97%."
   ]
  },
  {
   "cell_type": "markdown",
   "id": "016b0d33",
   "metadata": {},
   "source": [
    "Logistic regression model at random state 167"
   ]
  },
  {
   "cell_type": "code",
   "execution_count": 90,
   "id": "9b39e264",
   "metadata": {},
   "outputs": [
    {
     "name": "stdout",
     "output_type": "stream",
     "text": [
      "0.8630952380952381\n",
      "[[148  18]\n",
      " [ 28 142]]\n",
      "              precision    recall  f1-score   support\n",
      "\n",
      "           0       0.84      0.89      0.87       166\n",
      "           1       0.89      0.84      0.86       170\n",
      "\n",
      "    accuracy                           0.86       336\n",
      "   macro avg       0.86      0.86      0.86       336\n",
      "weighted avg       0.86      0.86      0.86       336\n",
      "\n"
     ]
    }
   ],
   "source": [
    "lr=LogisticRegression()\n",
    "x_train, x_test, y_train, y_test = train_test_split(x,y,test_size=0.20,random_state=maxRs)\n",
    "lr.fit(x_train, y_train, sample_weight=None)\n",
    "plr=lr.predict(x_test)\n",
    "print(accuracy_score(y_test,plr))\n",
    "print(confusion_matrix(y_test,plr))\n",
    "print(classification_report(y_test,plr))"
   ]
  },
  {
   "cell_type": "markdown",
   "id": "72ab938f",
   "metadata": {},
   "source": [
    "The model Accuracy is 86%."
   ]
  },
  {
   "cell_type": "markdown",
   "id": "14775c52",
   "metadata": {},
   "source": [
    "Support vector classifier"
   ]
  },
  {
   "cell_type": "code",
   "execution_count": 91,
   "id": "a3bba287",
   "metadata": {},
   "outputs": [
    {
     "name": "stdout",
     "output_type": "stream",
     "text": [
      "0.9315476190476191\n",
      "[[157   9]\n",
      " [ 14 156]]\n",
      "              precision    recall  f1-score   support\n",
      "\n",
      "           0       0.92      0.95      0.93       166\n",
      "           1       0.95      0.92      0.93       170\n",
      "\n",
      "    accuracy                           0.93       336\n",
      "   macro avg       0.93      0.93      0.93       336\n",
      "weighted avg       0.93      0.93      0.93       336\n",
      "\n"
     ]
    }
   ],
   "source": [
    "svc=SVC()\n",
    "svc.fit(x_train,y_train)\n",
    "psvc=svc.predict(x_test)\n",
    "print(accuracy_score(y_test,psvc))\n",
    "print(confusion_matrix(y_test,psvc))\n",
    "print(classification_report(y_test,psvc))"
   ]
  },
  {
   "cell_type": "markdown",
   "id": "0bcc0ab9",
   "metadata": {},
   "source": [
    "The model Accuracy is 93%."
   ]
  },
  {
   "cell_type": "markdown",
   "id": "a1db42a6",
   "metadata": {},
   "source": [
    "Gradient Boosting Classifier model"
   ]
  },
  {
   "cell_type": "code",
   "execution_count": 92,
   "id": "a963b02a",
   "metadata": {},
   "outputs": [
    {
     "name": "stdout",
     "output_type": "stream",
     "text": [
      "0.9494047619047619\n",
      "[[156  10]\n",
      " [  7 163]]\n",
      "              precision    recall  f1-score   support\n",
      "\n",
      "           0       0.96      0.94      0.95       166\n",
      "           1       0.94      0.96      0.95       170\n",
      "\n",
      "    accuracy                           0.95       336\n",
      "   macro avg       0.95      0.95      0.95       336\n",
      "weighted avg       0.95      0.95      0.95       336\n",
      "\n"
     ]
    }
   ],
   "source": [
    "gb=GradientBoostingClassifier()\n",
    "gb.fit(x_train,y_train)\n",
    "pgb=gb.predict(x_test)\n",
    "print(accuracy_score(y_test,pgb))\n",
    "print(confusion_matrix(y_test,pgb))\n",
    "print(classification_report(y_test,pgb))"
   ]
  },
  {
   "cell_type": "markdown",
   "id": "70c2aa2c",
   "metadata": {},
   "source": [
    "The model accuracy is 94%."
   ]
  },
  {
   "cell_type": "markdown",
   "id": "5f818ec6",
   "metadata": {},
   "source": [
    "Adaboosting Classifier model"
   ]
  },
  {
   "cell_type": "code",
   "execution_count": 93,
   "id": "f57b4576",
   "metadata": {},
   "outputs": [
    {
     "name": "stdout",
     "output_type": "stream",
     "text": [
      "0.9017857142857143\n",
      "[[157   9]\n",
      " [ 24 146]]\n",
      "              precision    recall  f1-score   support\n",
      "\n",
      "           0       0.87      0.95      0.90       166\n",
      "           1       0.94      0.86      0.90       170\n",
      "\n",
      "    accuracy                           0.90       336\n",
      "   macro avg       0.90      0.90      0.90       336\n",
      "weighted avg       0.91      0.90      0.90       336\n",
      "\n"
     ]
    }
   ],
   "source": [
    "abc=AdaBoostClassifier()\n",
    "abc.fit(x_train,y_train)\n",
    "pabc=abc.predict(x_test)\n",
    "print(accuracy_score(y_test,pabc))\n",
    "print(confusion_matrix(y_test,pabc))\n",
    "print(classification_report(y_test,pabc))"
   ]
  },
  {
   "cell_type": "markdown",
   "id": "7eddff53",
   "metadata": {},
   "source": [
    "The model accuracy is 90%"
   ]
  },
  {
   "cell_type": "markdown",
   "id": "4eb89d67",
   "metadata": {},
   "source": [
    "Bagging Classifier model"
   ]
  },
  {
   "cell_type": "code",
   "execution_count": 94,
   "id": "4cc7047f",
   "metadata": {},
   "outputs": [
    {
     "name": "stdout",
     "output_type": "stream",
     "text": [
      "0.9672619047619048\n",
      "[[162   4]\n",
      " [  7 163]]\n",
      "              precision    recall  f1-score   support\n",
      "\n",
      "           0       0.96      0.98      0.97       166\n",
      "           1       0.98      0.96      0.97       170\n",
      "\n",
      "    accuracy                           0.97       336\n",
      "   macro avg       0.97      0.97      0.97       336\n",
      "weighted avg       0.97      0.97      0.97       336\n",
      "\n"
     ]
    }
   ],
   "source": [
    "bc=BaggingClassifier()\n",
    "bc.fit(x_train,y_train)\n",
    "pbc=bc.predict(x_test)\n",
    "print(accuracy_score(y_test,pbc))\n",
    "print(confusion_matrix(y_test,pbc))\n",
    "print(classification_report(y_test,pbc))"
   ]
  },
  {
   "cell_type": "markdown",
   "id": "fabfe01f",
   "metadata": {},
   "source": [
    "The model accuracy is 96.7%."
   ]
  },
  {
   "cell_type": "markdown",
   "id": "6f3b5c8a",
   "metadata": {},
   "source": [
    "ExtraTreesClassifier model"
   ]
  },
  {
   "cell_type": "code",
   "execution_count": 95,
   "id": "3cd69e24",
   "metadata": {},
   "outputs": [
    {
     "name": "stdout",
     "output_type": "stream",
     "text": [
      "0.9880952380952381\n",
      "[[162   4]\n",
      " [  0 170]]\n",
      "              precision    recall  f1-score   support\n",
      "\n",
      "           0       1.00      0.98      0.99       166\n",
      "           1       0.98      1.00      0.99       170\n",
      "\n",
      "    accuracy                           0.99       336\n",
      "   macro avg       0.99      0.99      0.99       336\n",
      "weighted avg       0.99      0.99      0.99       336\n",
      "\n"
     ]
    }
   ],
   "source": [
    "etc=ExtraTreesClassifier()\n",
    "etc.fit(x_train,y_train)\n",
    "petc=etc.predict(x_test)\n",
    "print(accuracy_score(y_test,petc))\n",
    "print(confusion_matrix(y_test,petc))\n",
    "print(classification_report(y_test,petc))"
   ]
  },
  {
   "cell_type": "markdown",
   "id": "7508118e",
   "metadata": {},
   "source": [
    "The model accuracy is 98.80%."
   ]
  },
  {
   "cell_type": "markdown",
   "id": "f711002a",
   "metadata": {},
   "source": [
    "Selecting the Best model"
   ]
  },
  {
   "cell_type": "code",
   "execution_count": 96,
   "id": "1a2103f2",
   "metadata": {},
   "outputs": [],
   "source": [
    "from sklearn.model_selection import cross_val_score"
   ]
  },
  {
   "cell_type": "markdown",
   "id": "6a665c3b",
   "metadata": {},
   "source": [
    "For RFC"
   ]
  },
  {
   "cell_type": "code",
   "execution_count": 97,
   "id": "ba520687",
   "metadata": {},
   "outputs": [
    {
     "name": "stdout",
     "output_type": "stream",
     "text": [
      "[0.96428571 0.9047619  0.9375     0.86268657 0.89552239]\n",
      "0.9129513148542999\n",
      "Diff b/w Accuracy score & CV score  0.06323916133617624\n"
     ]
    }
   ],
   "source": [
    "scr=cross_val_score(rfc,x,y)\n",
    "print(scr)\n",
    "print(scr.mean())\n",
    "print('Diff b/w Accuracy score & CV score ', accuracy_score(y_test,prfc) - scr.mean())"
   ]
  },
  {
   "cell_type": "markdown",
   "id": "4a9f132a",
   "metadata": {},
   "source": [
    "For LR"
   ]
  },
  {
   "cell_type": "code",
   "execution_count": 98,
   "id": "01b5103d",
   "metadata": {},
   "outputs": [
    {
     "name": "stdout",
     "output_type": "stream",
     "text": [
      "[0.88690476 0.82142857 0.84821429 0.69552239 0.79701493]\n",
      "0.809816986496091\n",
      "Diff b/w Accuracy score & CV score  0.05327825159914712\n"
     ]
    }
   ],
   "source": [
    "scr=cross_val_score(lr,x,y)\n",
    "print(scr)\n",
    "print(scr.mean())\n",
    "print('Diff b/w Accuracy score & CV score ', accuracy_score(y_test,plr) - scr.mean())"
   ]
  },
  {
   "cell_type": "markdown",
   "id": "4a71ee6a",
   "metadata": {},
   "source": [
    "For SVC"
   ]
  },
  {
   "cell_type": "code",
   "execution_count": 99,
   "id": "e7da3bb3",
   "metadata": {},
   "outputs": [
    {
     "name": "stdout",
     "output_type": "stream",
     "text": [
      "[0.93452381 0.86309524 0.91964286 0.79402985 0.85970149]\n",
      "0.8741986496090973\n",
      "Diff b/w Accuracy score & CV score  0.057348969438521746\n"
     ]
    }
   ],
   "source": [
    "scr=cross_val_score(svc,x,y)\n",
    "print(scr)\n",
    "print(scr.mean())\n",
    "print('Diff b/w Accuracy score & CV score ', accuracy_score(y_test,psvc) - scr.mean())"
   ]
  },
  {
   "cell_type": "markdown",
   "id": "8fd07312",
   "metadata": {},
   "source": [
    "For GB"
   ]
  },
  {
   "cell_type": "code",
   "execution_count": 100,
   "id": "e3fb1733",
   "metadata": {},
   "outputs": [
    {
     "name": "stdout",
     "output_type": "stream",
     "text": [
      "[0.92261905 0.89880952 0.91071429 0.82686567 0.88358209]\n",
      "0.8885181236673775\n",
      "Diff b/w Accuracy score & CV score  0.06088663823738438\n"
     ]
    }
   ],
   "source": [
    "scr=cross_val_score(gb,x,y)\n",
    "print(scr)\n",
    "print(scr.mean())\n",
    "print('Diff b/w Accuracy score & CV score ', accuracy_score(y_test,pgb) - scr.mean())"
   ]
  },
  {
   "cell_type": "markdown",
   "id": "f65f46a2",
   "metadata": {},
   "source": [
    "For ABC"
   ]
  },
  {
   "cell_type": "code",
   "execution_count": 101,
   "id": "087c5624",
   "metadata": {},
   "outputs": [
    {
     "name": "stdout",
     "output_type": "stream",
     "text": [
      "[0.88095238 0.84821429 0.87797619 0.8        0.8358209 ]\n",
      "0.8485927505330488\n",
      "Diff b/w Accuracy score & CV score  0.05319296375266547\n"
     ]
    }
   ],
   "source": [
    "scr=cross_val_score(abc,x,y)\n",
    "print(scr)\n",
    "print(scr.mean())\n",
    "print('Diff b/w Accuracy score & CV score ', accuracy_score(y_test,pabc) - scr.mean())"
   ]
  },
  {
   "cell_type": "markdown",
   "id": "5281533e",
   "metadata": {},
   "source": [
    "For BC"
   ]
  },
  {
   "cell_type": "code",
   "execution_count": 102,
   "id": "7d91c8b9",
   "metadata": {},
   "outputs": [
    {
     "name": "stdout",
     "output_type": "stream",
     "text": [
      "[0.90178571 0.91071429 0.92857143 0.86567164 0.88955224]\n",
      "0.8992590618336888\n",
      "Diff b/w Accuracy score & CV score  0.06800284292821601\n"
     ]
    }
   ],
   "source": [
    "scr=cross_val_score(bc,x,y)\n",
    "print(scr)\n",
    "print(scr.mean())\n",
    "print('Diff b/w Accuracy score & CV score ', accuracy_score(y_test,pbc) - scr.mean())"
   ]
  },
  {
   "cell_type": "markdown",
   "id": "1cdc82b0",
   "metadata": {},
   "source": [
    "For ETC"
   ]
  },
  {
   "cell_type": "code",
   "execution_count": 103,
   "id": "2c5118c2",
   "metadata": {},
   "outputs": [
    {
     "name": "stdout",
     "output_type": "stream",
     "text": [
      "[0.99404762 0.91666667 0.94940476 0.88059701 0.92537313]\n",
      "0.9332178393745558\n",
      "Diff b/w Accuracy score & CV score  0.05487739872068231\n"
     ]
    }
   ],
   "source": [
    "scr=cross_val_score(etc,x,y)\n",
    "print(scr)\n",
    "print(scr.mean())\n",
    "print('Diff b/w Accuracy score & CV score ', accuracy_score(y_test,petc) - scr.mean())"
   ]
  },
  {
   "cell_type": "markdown",
   "id": "ce4e26dd",
   "metadata": {},
   "source": [
    "Bagging Classifier is the best model!"
   ]
  },
  {
   "cell_type": "markdown",
   "id": "5135c291",
   "metadata": {},
   "source": [
    "# Hyperparameter Tuning"
   ]
  },
  {
   "cell_type": "code",
   "execution_count": 104,
   "id": "56504cb4",
   "metadata": {},
   "outputs": [],
   "source": [
    "#importing GridseachCV for hyperparameter tuning\n",
    "from sklearn.model_selection import GridSearchCV"
   ]
  },
  {
   "cell_type": "code",
   "execution_count": 105,
   "id": "a9eca582",
   "metadata": {},
   "outputs": [],
   "source": [
    "#parameters for Bagging classifier model:\n",
    "parameters = {'n_estimators':[10,20,30],\n",
    "              'max_samples': [1,2,3],\n",
    "              'max_features':[1,2,3],\n",
    "              'bootstrap':[True,False],\n",
    "              'oob_score':[True,False],\n",
    "              'warm_start':[True,False],\n",
    "              'n_jobs':[-2,-1,1],\n",
    "              'random_state':[10,20,30,50,150,200],               \n",
    "             }"
   ]
  },
  {
   "cell_type": "code",
   "execution_count": 106,
   "id": "50371239",
   "metadata": {},
   "outputs": [],
   "source": [
    "#Cross validation cv=5\n",
    "GCV=GridSearchCV(BaggingClassifier(),parameters,cv=5)"
   ]
  },
  {
   "cell_type": "code",
   "execution_count": 107,
   "id": "fb0c85ab",
   "metadata": {},
   "outputs": [
    {
     "data": {
      "text/plain": [
       "GridSearchCV(cv=5, estimator=BaggingClassifier(),\n",
       "             param_grid={'bootstrap': [True, False], 'max_features': [1, 2, 3],\n",
       "                         'max_samples': [1, 2, 3], 'n_estimators': [10, 20, 30],\n",
       "                         'n_jobs': [-2, -1, 1], 'oob_score': [True, False],\n",
       "                         'random_state': [10, 20, 30, 50, 150, 200],\n",
       "                         'warm_start': [True, False]})"
      ]
     },
     "execution_count": 107,
     "metadata": {},
     "output_type": "execute_result"
    }
   ],
   "source": [
    "#running the training set in GridsearchCV\n",
    "GCV.fit(x_train,y_train)"
   ]
  },
  {
   "cell_type": "code",
   "execution_count": 108,
   "id": "4806ad2a",
   "metadata": {},
   "outputs": [
    {
     "data": {
      "text/plain": [
       "{'bootstrap': True,\n",
       " 'max_features': 3,\n",
       " 'max_samples': 3,\n",
       " 'n_estimators': 20,\n",
       " 'n_jobs': -2,\n",
       " 'oob_score': True,\n",
       " 'random_state': 200,\n",
       " 'warm_start': False}"
      ]
     },
     "execution_count": 108,
     "metadata": {},
     "output_type": "execute_result"
    }
   ],
   "source": [
    "#Finding the best parameters\n",
    "GCV.best_params_"
   ]
  },
  {
   "cell_type": "markdown",
   "id": "f0211036",
   "metadata": {},
   "source": [
    "These are the best parameters for the Bagging Classifier model."
   ]
  },
  {
   "cell_type": "code",
   "execution_count": 109,
   "id": "27a64cb6",
   "metadata": {},
   "outputs": [],
   "source": [
    "#Creating the final model\n",
    "Final_model=BaggingClassifier(bootstrap=True,max_features=3,max_samples=3,n_estimators=20,n_jobs=-2,oob_score=True,random_state=200,warm_start=False)"
   ]
  },
  {
   "cell_type": "code",
   "execution_count": 113,
   "id": "82921408",
   "metadata": {},
   "outputs": [
    {
     "data": {
      "text/plain": [
       "BaggingClassifier(max_features=3, max_samples=3, n_estimators=20, n_jobs=-2,\n",
       "                  oob_score=True, random_state=200)"
      ]
     },
     "execution_count": 113,
     "metadata": {},
     "output_type": "execute_result"
    }
   ],
   "source": [
    "#Training the final model\n",
    "Final_model.fit(x_train,y_train)"
   ]
  },
  {
   "cell_type": "code",
   "execution_count": 114,
   "id": "968d0518",
   "metadata": {},
   "outputs": [
    {
     "name": "stdout",
     "output_type": "stream",
     "text": [
      "74.10714285714286\n"
     ]
    }
   ],
   "source": [
    "#Final prediction\n",
    "Fp=Final_model.predict(x_test)\n",
    "acc=accuracy_score(y_test,Fp)\n",
    "print(acc*100)"
   ]
  },
  {
   "cell_type": "markdown",
   "id": "bfa4b404",
   "metadata": {},
   "source": [
    "The final prediciton model accuracy is 74.10%."
   ]
  },
  {
   "cell_type": "code",
   "execution_count": 120,
   "id": "653f3807",
   "metadata": {},
   "outputs": [],
   "source": [
    "from sklearn.metrics import roc_auc_score\n",
    "from sklearn.metrics import roc_curve,auc"
   ]
  },
  {
   "cell_type": "code",
   "execution_count": 123,
   "id": "9b9ccd8f",
   "metadata": {},
   "outputs": [
    {
     "data": {
      "image/png": "[encoded data removed]",
      "text/plain": [
       "<Figure size 432x288 with 1 Axes>"
      ]
     },
     "metadata": {
      "needs_background": "light"
     },
     "output_type": "display_data"
    },
    {
     "name": "stdout",
     "output_type": "stream",
     "text": [
      "Auc Score:  \n",
      " 0.7422041105598866\n"
     ]
    }
   ],
   "source": [
    "y_pred_prob = Final_model.predict_proba(x_test)[:,1]\n",
    "fpr,tpr,thresholds=roc_curve(y_test,y_pred_prob)\n",
    "roc_auc= auc(fpr,tpr)\n",
    "\n",
    "plt.plot([0,1],[0,1], 'k--')\n",
    "plt.plot(fpr,tpr,label='Bagging Classifier(area=%0.2f)'%roc_auc)\n",
    "plt.show()\n",
    "auc_score=roc_auc_score(y_test,Final_model.predict(x_test))\n",
    "print('Auc Score: ','\\n',auc_score)"
   ]
  },
  {
   "cell_type": "markdown",
   "id": "f6ca7f46",
   "metadata": {},
   "source": [
    "AUC score is closer to 1."
   ]
  },
  {
   "cell_type": "markdown",
   "id": "45b7542b",
   "metadata": {},
   "source": [
    "Plotting the ROC curve for our best model"
   ]
  },
  {
   "cell_type": "code",
   "execution_count": 134,
   "id": "eb3a17a2",
   "metadata": {},
   "outputs": [
    {
     "data": {
      "image/png": "[encoded data removed]",
      "text/plain": [
       "<Figure size 432x288 with 1 Axes>"
      ]
     },
     "metadata": {
      "needs_background": "light"
     },
     "output_type": "display_data"
    }
   ],
   "source": [
    "from sklearn.metrics import plot_roc_curve\n",
    "\n",
    "plot_roc_curve(Final_model,x_test,y_test)\n",
    "plt.title('ROC for the best model')\n",
    "plt.show()"
   ]
  },
  {
   "cell_type": "markdown",
   "id": "a4e92f9a",
   "metadata": {},
   "source": [
    "The AUC value of our best model is 84% "
   ]
  },
  {
   "cell_type": "code",
   "execution_count": 136,
   "id": "ad65d05e",
   "metadata": {},
   "outputs": [
    {
     "data": {
      "text/plain": [
       "['Project redwine.pkl']"
      ]
     },
     "execution_count": 136,
     "metadata": {},
     "output_type": "execute_result"
    }
   ],
   "source": [
    "#Saving our model\n",
    "import joblib\n",
    "joblib.dump(Final_model,'Project redwine.pkl')"
   ]
  },
  {
   "cell_type": "code",
   "execution_count": 138,
   "id": "8deb922b",
   "metadata": {},
   "outputs": [
    {
     "data": {
      "text/plain": [
       "array([0, 1, 0, 0, 0, 0, 1, 0, 0, 1, 0, 1, 0, 0, 0, 0, 0, 1, 0, 0, 0, 0,\n",
       "       1, 0, 0, 0, 0, 1, 0, 0, 0, 0, 1, 0, 1, 0, 0, 0, 1, 0, 0, 1, 0, 1,\n",
       "       0, 0, 0, 1, 1, 0, 0, 0, 0, 0, 0, 0, 0, 1, 1, 0, 0, 1, 1, 0, 0, 1,\n",
       "       1, 0, 0, 1, 1, 0, 0, 0, 1, 0, 1, 1, 0, 1, 0, 0, 0, 0, 1, 0, 0, 0,\n",
       "       1, 0, 1, 0, 1, 1, 0, 1, 0, 0, 1, 1, 0, 0, 1, 1, 1, 1, 0, 0, 0, 0,\n",
       "       0, 1, 1, 0, 1, 1, 0, 1, 0, 0, 0, 0, 0, 1, 1, 0, 0, 0, 0, 0, 1, 0,\n",
       "       0, 0, 0, 0, 1, 0, 1, 1, 0, 1, 1, 0, 1, 1, 1, 1, 0, 0, 0, 1, 1, 1,\n",
       "       1, 1, 1, 1, 0, 0, 0, 0, 0, 0, 0, 1, 1, 0, 1, 0, 0, 1, 1, 0, 0, 1,\n",
       "       0, 0, 1, 0, 0, 0, 0, 0, 1, 0, 0, 1, 0, 0, 0, 1, 1, 0, 0, 0, 1, 1,\n",
       "       0, 1, 0, 0, 0, 1, 0, 0, 0, 1, 1, 1, 1, 0, 0, 0, 0, 0, 0, 0, 1, 1,\n",
       "       0, 0, 0, 0, 0, 1, 1, 1, 1, 0, 0, 0, 1, 0, 0, 0, 1, 1, 0, 1, 1, 0,\n",
       "       0, 0, 1, 1, 0, 0, 1, 0, 1, 1, 1, 0, 1, 1, 0, 1, 1, 1, 1, 1, 0, 1,\n",
       "       0, 0, 1, 0, 1, 1, 0, 1, 0, 1, 1, 0, 0, 1, 0, 1, 1, 1, 0, 1, 0, 1,\n",
       "       1, 0, 0, 0, 0, 1, 0, 1, 0, 0, 0, 1, 0, 0, 1, 1, 1, 0, 1, 1, 1, 1,\n",
       "       0, 0, 0, 0, 1, 0, 1, 0, 1, 0, 0, 1, 0, 0, 0, 0, 0, 0, 1, 1, 1, 0,\n",
       "       0, 0, 0, 0, 1, 0], dtype=int64)"
      ]
     },
     "execution_count": 138,
     "metadata": {},
     "output_type": "execute_result"
    }
   ],
   "source": [
    "#checking if our saved model is working\n",
    "model = joblib.load('Project redwine.pkl')\n",
    "\n",
    "prediction=model.predict(x_test)\n",
    "prediction"
   ]
  }
 ],
 "metadata": {
  "kernelspec": {
   "display_name": "Python 3 (ipykernel)",
   "language": "python",
   "name": "python3"
  },
  "language_info": {
   "codemirror_mode": {
    "name": "ipython",
    "version": 3
   },
   "file_extension": ".py",
   "mimetype": "text/x-python",
   "name": "python",
   "nbconvert_exporter": "python",
   "pygments_lexer": "ipython3",
   "version": "3.9.12"
  }
 },
 "nbformat": 4,
 "nbformat_minor": 5
}
